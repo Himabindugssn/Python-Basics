{
  "nbformat": 4,
  "nbformat_minor": 0,
  "metadata": {
    "colab": {
      "name": "numpy.ipynb",
      "version": "0.3.2",
      "provenance": [],
      "collapsed_sections": [
        "tuhMFlDsAlx_",
        "rQWSiIccWaGg",
        "Cr96EzksxZwS",
        "y1qCLSJ6MwcK",
        "mk3t0CCQSo0Z",
        "HCoYWQA5Vo6K",
        "07p_r_A9VuOJ",
        "RRfbk04fZadY",
        "dPFWLGV5ZhBV",
        "gC71l6x9Z1Fb",
        "ix8-9x-fbA0w",
        "ScQ0466sb5VB",
        "mXcUjQwJfx-0",
        "61wOIn_Rg2_T",
        "BVsgMazpiLDJ",
        "OH5hEceliOEP",
        "9DSLgLrniQIQ",
        "7mBdsmZY5dWH",
        "u730CfM25i9q",
        "FLbti-_05o9k",
        "T3478D6T5r5s",
        "FpXv2GkQ6rCM",
        "KlrYuAE47zNH",
        "wrgLUNSC89dp",
        "r-3ay9vYDiwL",
        "ufgRgWFPoN7o",
        "LjtMa_D66hAJ"
      ],
      "include_colab_link": true
    },
    "kernelspec": {
      "name": "python3",
      "display_name": "Python 3"
    }
  },
  "cells": [
    {
      "cell_type": "markdown",
      "metadata": {
        "id": "view-in-github",
        "colab_type": "text"
      },
      "source": [
        "<a href=\"https://colab.research.google.com/github/Himabindugssn/Python-Basics/blob/master/numpy.ipynb\" target=\"_parent\"><img src=\"https://colab.research.google.com/assets/colab-badge.svg\" alt=\"Open In Colab\"/></a>"
      ]
    },
    {
      "cell_type": "code",
      "metadata": {
        "id": "9o43dxzV8q2D",
        "colab_type": "code",
        "colab": {}
      },
      "source": [
        "import numpy as np"
      ],
      "execution_count": 0,
      "outputs": []
    },
    {
      "cell_type": "markdown",
      "metadata": {
        "id": "tuhMFlDsAlx_",
        "colab_type": "text"
      },
      "source": [
        "##Array"
      ]
    },
    {
      "cell_type": "code",
      "metadata": {
        "id": "rtVl5Nii9On1",
        "colab_type": "code",
        "outputId": "1edfc00a-7745-4411-d7c8-0cbe1eb71ac0",
        "colab": {
          "base_uri": "https://localhost:8080/",
          "height": 180
        }
      },
      "source": [
        "arr_1=[1,2,3]\n",
        "arr_1+=1"
      ],
      "execution_count": 0,
      "outputs": [
        {
          "output_type": "error",
          "ename": "TypeError",
          "evalue": "ignored",
          "traceback": [
            "\u001b[0;31m---------------------------------------------------------------------------\u001b[0m",
            "\u001b[0;31mTypeError\u001b[0m                                 Traceback (most recent call last)",
            "\u001b[0;32m<ipython-input-5-9340643f4409>\u001b[0m in \u001b[0;36m<module>\u001b[0;34m()\u001b[0m\n\u001b[1;32m      1\u001b[0m \u001b[0marr_1\u001b[0m\u001b[0;34m=\u001b[0m\u001b[0;34m[\u001b[0m\u001b[0;36m1\u001b[0m\u001b[0;34m,\u001b[0m\u001b[0;36m2\u001b[0m\u001b[0;34m,\u001b[0m\u001b[0;36m3\u001b[0m\u001b[0;34m]\u001b[0m\u001b[0;34m\u001b[0m\u001b[0;34m\u001b[0m\u001b[0m\n\u001b[0;32m----> 2\u001b[0;31m \u001b[0marr_1\u001b[0m\u001b[0;34m+=\u001b[0m\u001b[0;36m1\u001b[0m\u001b[0;34m\u001b[0m\u001b[0;34m\u001b[0m\u001b[0m\n\u001b[0m",
            "\u001b[0;31mTypeError\u001b[0m: 'int' object is not iterable"
          ]
        }
      ]
    },
    {
      "cell_type": "code",
      "metadata": {
        "id": "ufRSRB3e99dG",
        "colab_type": "code",
        "colab": {}
      },
      "source": [
        "arr_2=np.array([1,2,3])\n",
        "arr_2+=1"
      ],
      "execution_count": 0,
      "outputs": []
    },
    {
      "cell_type": "code",
      "metadata": {
        "id": "r9fCzeRA-Cx_",
        "colab_type": "code",
        "outputId": "941681b3-2d1e-45c8-a2fd-96bc30aeedf6",
        "colab": {
          "base_uri": "https://localhost:8080/",
          "height": 34
        }
      },
      "source": [
        "arr_2"
      ],
      "execution_count": 0,
      "outputs": [
        {
          "output_type": "execute_result",
          "data": {
            "text/plain": [
              "array([2, 3, 4])"
            ]
          },
          "metadata": {
            "tags": []
          },
          "execution_count": 8
        }
      ]
    },
    {
      "cell_type": "code",
      "metadata": {
        "id": "-tayD1j_-GEX",
        "colab_type": "code",
        "outputId": "e3329a6c-be95-4f8c-ba63-b5c573d00075",
        "colab": {
          "base_uri": "https://localhost:8080/",
          "height": 34
        }
      },
      "source": [
        "arr_3=arr_2 +2\n",
        "arr_3"
      ],
      "execution_count": 0,
      "outputs": [
        {
          "output_type": "execute_result",
          "data": {
            "text/plain": [
              "array([4, 5, 6])"
            ]
          },
          "metadata": {
            "tags": []
          },
          "execution_count": 9
        }
      ]
    },
    {
      "cell_type": "code",
      "metadata": {
        "id": "dX1z0_tg-pnn",
        "colab_type": "code",
        "outputId": "85baf36b-d65c-40b4-f411-fff71a1f4c4f",
        "colab": {
          "base_uri": "https://localhost:8080/",
          "height": 34
        }
      },
      "source": [
        "arr_2*arr_3"
      ],
      "execution_count": 0,
      "outputs": [
        {
          "output_type": "execute_result",
          "data": {
            "text/plain": [
              "array([ 8, 15, 24])"
            ]
          },
          "metadata": {
            "tags": []
          },
          "execution_count": 10
        }
      ]
    },
    {
      "cell_type": "code",
      "metadata": {
        "id": "iHdV5u8B-uQM",
        "colab_type": "code",
        "outputId": "db3ae20d-d265-435a-9e81-a40aeec1ce6e",
        "colab": {
          "base_uri": "https://localhost:8080/",
          "height": 34
        }
      },
      "source": [
        "arr_2+arr_1"
      ],
      "execution_count": 0,
      "outputs": [
        {
          "output_type": "execute_result",
          "data": {
            "text/plain": [
              "array([3, 5, 7])"
            ]
          },
          "metadata": {
            "tags": []
          },
          "execution_count": 11
        }
      ]
    },
    {
      "cell_type": "code",
      "metadata": {
        "id": "7uPVpQr--wZo",
        "colab_type": "code",
        "outputId": "cc0065ff-aee9-48fb-b952-8188b442f6c3",
        "colab": {
          "base_uri": "https://localhost:8080/",
          "height": 34
        }
      },
      "source": [
        "arr_3[1]"
      ],
      "execution_count": 0,
      "outputs": [
        {
          "output_type": "execute_result",
          "data": {
            "text/plain": [
              "5"
            ]
          },
          "metadata": {
            "tags": []
          },
          "execution_count": 12
        }
      ]
    },
    {
      "cell_type": "markdown",
      "metadata": {
        "id": "Z25btTI4-8gn",
        "colab_type": "text"
      },
      "source": [
        "arrays behave like lists.."
      ]
    },
    {
      "cell_type": "code",
      "metadata": {
        "id": "mKh9s1dj-2g2",
        "colab_type": "code",
        "outputId": "9fd769d1-887f-44fa-d2c6-1786344bee55",
        "colab": {
          "base_uri": "https://localhost:8080/",
          "height": 34
        }
      },
      "source": [
        "arr_2.shape   #rows,columns"
      ],
      "execution_count": 0,
      "outputs": [
        {
          "output_type": "execute_result",
          "data": {
            "text/plain": [
              "(3,)"
            ]
          },
          "metadata": {
            "tags": []
          },
          "execution_count": 13
        }
      ]
    },
    {
      "cell_type": "code",
      "metadata": {
        "id": "s5vnASEz_HVe",
        "colab_type": "code",
        "outputId": "a8e6142d-8273-4777-ec12-f4d4d279210a",
        "colab": {
          "base_uri": "https://localhost:8080/",
          "height": 34
        }
      },
      "source": [
        "np.array([[1,2,3],[\"himu\"]])"
      ],
      "execution_count": 0,
      "outputs": [
        {
          "output_type": "execute_result",
          "data": {
            "text/plain": [
              "array([list([1, 2, 3]), list(['himu'])], dtype=object)"
            ]
          },
          "metadata": {
            "tags": []
          },
          "execution_count": 14
        }
      ]
    },
    {
      "cell_type": "code",
      "metadata": {
        "id": "lP0iqORnAUGv",
        "colab_type": "code",
        "outputId": "1139c1cd-9141-4ba1-c0e4-3400919cc380",
        "colab": {
          "base_uri": "https://localhost:8080/",
          "height": 34
        }
      },
      "source": [
        "l=[1,2,9,2,7]\n",
        "a=np.array(l)\n",
        "a"
      ],
      "execution_count": 0,
      "outputs": [
        {
          "output_type": "execute_result",
          "data": {
            "text/plain": [
              "array([1, 2, 9, 2, 7])"
            ]
          },
          "metadata": {
            "tags": []
          },
          "execution_count": 15
        }
      ]
    },
    {
      "cell_type": "code",
      "metadata": {
        "id": "ePKmzwnJBFwy",
        "colab_type": "code",
        "outputId": "c3acaa0b-d35d-4fcd-ff9d-a784c23e9fe0",
        "colab": {
          "base_uri": "https://localhost:8080/",
          "height": 34
        }
      },
      "source": [
        "type(l)"
      ],
      "execution_count": 0,
      "outputs": [
        {
          "output_type": "execute_result",
          "data": {
            "text/plain": [
              "list"
            ]
          },
          "metadata": {
            "tags": []
          },
          "execution_count": 16
        }
      ]
    },
    {
      "cell_type": "code",
      "metadata": {
        "id": "PunFx40pBNfG",
        "colab_type": "code",
        "outputId": "080fa5cd-64d3-4373-c6b6-bae023b0cc9b",
        "colab": {
          "base_uri": "https://localhost:8080/",
          "height": 34
        }
      },
      "source": [
        "type(a)"
      ],
      "execution_count": 0,
      "outputs": [
        {
          "output_type": "execute_result",
          "data": {
            "text/plain": [
              "numpy.ndarray"
            ]
          },
          "metadata": {
            "tags": []
          },
          "execution_count": 17
        }
      ]
    },
    {
      "cell_type": "code",
      "metadata": {
        "id": "W_q5CO5tBOwW",
        "colab_type": "code",
        "outputId": "eb2435bb-cf2f-4cf3-f490-9d8c3259c7f3",
        "colab": {
          "base_uri": "https://localhost:8080/",
          "height": 34
        }
      },
      "source": [
        "a.dtype"
      ],
      "execution_count": 0,
      "outputs": [
        {
          "output_type": "execute_result",
          "data": {
            "text/plain": [
              "dtype('int64')"
            ]
          },
          "metadata": {
            "tags": []
          },
          "execution_count": 18
        }
      ]
    },
    {
      "cell_type": "code",
      "metadata": {
        "id": "HYFDkal3MVAo",
        "colab_type": "code",
        "outputId": "38773056-5c05-4279-bf0b-588b33711800",
        "colab": {
          "base_uri": "https://localhost:8080/",
          "height": 34
        }
      },
      "source": [
        "b=np.array([1,2,\"a\",5])\n",
        "b.dtype"
      ],
      "execution_count": 0,
      "outputs": [
        {
          "output_type": "execute_result",
          "data": {
            "text/plain": [
              "dtype('<U21')"
            ]
          },
          "metadata": {
            "tags": []
          },
          "execution_count": 19
        }
      ]
    },
    {
      "cell_type": "code",
      "metadata": {
        "id": "ZUvmyaWMMzMD",
        "colab_type": "code",
        "outputId": "7d63d32a-2737-4342-eef4-6b02aba75a99",
        "colab": {
          "base_uri": "https://localhost:8080/",
          "height": 34
        }
      },
      "source": [
        "b.size"
      ],
      "execution_count": 0,
      "outputs": [
        {
          "output_type": "execute_result",
          "data": {
            "text/plain": [
              "4"
            ]
          },
          "metadata": {
            "tags": []
          },
          "execution_count": 20
        }
      ]
    },
    {
      "cell_type": "code",
      "metadata": {
        "id": "psNyWySXRA6E",
        "colab_type": "code",
        "outputId": "af1a725d-cc76-44ae-b209-29674ec3bc8a",
        "colab": {
          "base_uri": "https://localhost:8080/",
          "height": 34
        }
      },
      "source": [
        "b.shape"
      ],
      "execution_count": 0,
      "outputs": [
        {
          "output_type": "execute_result",
          "data": {
            "text/plain": [
              "(4,)"
            ]
          },
          "metadata": {
            "tags": []
          },
          "execution_count": 21
        }
      ]
    },
    {
      "cell_type": "code",
      "metadata": {
        "id": "juUL6bULVLIK",
        "colab_type": "code",
        "outputId": "2f712960-bc6b-481d-8510-f8f2b3d51826",
        "colab": {
          "base_uri": "https://localhost:8080/",
          "height": 34
        }
      },
      "source": [
        "b.ndim  #dimension of array"
      ],
      "execution_count": 0,
      "outputs": [
        {
          "output_type": "execute_result",
          "data": {
            "text/plain": [
              "1"
            ]
          },
          "metadata": {
            "tags": []
          },
          "execution_count": 34
        }
      ]
    },
    {
      "cell_type": "code",
      "metadata": {
        "id": "cDscgnTNVa0Q",
        "colab_type": "code",
        "outputId": "c4fc415c-2c3c-423f-e575-b3ac1b33bb9a",
        "colab": {
          "base_uri": "https://localhost:8080/",
          "height": 34
        }
      },
      "source": [
        "b.fill(2)  #fills the array i.e. replaces all the elements of the array with the given argument\n",
        "b"
      ],
      "execution_count": 0,
      "outputs": [
        {
          "output_type": "execute_result",
          "data": {
            "text/plain": [
              "array(['2', '2', '2', '2'], dtype='<U21')"
            ]
          },
          "metadata": {
            "tags": []
          },
          "execution_count": 37
        }
      ]
    },
    {
      "cell_type": "markdown",
      "metadata": {
        "id": "rQWSiIccWaGg",
        "colab_type": "text"
      },
      "source": [
        "##Indexing of matrices"
      ]
    },
    {
      "cell_type": "code",
      "metadata": {
        "id": "8a0t4r8tVb5W",
        "colab_type": "code",
        "outputId": "9e251ca2-75ab-47db-ac05-a7c136444195",
        "colab": {
          "base_uri": "https://localhost:8080/",
          "height": 51
        }
      },
      "source": [
        "m=np.array([[1,2,3],\n",
        "            [4,5,6],\n",
        "           ])\n",
        "m"
      ],
      "execution_count": 0,
      "outputs": [
        {
          "output_type": "execute_result",
          "data": {
            "text/plain": [
              "array([[1, 2, 3],\n",
              "       [4, 5, 6]])"
            ]
          },
          "metadata": {
            "tags": []
          },
          "execution_count": 39
        }
      ]
    },
    {
      "cell_type": "code",
      "metadata": {
        "id": "eJVTkQ9-XV3F",
        "colab_type": "code",
        "outputId": "29f846c6-e354-48d0-eabe-eecf5d677868",
        "colab": {
          "base_uri": "https://localhost:8080/",
          "height": 34
        }
      },
      "source": [
        "m.shape"
      ],
      "execution_count": 0,
      "outputs": [
        {
          "output_type": "execute_result",
          "data": {
            "text/plain": [
              "(2, 3)"
            ]
          },
          "metadata": {
            "tags": []
          },
          "execution_count": 40
        }
      ]
    },
    {
      "cell_type": "code",
      "metadata": {
        "id": "zB3AKxx_XcUi",
        "colab_type": "code",
        "outputId": "0953625e-898d-4aa5-d1a4-290dbdc2fc62",
        "colab": {
          "base_uri": "https://localhost:8080/",
          "height": 34
        }
      },
      "source": [
        "m.size  #2*3"
      ],
      "execution_count": 0,
      "outputs": [
        {
          "output_type": "execute_result",
          "data": {
            "text/plain": [
              "6"
            ]
          },
          "metadata": {
            "tags": []
          },
          "execution_count": 41
        }
      ]
    },
    {
      "cell_type": "code",
      "metadata": {
        "id": "Swzn11ggXdmm",
        "colab_type": "code",
        "outputId": "3d0ba558-2796-428e-ce1c-693b033ba178",
        "colab": {
          "base_uri": "https://localhost:8080/",
          "height": 34
        }
      },
      "source": [
        "m.ndim #matrix is a 2D array"
      ],
      "execution_count": 0,
      "outputs": [
        {
          "output_type": "execute_result",
          "data": {
            "text/plain": [
              "2"
            ]
          },
          "metadata": {
            "tags": []
          },
          "execution_count": 43
        }
      ]
    },
    {
      "cell_type": "code",
      "metadata": {
        "id": "shFz12FUXe3b",
        "colab_type": "code",
        "outputId": "a363ebc4-c72c-4820-d1c3-1b79dbdf115f",
        "colab": {
          "base_uri": "https://localhost:8080/",
          "height": 34
        }
      },
      "source": [
        "#for getting \"3\" in m matrix:\n",
        "m[0][2]"
      ],
      "execution_count": 0,
      "outputs": [
        {
          "output_type": "execute_result",
          "data": {
            "text/plain": [
              "3"
            ]
          },
          "metadata": {
            "tags": []
          },
          "execution_count": 44
        }
      ]
    },
    {
      "cell_type": "code",
      "metadata": {
        "id": "KFls1IFdbOGV",
        "colab_type": "code",
        "outputId": "20ed4d3e-e1eb-467c-c93e-fb9c25082e05",
        "colab": {
          "base_uri": "https://localhost:8080/",
          "height": 51
        }
      },
      "source": [
        "m[0][2]=90\n",
        "m"
      ],
      "execution_count": 0,
      "outputs": [
        {
          "output_type": "execute_result",
          "data": {
            "text/plain": [
              "array([[ 1,  2, 90],\n",
              "       [ 4,  5,  6]])"
            ]
          },
          "metadata": {
            "tags": []
          },
          "execution_count": 45
        }
      ]
    },
    {
      "cell_type": "code",
      "metadata": {
        "id": "Mt36kVMZb2Js",
        "colab_type": "code",
        "outputId": "8161c938-b901-476e-8c22-65ed1e8c6dca",
        "colab": {
          "base_uri": "https://localhost:8080/",
          "height": 68
        }
      },
      "source": [
        "n=np.array([[1,2,3],\n",
        "            [4,5,6],\n",
        "            [7,8,9]])\n",
        "n"
      ],
      "execution_count": 0,
      "outputs": [
        {
          "output_type": "execute_result",
          "data": {
            "text/plain": [
              "array([[1, 2, 3],\n",
              "       [4, 5, 6],\n",
              "       [7, 8, 9]])"
            ]
          },
          "metadata": {
            "tags": []
          },
          "execution_count": 46
        }
      ]
    },
    {
      "cell_type": "code",
      "metadata": {
        "id": "PncQce8scPAf",
        "colab_type": "code",
        "outputId": "39ee6807-a8d7-4855-983d-0adaf903011d",
        "colab": {
          "base_uri": "https://localhost:8080/",
          "height": 34
        }
      },
      "source": [
        "n[1]  #2nd row(0-1st row;1-2nd row)"
      ],
      "execution_count": 0,
      "outputs": [
        {
          "output_type": "execute_result",
          "data": {
            "text/plain": [
              "array([4, 5, 6])"
            ]
          },
          "metadata": {
            "tags": []
          },
          "execution_count": 47
        }
      ]
    },
    {
      "cell_type": "code",
      "metadata": {
        "id": "gA9Mdg8FcSqi",
        "colab_type": "code",
        "outputId": "ca369f5c-3f56-4daf-8897-44a1a44b758d",
        "colab": {
          "base_uri": "https://localhost:8080/",
          "height": 34
        }
      },
      "source": [
        "n[:,2] #3rd column([:,0]-1st column ); ':' colon - takes all the rows, 2 takes 3rd element of all rows"
      ],
      "execution_count": 0,
      "outputs": [
        {
          "output_type": "execute_result",
          "data": {
            "text/plain": [
              "array([3, 6, 9])"
            ]
          },
          "metadata": {
            "tags": []
          },
          "execution_count": 49
        }
      ]
    },
    {
      "cell_type": "code",
      "metadata": {
        "id": "1tZ_qtxtcgXY",
        "colab_type": "code",
        "outputId": "6eb2982f-78e4-4223-ab7c-4b8087e0058c",
        "colab": {
          "base_uri": "https://localhost:8080/",
          "height": 34
        }
      },
      "source": [
        "#for printing first two elements of the 2nd row\n",
        "n[1,0:2]"
      ],
      "execution_count": 0,
      "outputs": [
        {
          "output_type": "execute_result",
          "data": {
            "text/plain": [
              "array([4, 5])"
            ]
          },
          "metadata": {
            "tags": []
          },
          "execution_count": 51
        }
      ]
    },
    {
      "cell_type": "markdown",
      "metadata": {
        "id": "Cr96EzksxZwS",
        "colab_type": "text"
      },
      "source": [
        "##Copy , Arange and Random"
      ]
    },
    {
      "cell_type": "markdown",
      "metadata": {
        "id": "bBqu_5ifD7QQ",
        "colab_type": "text"
      },
      "source": [
        "###COPY"
      ]
    },
    {
      "cell_type": "code",
      "metadata": {
        "id": "GxJUVpoSxA9L",
        "colab_type": "code",
        "colab": {}
      },
      "source": [
        "p=np.array([[1,2,3],\n",
        "            [4,5,6],\n",
        "            [7,8,9]])"
      ],
      "execution_count": 0,
      "outputs": []
    },
    {
      "cell_type": "code",
      "metadata": {
        "id": "8qQ78b01DK1z",
        "colab_type": "code",
        "outputId": "43c57fee-16e0-4270-b8ea-6c0b7d4d601f",
        "colab": {
          "base_uri": "https://localhost:8080/",
          "height": 68
        }
      },
      "source": [
        "p"
      ],
      "execution_count": 0,
      "outputs": [
        {
          "output_type": "execute_result",
          "data": {
            "text/plain": [
              "array([[1, 2, 3],\n",
              "       [4, 5, 6],\n",
              "       [7, 8, 9]])"
            ]
          },
          "metadata": {
            "tags": []
          },
          "execution_count": 5
        }
      ]
    },
    {
      "cell_type": "code",
      "metadata": {
        "id": "z5m_3CbEDMi_",
        "colab_type": "code",
        "outputId": "971f8fda-5b94-40c0-b442-cd8ebb22c21e",
        "colab": {
          "base_uri": "https://localhost:8080/",
          "height": 68
        }
      },
      "source": [
        "p2=p\n",
        "p2"
      ],
      "execution_count": 0,
      "outputs": [
        {
          "output_type": "execute_result",
          "data": {
            "text/plain": [
              "array([[1, 2, 3],\n",
              "       [4, 5, 6],\n",
              "       [7, 8, 9]])"
            ]
          },
          "metadata": {
            "tags": []
          },
          "execution_count": 6
        }
      ]
    },
    {
      "cell_type": "code",
      "metadata": {
        "id": "CUa-CLKMCNRX",
        "colab_type": "code",
        "outputId": "dfd6c44a-e7f5-4b1a-9b26-72669a4f650d",
        "colab": {
          "base_uri": "https://localhost:8080/",
          "height": 68
        }
      },
      "source": [
        "#change the (1,2) element from 6 to 600\n",
        "p2[1,2]=600\n",
        "p2"
      ],
      "execution_count": 0,
      "outputs": [
        {
          "output_type": "execute_result",
          "data": {
            "text/plain": [
              "array([[  1,   2,   3],\n",
              "       [  4,   5, 600],\n",
              "       [  7,   8,   9]])"
            ]
          },
          "metadata": {
            "tags": []
          },
          "execution_count": 7
        }
      ]
    },
    {
      "cell_type": "code",
      "metadata": {
        "id": "I_8_pSBDCmiC",
        "colab_type": "code",
        "outputId": "1e7af648-b5ee-49b2-da0f-a9d7f13c27ea",
        "colab": {
          "base_uri": "https://localhost:8080/",
          "height": 68
        }
      },
      "source": [
        "p"
      ],
      "execution_count": 0,
      "outputs": [
        {
          "output_type": "execute_result",
          "data": {
            "text/plain": [
              "array([[  1,   2,   3],\n",
              "       [  4,   5, 600],\n",
              "       [  7,   8,   9]])"
            ]
          },
          "metadata": {
            "tags": []
          },
          "execution_count": 8
        }
      ]
    },
    {
      "cell_type": "markdown",
      "metadata": {
        "id": "Dv4dkSscCo4F",
        "colab_type": "text"
      },
      "source": [
        "This shows that a change in p2 also created change in p. This means that p hasn't been copied to p2 but both p &p2 have same ID value with different names.So to copy a matrix do the following:"
      ]
    },
    {
      "cell_type": "code",
      "metadata": {
        "id": "Tc_O81fvCn0J",
        "colab_type": "code",
        "outputId": "1856ade5-5862-4f08-80b0-de80b14925b0",
        "colab": {
          "base_uri": "https://localhost:8080/",
          "height": 68
        }
      },
      "source": [
        "pc=p.copy()\n",
        "pc"
      ],
      "execution_count": 0,
      "outputs": [
        {
          "output_type": "execute_result",
          "data": {
            "text/plain": [
              "array([[  1,   2,   3],\n",
              "       [  4,   5, 600],\n",
              "       [  7,   8,   9]])"
            ]
          },
          "metadata": {
            "tags": []
          },
          "execution_count": 9
        }
      ]
    },
    {
      "cell_type": "code",
      "metadata": {
        "id": "qkttmqYADMTQ",
        "colab_type": "code",
        "outputId": "ad05c76a-be8a-47a8-bba5-c3966cd54007",
        "colab": {
          "base_uri": "https://localhost:8080/",
          "height": 68
        }
      },
      "source": [
        "pc[1,2]=90\n",
        "pc"
      ],
      "execution_count": 0,
      "outputs": [
        {
          "output_type": "execute_result",
          "data": {
            "text/plain": [
              "array([[ 1,  2,  3],\n",
              "       [ 4,  5, 90],\n",
              "       [ 7,  8,  9]])"
            ]
          },
          "metadata": {
            "tags": []
          },
          "execution_count": 10
        }
      ]
    },
    {
      "cell_type": "code",
      "metadata": {
        "id": "cfjk5ksvDSTm",
        "colab_type": "code",
        "outputId": "cdb30fc8-11d4-4649-c605-b1ba5f8710ce",
        "colab": {
          "base_uri": "https://localhost:8080/",
          "height": 68
        }
      },
      "source": [
        "p"
      ],
      "execution_count": 0,
      "outputs": [
        {
          "output_type": "execute_result",
          "data": {
            "text/plain": [
              "array([[  1,   2,   3],\n",
              "       [  4,   5, 600],\n",
              "       [  7,   8,   9]])"
            ]
          },
          "metadata": {
            "tags": []
          },
          "execution_count": 11
        }
      ]
    },
    {
      "cell_type": "markdown",
      "metadata": {
        "id": "TDkLf6dyDn5J",
        "colab_type": "text"
      },
      "source": [
        "Hence p has been successfully copied to pc"
      ]
    },
    {
      "cell_type": "markdown",
      "metadata": {
        "id": "hy_rqkwDD-98",
        "colab_type": "text"
      },
      "source": [
        "###Arange"
      ]
    },
    {
      "cell_type": "code",
      "metadata": {
        "id": "tkydpejMDTCp",
        "colab_type": "code",
        "outputId": "5d2816ae-3bfd-4dc8-d5fc-4aede8089b44",
        "colab": {
          "base_uri": "https://localhost:8080/",
          "height": 34
        }
      },
      "source": [
        "ar=np.arange(0,100,20)  #This is read as from 0 to 100 every 20th number.\n",
        "ar                      #arange is read as 'a' 'range'"
      ],
      "execution_count": 0,
      "outputs": [
        {
          "output_type": "execute_result",
          "data": {
            "text/plain": [
              "array([ 0, 20, 40, 60, 80])"
            ]
          },
          "metadata": {
            "tags": []
          },
          "execution_count": 13
        }
      ]
    },
    {
      "cell_type": "markdown",
      "metadata": {
        "id": "GmLNBSgZMtnC",
        "colab_type": "text"
      },
      "source": [
        "###Random"
      ]
    },
    {
      "cell_type": "code",
      "metadata": {
        "id": "HRRxwpiGEEgk",
        "colab_type": "code",
        "outputId": "4be23db2-611c-4aa2-b398-eb9c2fd01b7f",
        "colab": {
          "base_uri": "https://localhost:8080/",
          "height": 51
        }
      },
      "source": [
        "mn=np.random.rand(10)  #random.rand(20) - means generates 20 numbers in b|w 0 and 1\n",
        "mn"
      ],
      "execution_count": 0,
      "outputs": [
        {
          "output_type": "execute_result",
          "data": {
            "text/plain": [
              "array([0.23771212, 0.20106805, 0.61506417, 0.59696264, 0.81172652,\n",
              "       0.13811438, 0.7946882 , 0.47270776, 0.32381735, 0.77784817])"
            ]
          },
          "metadata": {
            "tags": []
          },
          "execution_count": 14
        }
      ]
    },
    {
      "cell_type": "markdown",
      "metadata": {
        "id": "y1qCLSJ6MwcK",
        "colab_type": "text"
      },
      "source": [
        "##Data type and Conversion"
      ]
    },
    {
      "cell_type": "code",
      "metadata": {
        "id": "toN-DTj0McP8",
        "colab_type": "code",
        "outputId": "13f4c2a0-c2a8-4c7d-ae1e-840edd72c88a",
        "colab": {
          "base_uri": "https://localhost:8080/",
          "height": 34
        }
      },
      "source": [
        "t=np.array([1,2,3],dtype=np.float64)\n",
        "t"
      ],
      "execution_count": 0,
      "outputs": [
        {
          "output_type": "execute_result",
          "data": {
            "text/plain": [
              "array([1., 2., 3.])"
            ]
          },
          "metadata": {
            "tags": []
          },
          "execution_count": 15
        }
      ]
    },
    {
      "cell_type": "code",
      "metadata": {
        "id": "Uh9XSihFNWPg",
        "colab_type": "code",
        "outputId": "cda67255-b836-4f5e-e998-3205ea50acbe",
        "colab": {
          "base_uri": "https://localhost:8080/",
          "height": 34
        }
      },
      "source": [
        "t.nbytes"
      ],
      "execution_count": 0,
      "outputs": [
        {
          "output_type": "execute_result",
          "data": {
            "text/plain": [
              "24"
            ]
          },
          "metadata": {
            "tags": []
          },
          "execution_count": 16
        }
      ]
    },
    {
      "cell_type": "markdown",
      "metadata": {
        "id": "w8vFY6gKNft7",
        "colab_type": "text"
      },
      "source": [
        "24/3= 8. Each number took 8 bytes"
      ]
    },
    {
      "cell_type": "code",
      "metadata": {
        "id": "DMAepMbZNdpJ",
        "colab_type": "code",
        "outputId": "94cab35b-71fc-45d7-9997-87c8989f21e9",
        "colab": {
          "base_uri": "https://localhost:8080/",
          "height": 34
        }
      },
      "source": [
        "t1=np.array([1,2,3],dtype=np.float32)\n",
        "t1"
      ],
      "execution_count": 0,
      "outputs": [
        {
          "output_type": "execute_result",
          "data": {
            "text/plain": [
              "array([1., 2., 3.], dtype=float32)"
            ]
          },
          "metadata": {
            "tags": []
          },
          "execution_count": 19
        }
      ]
    },
    {
      "cell_type": "code",
      "metadata": {
        "id": "hw_gEs6hNlhw",
        "colab_type": "code",
        "outputId": "33fffbc4-1433-43f8-9e0c-a68beb2244e5",
        "colab": {
          "base_uri": "https://localhost:8080/",
          "height": 34
        }
      },
      "source": [
        "t1.nbytes"
      ],
      "execution_count": 0,
      "outputs": [
        {
          "output_type": "execute_result",
          "data": {
            "text/plain": [
              "12"
            ]
          },
          "metadata": {
            "tags": []
          },
          "execution_count": 20
        }
      ]
    },
    {
      "cell_type": "markdown",
      "metadata": {
        "id": "BcvFQPQQNze9",
        "colab_type": "text"
      },
      "source": [
        "12/3= 4 bytes per number. 32 bit consumes less memory than 64 bits"
      ]
    },
    {
      "cell_type": "code",
      "metadata": {
        "id": "OjrQ_6q6NyJU",
        "colab_type": "code",
        "outputId": "497fa9c8-ce69-4540-bda1-1deb6db5325a",
        "colab": {
          "base_uri": "https://localhost:8080/",
          "height": 34
        }
      },
      "source": [
        "h=np.array([1,\"2\",9.0,\"himu\"])\n",
        "h"
      ],
      "execution_count": 0,
      "outputs": [
        {
          "output_type": "execute_result",
          "data": {
            "text/plain": [
              "array(['1', '2', '9.0', 'himu'], dtype='<U21')"
            ]
          },
          "metadata": {
            "tags": []
          },
          "execution_count": 21
        }
      ]
    },
    {
      "cell_type": "code",
      "metadata": {
        "id": "4DV0L49mObwm",
        "colab_type": "code",
        "outputId": "3dab4465-b145-483f-f3b5-4438e66567fa",
        "colab": {
          "base_uri": "https://localhost:8080/",
          "height": 34
        }
      },
      "source": [
        "hnew=np.array([1,\"2\",9.0,\"himu\"],dtype=np.object)\n",
        "hnew"
      ],
      "execution_count": 0,
      "outputs": [
        {
          "output_type": "execute_result",
          "data": {
            "text/plain": [
              "array([1, '2', 9.0, 'himu'], dtype=object)"
            ]
          },
          "metadata": {
            "tags": []
          },
          "execution_count": 25
        }
      ]
    },
    {
      "cell_type": "code",
      "metadata": {
        "id": "megwlmNPOlYm",
        "colab_type": "code",
        "outputId": "0815604e-32a0-431d-8f61-22121a30b40a",
        "colab": {
          "base_uri": "https://localhost:8080/",
          "height": 183
        }
      },
      "source": [
        "h*3"
      ],
      "execution_count": 0,
      "outputs": [
        {
          "output_type": "error",
          "ename": "TypeError",
          "evalue": "ignored",
          "traceback": [
            "\u001b[0;31m---------------------------------------------------------------------------\u001b[0m",
            "\u001b[0;31mTypeError\u001b[0m                                 Traceback (most recent call last)",
            "\u001b[0;32m<ipython-input-26-de6cf2b512ee>\u001b[0m in \u001b[0;36m<module>\u001b[0;34m()\u001b[0m\n\u001b[0;32m----> 1\u001b[0;31m \u001b[0mh\u001b[0m\u001b[0;34m*\u001b[0m\u001b[0;36m3\u001b[0m\u001b[0;34m\u001b[0m\u001b[0;34m\u001b[0m\u001b[0m\n\u001b[0m",
            "\u001b[0;31mTypeError\u001b[0m: ufunc 'multiply' did not contain a loop with signature matching types dtype('<U21') dtype('<U21') dtype('<U21')"
          ]
        }
      ]
    },
    {
      "cell_type": "code",
      "metadata": {
        "id": "MyzYfUNhOnbs",
        "colab_type": "code",
        "outputId": "13cda3a5-20c1-42d9-8a5e-2396912374d3",
        "colab": {
          "base_uri": "https://localhost:8080/",
          "height": 34
        }
      },
      "source": [
        "hnew*3\n"
      ],
      "execution_count": 0,
      "outputs": [
        {
          "output_type": "execute_result",
          "data": {
            "text/plain": [
              "array([3, '222', 27.0, 'himuhimuhimu'], dtype=object)"
            ]
          },
          "metadata": {
            "tags": []
          },
          "execution_count": 27
        }
      ]
    },
    {
      "cell_type": "markdown",
      "metadata": {
        "id": "HFO1MLW4O1hK",
        "colab_type": "text"
      },
      "source": [
        "dtype = object keeps the element as it is without forcibly changing the datatype. Hence * 3 is operated on every element of hnew but not h.\n"
      ]
    },
    {
      "cell_type": "markdown",
      "metadata": {
        "id": "eNtHqKsLSBZa",
        "colab_type": "text"
      },
      "source": [
        "np.float32/64 for integers; np.object for array with elements of (various) types of data."
      ]
    },
    {
      "cell_type": "markdown",
      "metadata": {
        "id": "mk3t0CCQSo0Z",
        "colab_type": "text"
      },
      "source": [
        "##Mathematical Functions"
      ]
    },
    {
      "cell_type": "markdown",
      "metadata": {
        "id": "HCoYWQA5Vo6K",
        "colab_type": "text"
      },
      "source": [
        "###np.sum()"
      ]
    },
    {
      "cell_type": "code",
      "metadata": {
        "id": "vFJWbm9_OpHO",
        "colab_type": "code",
        "outputId": "3c3a4484-6292-4120-e373-f6421a2cc06d",
        "colab": {
          "base_uri": "https://localhost:8080/",
          "height": 51
        }
      },
      "source": [
        "aa=np.array([[1,2,3],[4,5,6]])\n",
        "aa"
      ],
      "execution_count": 0,
      "outputs": [
        {
          "output_type": "execute_result",
          "data": {
            "text/plain": [
              "array([[1, 2, 3],\n",
              "       [4, 5, 6]])"
            ]
          },
          "metadata": {
            "tags": []
          },
          "execution_count": 45
        }
      ]
    },
    {
      "cell_type": "code",
      "metadata": {
        "id": "lZG81sBzS-AA",
        "colab_type": "code",
        "outputId": "b97359d9-2c48-45c0-9e74-ae689f804a6f",
        "colab": {
          "base_uri": "https://localhost:8080/",
          "height": 34
        }
      },
      "source": [
        "np.sum(aa)"
      ],
      "execution_count": 0,
      "outputs": [
        {
          "output_type": "execute_result",
          "data": {
            "text/plain": [
              "21.0"
            ]
          },
          "metadata": {
            "tags": []
          },
          "execution_count": 44
        }
      ]
    },
    {
      "cell_type": "markdown",
      "metadata": {
        "id": "99BfcEhTTISo",
        "colab_type": "text"
      },
      "source": [
        "np.sum(array) prints the sum of all elements: 1+2+3+4+5+6=21 in the above eg."
      ]
    },
    {
      "cell_type": "code",
      "metadata": {
        "id": "cY7__2qdTHCh",
        "colab_type": "code",
        "outputId": "17afcadc-edbb-4e1e-eec0-c8ecc0268451",
        "colab": {
          "base_uri": "https://localhost:8080/",
          "height": 51
        }
      },
      "source": [
        "ap=np.array([[1,2,\"a\"],[\"2\",8,9.0]])\n",
        "ap\n"
      ],
      "execution_count": 0,
      "outputs": [
        {
          "output_type": "execute_result",
          "data": {
            "text/plain": [
              "array([['1', '2', 'a'],\n",
              "       ['2', '8', '9.0']], dtype='<U21')"
            ]
          },
          "metadata": {
            "tags": []
          },
          "execution_count": 32
        }
      ]
    },
    {
      "cell_type": "code",
      "metadata": {
        "id": "L4xFdMsvTZu4",
        "colab_type": "code",
        "outputId": "b8fd2592-556d-4b26-ecfd-f6e9945467a0",
        "colab": {
          "base_uri": "https://localhost:8080/",
          "height": 306
        }
      },
      "source": [
        "np.sum(ap)"
      ],
      "execution_count": 0,
      "outputs": [
        {
          "output_type": "error",
          "ename": "TypeError",
          "evalue": "ignored",
          "traceback": [
            "\u001b[0;31m---------------------------------------------------------------------------\u001b[0m",
            "\u001b[0;31mTypeError\u001b[0m                                 Traceback (most recent call last)",
            "\u001b[0;32m<ipython-input-33-2c30ec16d5b9>\u001b[0m in \u001b[0;36m<module>\u001b[0;34m()\u001b[0m\n\u001b[0;32m----> 1\u001b[0;31m \u001b[0mnp\u001b[0m\u001b[0;34m.\u001b[0m\u001b[0msum\u001b[0m\u001b[0;34m(\u001b[0m\u001b[0map\u001b[0m\u001b[0;34m)\u001b[0m\u001b[0;34m\u001b[0m\u001b[0;34m\u001b[0m\u001b[0m\n\u001b[0m",
            "\u001b[0;32m/usr/local/lib/python3.6/dist-packages/numpy/core/fromnumeric.py\u001b[0m in \u001b[0;36msum\u001b[0;34m(a, axis, dtype, out, keepdims, initial)\u001b[0m\n\u001b[1;32m   2074\u001b[0m \u001b[0;34m\u001b[0m\u001b[0m\n\u001b[1;32m   2075\u001b[0m     return _wrapreduction(a, np.add, 'sum', axis, dtype, out, keepdims=keepdims,\n\u001b[0;32m-> 2076\u001b[0;31m                           initial=initial)\n\u001b[0m\u001b[1;32m   2077\u001b[0m \u001b[0;34m\u001b[0m\u001b[0m\n\u001b[1;32m   2078\u001b[0m \u001b[0;34m\u001b[0m\u001b[0m\n",
            "\u001b[0;32m/usr/local/lib/python3.6/dist-packages/numpy/core/fromnumeric.py\u001b[0m in \u001b[0;36m_wrapreduction\u001b[0;34m(obj, ufunc, method, axis, dtype, out, **kwargs)\u001b[0m\n\u001b[1;32m     84\u001b[0m                 \u001b[0;32mreturn\u001b[0m \u001b[0mreduction\u001b[0m\u001b[0;34m(\u001b[0m\u001b[0maxis\u001b[0m\u001b[0;34m=\u001b[0m\u001b[0maxis\u001b[0m\u001b[0;34m,\u001b[0m \u001b[0mout\u001b[0m\u001b[0;34m=\u001b[0m\u001b[0mout\u001b[0m\u001b[0;34m,\u001b[0m \u001b[0;34m**\u001b[0m\u001b[0mpasskwargs\u001b[0m\u001b[0;34m)\u001b[0m\u001b[0;34m\u001b[0m\u001b[0;34m\u001b[0m\u001b[0m\n\u001b[1;32m     85\u001b[0m \u001b[0;34m\u001b[0m\u001b[0m\n\u001b[0;32m---> 86\u001b[0;31m     \u001b[0;32mreturn\u001b[0m \u001b[0mufunc\u001b[0m\u001b[0;34m.\u001b[0m\u001b[0mreduce\u001b[0m\u001b[0;34m(\u001b[0m\u001b[0mobj\u001b[0m\u001b[0;34m,\u001b[0m \u001b[0maxis\u001b[0m\u001b[0;34m,\u001b[0m \u001b[0mdtype\u001b[0m\u001b[0;34m,\u001b[0m \u001b[0mout\u001b[0m\u001b[0;34m,\u001b[0m \u001b[0;34m**\u001b[0m\u001b[0mpasskwargs\u001b[0m\u001b[0;34m)\u001b[0m\u001b[0;34m\u001b[0m\u001b[0;34m\u001b[0m\u001b[0m\n\u001b[0m\u001b[1;32m     87\u001b[0m \u001b[0;34m\u001b[0m\u001b[0m\n\u001b[1;32m     88\u001b[0m \u001b[0;34m\u001b[0m\u001b[0m\n",
            "\u001b[0;31mTypeError\u001b[0m: cannot perform reduce with flexible type"
          ]
        }
      ]
    },
    {
      "cell_type": "code",
      "metadata": {
        "id": "NGWvUJ9qTocM",
        "colab_type": "code",
        "outputId": "4edb59cd-21ed-4187-c363-aed3cc49a572",
        "colab": {
          "base_uri": "https://localhost:8080/",
          "height": 51
        }
      },
      "source": [
        "apn=np.array([[1,2,\"a\"],[\"2\",8,9.0]],dtype=np.object)\n",
        "apn"
      ],
      "execution_count": 0,
      "outputs": [
        {
          "output_type": "execute_result",
          "data": {
            "text/plain": [
              "array([[1, 2, 'a'],\n",
              "       ['2', 8, 9.0]], dtype=object)"
            ]
          },
          "metadata": {
            "tags": []
          },
          "execution_count": 36
        }
      ]
    },
    {
      "cell_type": "code",
      "metadata": {
        "id": "Lfd5YxBiTvct",
        "colab_type": "code",
        "outputId": "3556f6ca-882e-4517-dd7b-e383ea795fed",
        "colab": {
          "base_uri": "https://localhost:8080/",
          "height": 306
        }
      },
      "source": [
        "np.sum(apn)"
      ],
      "execution_count": 0,
      "outputs": [
        {
          "output_type": "error",
          "ename": "TypeError",
          "evalue": "ignored",
          "traceback": [
            "\u001b[0;31m---------------------------------------------------------------------------\u001b[0m",
            "\u001b[0;31mTypeError\u001b[0m                                 Traceback (most recent call last)",
            "\u001b[0;32m<ipython-input-37-88419341fefb>\u001b[0m in \u001b[0;36m<module>\u001b[0;34m()\u001b[0m\n\u001b[0;32m----> 1\u001b[0;31m \u001b[0mnp\u001b[0m\u001b[0;34m.\u001b[0m\u001b[0msum\u001b[0m\u001b[0;34m(\u001b[0m\u001b[0mapn\u001b[0m\u001b[0;34m)\u001b[0m\u001b[0;34m\u001b[0m\u001b[0;34m\u001b[0m\u001b[0m\n\u001b[0m",
            "\u001b[0;32m/usr/local/lib/python3.6/dist-packages/numpy/core/fromnumeric.py\u001b[0m in \u001b[0;36msum\u001b[0;34m(a, axis, dtype, out, keepdims, initial)\u001b[0m\n\u001b[1;32m   2074\u001b[0m \u001b[0;34m\u001b[0m\u001b[0m\n\u001b[1;32m   2075\u001b[0m     return _wrapreduction(a, np.add, 'sum', axis, dtype, out, keepdims=keepdims,\n\u001b[0;32m-> 2076\u001b[0;31m                           initial=initial)\n\u001b[0m\u001b[1;32m   2077\u001b[0m \u001b[0;34m\u001b[0m\u001b[0m\n\u001b[1;32m   2078\u001b[0m \u001b[0;34m\u001b[0m\u001b[0m\n",
            "\u001b[0;32m/usr/local/lib/python3.6/dist-packages/numpy/core/fromnumeric.py\u001b[0m in \u001b[0;36m_wrapreduction\u001b[0;34m(obj, ufunc, method, axis, dtype, out, **kwargs)\u001b[0m\n\u001b[1;32m     84\u001b[0m                 \u001b[0;32mreturn\u001b[0m \u001b[0mreduction\u001b[0m\u001b[0;34m(\u001b[0m\u001b[0maxis\u001b[0m\u001b[0;34m=\u001b[0m\u001b[0maxis\u001b[0m\u001b[0;34m,\u001b[0m \u001b[0mout\u001b[0m\u001b[0;34m=\u001b[0m\u001b[0mout\u001b[0m\u001b[0;34m,\u001b[0m \u001b[0;34m**\u001b[0m\u001b[0mpasskwargs\u001b[0m\u001b[0;34m)\u001b[0m\u001b[0;34m\u001b[0m\u001b[0;34m\u001b[0m\u001b[0m\n\u001b[1;32m     85\u001b[0m \u001b[0;34m\u001b[0m\u001b[0m\n\u001b[0;32m---> 86\u001b[0;31m     \u001b[0;32mreturn\u001b[0m \u001b[0mufunc\u001b[0m\u001b[0;34m.\u001b[0m\u001b[0mreduce\u001b[0m\u001b[0;34m(\u001b[0m\u001b[0mobj\u001b[0m\u001b[0;34m,\u001b[0m \u001b[0maxis\u001b[0m\u001b[0;34m,\u001b[0m \u001b[0mdtype\u001b[0m\u001b[0;34m,\u001b[0m \u001b[0mout\u001b[0m\u001b[0;34m,\u001b[0m \u001b[0;34m**\u001b[0m\u001b[0mpasskwargs\u001b[0m\u001b[0;34m)\u001b[0m\u001b[0;34m\u001b[0m\u001b[0;34m\u001b[0m\u001b[0m\n\u001b[0m\u001b[1;32m     87\u001b[0m \u001b[0;34m\u001b[0m\u001b[0m\n\u001b[1;32m     88\u001b[0m \u001b[0;34m\u001b[0m\u001b[0m\n",
            "\u001b[0;31mTypeError\u001b[0m: unsupported operand type(s) for +: 'int' and 'str'"
          ]
        }
      ]
    },
    {
      "cell_type": "code",
      "metadata": {
        "id": "LKso4NQpT36s",
        "colab_type": "code",
        "outputId": "4f680339-a59e-4a58-9546-f474fef726a8",
        "colab": {
          "base_uri": "https://localhost:8080/",
          "height": 51
        }
      },
      "source": [
        "ac=np.array([[\"a\",\"b\",\"c\"],[\"d\",\"e\",\"f\"]],dtype=np.object)\n",
        "ac"
      ],
      "execution_count": 0,
      "outputs": [
        {
          "output_type": "execute_result",
          "data": {
            "text/plain": [
              "array([['a', 'b', 'c'],\n",
              "       ['d', 'e', 'f']], dtype=object)"
            ]
          },
          "metadata": {
            "tags": []
          },
          "execution_count": 41
        }
      ]
    },
    {
      "cell_type": "code",
      "metadata": {
        "id": "bppK_5lGUFwN",
        "colab_type": "code",
        "outputId": "9c740962-aac1-402d-abeb-95ce0b30b411",
        "colab": {
          "base_uri": "https://localhost:8080/",
          "height": 34
        }
      },
      "source": [
        "np.sum(ac)"
      ],
      "execution_count": 0,
      "outputs": [
        {
          "output_type": "execute_result",
          "data": {
            "text/plain": [
              "'abcdef'"
            ]
          },
          "metadata": {
            "tags": []
          },
          "execution_count": 42
        }
      ]
    },
    {
      "cell_type": "markdown",
      "metadata": {
        "id": "-P4frkjuUWkr",
        "colab_type": "text"
      },
      "source": [
        "This shows that np.sum can give sum of integers, strings(if dtype=np.object)"
      ]
    },
    {
      "cell_type": "markdown",
      "metadata": {
        "id": "VJVEpukYU-tR",
        "colab_type": "text"
      },
      "source": [
        "axis=0 : vertical; axis=1 : horizontal"
      ]
    },
    {
      "cell_type": "code",
      "metadata": {
        "id": "wNaHrAQIUQxJ",
        "colab_type": "code",
        "outputId": "4ab21f25-95b8-4c42-dd5b-4db8e2920d9f",
        "colab": {
          "base_uri": "https://localhost:8080/",
          "height": 51
        }
      },
      "source": [
        "aa=np.array([[1,2,3],[4,5,6]])\n",
        "aa"
      ],
      "execution_count": 0,
      "outputs": [
        {
          "output_type": "execute_result",
          "data": {
            "text/plain": [
              "array([[1, 2, 3],\n",
              "       [4, 5, 6]])"
            ]
          },
          "metadata": {
            "tags": []
          },
          "execution_count": 46
        }
      ]
    },
    {
      "cell_type": "code",
      "metadata": {
        "id": "h62Y-tdRVM4a",
        "colab_type": "code",
        "outputId": "8a9480b1-fbc9-4ba0-c11e-70314d47e576",
        "colab": {
          "base_uri": "https://localhost:8080/",
          "height": 34
        }
      },
      "source": [
        "np.sum(aa,axis=1)"
      ],
      "execution_count": 0,
      "outputs": [
        {
          "output_type": "execute_result",
          "data": {
            "text/plain": [
              "array([ 6, 15])"
            ]
          },
          "metadata": {
            "tags": []
          },
          "execution_count": 47
        }
      ]
    },
    {
      "cell_type": "markdown",
      "metadata": {
        "id": "ZMNLZPhWVXOP",
        "colab_type": "text"
      },
      "source": [
        "([1+2+3],[4+5+6])"
      ]
    },
    {
      "cell_type": "markdown",
      "metadata": {
        "id": "07p_r_A9VuOJ",
        "colab_type": "text"
      },
      "source": [
        "###prod()"
      ]
    },
    {
      "cell_type": "code",
      "metadata": {
        "id": "ax3T2A4LVt6a",
        "colab_type": "code",
        "outputId": "478d08f9-9d16-495f-d6e7-661d967acaa1",
        "colab": {
          "base_uri": "https://localhost:8080/",
          "height": 51
        }
      },
      "source": [
        "aa=np.array([[1,2,3],[4,5,6]])\n",
        "aa"
      ],
      "execution_count": 0,
      "outputs": [
        {
          "output_type": "execute_result",
          "data": {
            "text/plain": [
              "array([[1, 2, 3],\n",
              "       [4, 5, 6]])"
            ]
          },
          "metadata": {
            "tags": []
          },
          "execution_count": 48
        }
      ]
    },
    {
      "cell_type": "code",
      "metadata": {
        "id": "BM6BuotWVSxz",
        "colab_type": "code",
        "outputId": "a834c7f8-4af4-4001-a120-35b1a7cf5e27",
        "colab": {
          "base_uri": "https://localhost:8080/",
          "height": 34
        }
      },
      "source": [
        "aa.prod()"
      ],
      "execution_count": 0,
      "outputs": [
        {
          "output_type": "execute_result",
          "data": {
            "text/plain": [
              "720"
            ]
          },
          "metadata": {
            "tags": []
          },
          "execution_count": 49
        }
      ]
    },
    {
      "cell_type": "markdown",
      "metadata": {
        "id": "qVmnomzaV-0b",
        "colab_type": "text"
      },
      "source": [
        "aa.prod() gives 1*2*3*4*5*6"
      ]
    },
    {
      "cell_type": "code",
      "metadata": {
        "id": "u5CkwkGeVP8t",
        "colab_type": "code",
        "outputId": "fbca6c9d-7580-4bb0-f3d1-955ef539e2a4",
        "colab": {
          "base_uri": "https://localhost:8080/",
          "height": 34
        }
      },
      "source": [
        "aa.prod(axis=1)"
      ],
      "execution_count": 0,
      "outputs": [
        {
          "output_type": "execute_result",
          "data": {
            "text/plain": [
              "array([  6, 120])"
            ]
          },
          "metadata": {
            "tags": []
          },
          "execution_count": 50
        }
      ]
    },
    {
      "cell_type": "markdown",
      "metadata": {
        "id": "LfyfE9b5XS9T",
        "colab_type": "text"
      },
      "source": [
        "[(1*2*3),(4*5*6)]"
      ]
    },
    {
      "cell_type": "markdown",
      "metadata": {
        "id": "RRfbk04fZadY",
        "colab_type": "text"
      },
      "source": [
        "###min()"
      ]
    },
    {
      "cell_type": "code",
      "metadata": {
        "id": "P9_7kxp6WEcm",
        "colab_type": "code",
        "outputId": "d6a96c67-a063-49c9-b7ef-5bbbed0030b0",
        "colab": {
          "base_uri": "https://localhost:8080/",
          "height": 34
        }
      },
      "source": [
        "aa.min()"
      ],
      "execution_count": 0,
      "outputs": [
        {
          "output_type": "execute_result",
          "data": {
            "text/plain": [
              "1"
            ]
          },
          "metadata": {
            "tags": []
          },
          "execution_count": 51
        }
      ]
    },
    {
      "cell_type": "code",
      "metadata": {
        "id": "iLkRLsoRY9xq",
        "colab_type": "code",
        "outputId": "37957d32-a8c4-49d2-9d9f-37938874561f",
        "colab": {
          "base_uri": "https://localhost:8080/",
          "height": 34
        }
      },
      "source": [
        "aa.min(axis=0)"
      ],
      "execution_count": 0,
      "outputs": [
        {
          "output_type": "execute_result",
          "data": {
            "text/plain": [
              "array([1, 2, 3])"
            ]
          },
          "metadata": {
            "tags": []
          },
          "execution_count": 52
        }
      ]
    },
    {
      "cell_type": "markdown",
      "metadata": {
        "id": "42GVTnrjZIFC",
        "colab_type": "text"
      },
      "source": [
        "[min value in 1st column(1<4), 2nd column(2<5),3rd column(3<6)]"
      ]
    },
    {
      "cell_type": "code",
      "metadata": {
        "id": "yqbQvMhmZAPI",
        "colab_type": "code",
        "outputId": "9f77ca8c-82be-4dcb-b35b-04185d18bc25",
        "colab": {
          "base_uri": "https://localhost:8080/",
          "height": 34
        }
      },
      "source": [
        "aa.min(axis=1)"
      ],
      "execution_count": 0,
      "outputs": [
        {
          "output_type": "execute_result",
          "data": {
            "text/plain": [
              "array([1, 4])"
            ]
          },
          "metadata": {
            "tags": []
          },
          "execution_count": 53
        }
      ]
    },
    {
      "cell_type": "markdown",
      "metadata": {
        "id": "dPFWLGV5ZhBV",
        "colab_type": "text"
      },
      "source": [
        "###max()"
      ]
    },
    {
      "cell_type": "code",
      "metadata": {
        "id": "FuF0gPpjZDYv",
        "colab_type": "code",
        "outputId": "51af76f4-9bcf-4555-f825-560da14e7969",
        "colab": {
          "base_uri": "https://localhost:8080/",
          "height": 34
        }
      },
      "source": [
        "aa.max()"
      ],
      "execution_count": 0,
      "outputs": [
        {
          "output_type": "execute_result",
          "data": {
            "text/plain": [
              "6"
            ]
          },
          "metadata": {
            "tags": []
          },
          "execution_count": 54
        }
      ]
    },
    {
      "cell_type": "code",
      "metadata": {
        "id": "uA3KQMrHZuZb",
        "colab_type": "code",
        "outputId": "29e42c65-abb1-4124-996a-919b7bc03b57",
        "colab": {
          "base_uri": "https://localhost:8080/",
          "height": 34
        }
      },
      "source": [
        "aa.max(axis=1)"
      ],
      "execution_count": 0,
      "outputs": [
        {
          "output_type": "execute_result",
          "data": {
            "text/plain": [
              "array([3, 6])"
            ]
          },
          "metadata": {
            "tags": []
          },
          "execution_count": 55
        }
      ]
    },
    {
      "cell_type": "code",
      "metadata": {
        "id": "dlBykPNDZxVc",
        "colab_type": "code",
        "outputId": "5160bab6-d353-4212-e1e8-40d221525552",
        "colab": {
          "base_uri": "https://localhost:8080/",
          "height": 34
        }
      },
      "source": [
        "aa.max(axis=0)"
      ],
      "execution_count": 0,
      "outputs": [
        {
          "output_type": "execute_result",
          "data": {
            "text/plain": [
              "array([4, 5, 6])"
            ]
          },
          "metadata": {
            "tags": []
          },
          "execution_count": 56
        }
      ]
    },
    {
      "cell_type": "markdown",
      "metadata": {
        "id": "gC71l6x9Z1Fb",
        "colab_type": "text"
      },
      "source": [
        "###argmin()"
      ]
    },
    {
      "cell_type": "code",
      "metadata": {
        "id": "UONcOsgfZ0Bc",
        "colab_type": "code",
        "outputId": "064ccbac-c8c2-448e-f481-52d6b3112aa1",
        "colab": {
          "base_uri": "https://localhost:8080/",
          "height": 34
        }
      },
      "source": [
        "aa.argmin()  #min() gives minimum element value and argmin gives minimum 'index' "
      ],
      "execution_count": 0,
      "outputs": [
        {
          "output_type": "execute_result",
          "data": {
            "text/plain": [
              "0"
            ]
          },
          "metadata": {
            "tags": []
          },
          "execution_count": 57
        }
      ]
    },
    {
      "cell_type": "code",
      "metadata": {
        "id": "xDjwuQ8aajnw",
        "colab_type": "code",
        "outputId": "ff65cf24-1e7e-4981-be05-4e6b37447bff",
        "colab": {
          "base_uri": "https://localhost:8080/",
          "height": 34
        }
      },
      "source": [
        "aa.argmin(axis=0)"
      ],
      "execution_count": 0,
      "outputs": [
        {
          "output_type": "execute_result",
          "data": {
            "text/plain": [
              "array([0, 0, 0])"
            ]
          },
          "metadata": {
            "tags": []
          },
          "execution_count": 58
        }
      ]
    },
    {
      "cell_type": "code",
      "metadata": {
        "id": "1yTSQwIYamS8",
        "colab_type": "code",
        "outputId": "91af92c6-1086-4f8a-bce0-64dea4d04053",
        "colab": {
          "base_uri": "https://localhost:8080/",
          "height": 34
        }
      },
      "source": [
        "aa.argmin(axis=1)"
      ],
      "execution_count": 0,
      "outputs": [
        {
          "output_type": "execute_result",
          "data": {
            "text/plain": [
              "array([0, 0])"
            ]
          },
          "metadata": {
            "tags": []
          },
          "execution_count": 59
        }
      ]
    },
    {
      "cell_type": "code",
      "metadata": {
        "id": "Q8fqPWxyapSH",
        "colab_type": "code",
        "outputId": "2a5e70c9-dc46-411b-d892-276eb1ddac5d",
        "colab": {
          "base_uri": "https://localhost:8080/",
          "height": 34
        }
      },
      "source": [
        "aa.argmax()"
      ],
      "execution_count": 0,
      "outputs": [
        {
          "output_type": "execute_result",
          "data": {
            "text/plain": [
              "5"
            ]
          },
          "metadata": {
            "tags": []
          },
          "execution_count": 60
        }
      ]
    },
    {
      "cell_type": "code",
      "metadata": {
        "id": "9d2TQRx5aq9e",
        "colab_type": "code",
        "outputId": "a6358852-69ed-4fa0-fa6f-c197f7bc2007",
        "colab": {
          "base_uri": "https://localhost:8080/",
          "height": 34
        }
      },
      "source": [
        "aa.argmax(axis=0)"
      ],
      "execution_count": 0,
      "outputs": [
        {
          "output_type": "execute_result",
          "data": {
            "text/plain": [
              "array([1, 1, 1])"
            ]
          },
          "metadata": {
            "tags": []
          },
          "execution_count": 61
        }
      ]
    },
    {
      "cell_type": "code",
      "metadata": {
        "id": "yeUsuOGtauR0",
        "colab_type": "code",
        "outputId": "551b91ea-374c-4524-9223-f91598a9a439",
        "colab": {
          "base_uri": "https://localhost:8080/",
          "height": 34
        }
      },
      "source": [
        "aa.argmax(axis=1)"
      ],
      "execution_count": 0,
      "outputs": [
        {
          "output_type": "execute_result",
          "data": {
            "text/plain": [
              "array([2, 2])"
            ]
          },
          "metadata": {
            "tags": []
          },
          "execution_count": 62
        }
      ]
    },
    {
      "cell_type": "markdown",
      "metadata": {
        "id": "ix8-9x-fbA0w",
        "colab_type": "text"
      },
      "source": [
        "###avg()"
      ]
    },
    {
      "cell_type": "code",
      "metadata": {
        "id": "z-GeSHW6a0Cz",
        "colab_type": "code",
        "outputId": "a56b51c7-0ff2-4dc2-b76f-a84769cdac18",
        "colab": {
          "base_uri": "https://localhost:8080/",
          "height": 51
        }
      },
      "source": [
        "aa"
      ],
      "execution_count": 0,
      "outputs": [
        {
          "output_type": "execute_result",
          "data": {
            "text/plain": [
              "array([[1, 2, 3],\n",
              "       [4, 5, 6]])"
            ]
          },
          "metadata": {
            "tags": []
          },
          "execution_count": 64
        }
      ]
    },
    {
      "cell_type": "code",
      "metadata": {
        "id": "6B2Xu14cbPkM",
        "colab_type": "code",
        "outputId": "a803cabd-541f-41b0-f6de-a415ed0c71d5",
        "colab": {
          "base_uri": "https://localhost:8080/",
          "height": 34
        }
      },
      "source": [
        "aa.mean()"
      ],
      "execution_count": 0,
      "outputs": [
        {
          "output_type": "execute_result",
          "data": {
            "text/plain": [
              "3.5"
            ]
          },
          "metadata": {
            "tags": []
          },
          "execution_count": 66
        }
      ]
    },
    {
      "cell_type": "code",
      "metadata": {
        "id": "KDKHB6OgbStd",
        "colab_type": "code",
        "outputId": "f97c5048-1011-4d6b-f3d2-c815c709a4e5",
        "colab": {
          "base_uri": "https://localhost:8080/",
          "height": 34
        }
      },
      "source": [
        "aa.mean(axis=1)"
      ],
      "execution_count": 0,
      "outputs": [
        {
          "output_type": "execute_result",
          "data": {
            "text/plain": [
              "array([2., 5.])"
            ]
          },
          "metadata": {
            "tags": []
          },
          "execution_count": 67
        }
      ]
    },
    {
      "cell_type": "markdown",
      "metadata": {
        "id": "yTtpvE26beCK",
        "colab_type": "text"
      },
      "source": [
        "[(1+2+3)/3=2., (4+5+6)/3=5.]"
      ]
    },
    {
      "cell_type": "markdown",
      "metadata": {
        "id": "ScQ0466sb5VB",
        "colab_type": "text"
      },
      "source": [
        "###std() {standard deviation}"
      ]
    },
    {
      "cell_type": "code",
      "metadata": {
        "id": "sH5OazJwbYhV",
        "colab_type": "code",
        "outputId": "79d62a31-ef7d-4461-a3ba-b5506f81be87",
        "colab": {
          "base_uri": "https://localhost:8080/",
          "height": 34
        }
      },
      "source": [
        "aa.std()"
      ],
      "execution_count": 0,
      "outputs": [
        {
          "output_type": "execute_result",
          "data": {
            "text/plain": [
              "1.707825127659933"
            ]
          },
          "metadata": {
            "tags": []
          },
          "execution_count": 68
        }
      ]
    },
    {
      "cell_type": "code",
      "metadata": {
        "id": "nhSNDMi3cJZU",
        "colab_type": "code",
        "outputId": "7de76ddc-bd3e-4a49-f674-98907a9dcbfe",
        "colab": {
          "base_uri": "https://localhost:8080/",
          "height": 34
        }
      },
      "source": [
        "aa.std(axis=1)"
      ],
      "execution_count": 0,
      "outputs": [
        {
          "output_type": "execute_result",
          "data": {
            "text/plain": [
              "array([0.81649658, 0.81649658])"
            ]
          },
          "metadata": {
            "tags": []
          },
          "execution_count": 69
        }
      ]
    },
    {
      "cell_type": "code",
      "metadata": {
        "id": "eV3wWnYScMba",
        "colab_type": "code",
        "outputId": "a76550d4-0639-491c-9052-1f4aadae8c70",
        "colab": {
          "base_uri": "https://localhost:8080/",
          "height": 34
        }
      },
      "source": [
        "aa.std(axis=0)"
      ],
      "execution_count": 0,
      "outputs": [
        {
          "output_type": "execute_result",
          "data": {
            "text/plain": [
              "array([1.5, 1.5, 1.5])"
            ]
          },
          "metadata": {
            "tags": []
          },
          "execution_count": 70
        }
      ]
    },
    {
      "cell_type": "markdown",
      "metadata": {
        "id": "go7C34h_djFw",
        "colab_type": "text"
      },
      "source": [
        "std=    {[summation (x-mean)]/[n]} ^ 0.5"
      ]
    },
    {
      "cell_type": "markdown",
      "metadata": {
        "id": "94ZC4IL5d4ae",
        "colab_type": "text"
      },
      "source": [
        "###var()   {statistical variability}"
      ]
    },
    {
      "cell_type": "code",
      "metadata": {
        "id": "yDpR1MWkcQkk",
        "colab_type": "code",
        "outputId": "26390038-715c-42df-8f81-6ba2d4bae37c",
        "colab": {
          "base_uri": "https://localhost:8080/",
          "height": 34
        }
      },
      "source": [
        "aa.var()"
      ],
      "execution_count": 0,
      "outputs": [
        {
          "output_type": "execute_result",
          "data": {
            "text/plain": [
              "2.9166666666666665"
            ]
          },
          "metadata": {
            "tags": []
          },
          "execution_count": 71
        }
      ]
    },
    {
      "cell_type": "markdown",
      "metadata": {
        "id": "mXcUjQwJfx-0",
        "colab_type": "text"
      },
      "source": [
        "###clip()"
      ]
    },
    {
      "cell_type": "code",
      "metadata": {
        "id": "3ccb2uHxeDzM",
        "colab_type": "code",
        "outputId": "a80a7351-7fca-4341-8134-f6c6166edeb6",
        "colab": {
          "base_uri": "https://localhost:8080/",
          "height": 51
        }
      },
      "source": [
        "aa"
      ],
      "execution_count": 0,
      "outputs": [
        {
          "output_type": "execute_result",
          "data": {
            "text/plain": [
              "array([[1, 2, 3],\n",
              "       [4, 5, 6]])"
            ]
          },
          "metadata": {
            "tags": []
          },
          "execution_count": 72
        }
      ]
    },
    {
      "cell_type": "code",
      "metadata": {
        "id": "QqpLUMFIfuMA",
        "colab_type": "code",
        "outputId": "13ea624c-4447-4f8d-8c9e-5134996011b3",
        "colab": {
          "base_uri": "https://localhost:8080/",
          "height": 51
        }
      },
      "source": [
        "aa.clip(2,4)"
      ],
      "execution_count": 0,
      "outputs": [
        {
          "output_type": "execute_result",
          "data": {
            "text/plain": [
              "array([[2, 2, 3],\n",
              "       [4, 4, 4]])"
            ]
          },
          "metadata": {
            "tags": []
          },
          "execution_count": 73
        }
      ]
    },
    {
      "cell_type": "markdown",
      "metadata": {
        "id": "eboUW2yGf1WW",
        "colab_type": "text"
      },
      "source": [
        "clip(a,b)  this means that all the numbers less than a should be a and greater than b should be b."
      ]
    },
    {
      "cell_type": "markdown",
      "metadata": {
        "id": "c7VjvN_fgYaN",
        "colab_type": "text"
      },
      "source": [
        "###round()"
      ]
    },
    {
      "cell_type": "code",
      "metadata": {
        "id": "eoqi5l4mfwKN",
        "colab_type": "code",
        "outputId": "ac9f2dec-e24a-4a4a-e5b2-b70a28303e7e",
        "colab": {
          "base_uri": "https://localhost:8080/",
          "height": 34
        }
      },
      "source": [
        "pp=np.array([1.22,3.4458,9.2])\n",
        "pp"
      ],
      "execution_count": 0,
      "outputs": [
        {
          "output_type": "execute_result",
          "data": {
            "text/plain": [
              "array([1.22  , 3.4458, 9.2   ])"
            ]
          },
          "metadata": {
            "tags": []
          },
          "execution_count": 74
        }
      ]
    },
    {
      "cell_type": "code",
      "metadata": {
        "id": "Ee-3qLZ9ggAJ",
        "colab_type": "code",
        "outputId": "6f8df8e8-ddac-4132-bdcb-3279040960ff",
        "colab": {
          "base_uri": "https://localhost:8080/",
          "height": 34
        }
      },
      "source": [
        "pp.round()"
      ],
      "execution_count": 0,
      "outputs": [
        {
          "output_type": "execute_result",
          "data": {
            "text/plain": [
              "array([1., 3., 9.])"
            ]
          },
          "metadata": {
            "tags": []
          },
          "execution_count": 75
        }
      ]
    },
    {
      "cell_type": "code",
      "metadata": {
        "id": "mf9mRA2xgj-8",
        "colab_type": "code",
        "outputId": "12eefcd7-13bf-4093-e6f9-23738060ce87",
        "colab": {
          "base_uri": "https://localhost:8080/",
          "height": 34
        }
      },
      "source": [
        "pp.round(decimals=3)"
      ],
      "execution_count": 0,
      "outputs": [
        {
          "output_type": "execute_result",
          "data": {
            "text/plain": [
              "array([1.22 , 3.446, 9.2  ])"
            ]
          },
          "metadata": {
            "tags": []
          },
          "execution_count": 76
        }
      ]
    },
    {
      "cell_type": "markdown",
      "metadata": {
        "id": "61wOIn_Rg2_T",
        "colab_type": "text"
      },
      "source": [
        "##Order Functions"
      ]
    },
    {
      "cell_type": "code",
      "metadata": {
        "id": "Ddq-jF-fgoYR",
        "colab_type": "code",
        "outputId": "2e5b7a1c-0659-41a4-ade6-cb2ec0bba69d",
        "colab": {
          "base_uri": "https://localhost:8080/",
          "height": 51
        }
      },
      "source": [
        "tt=np.array([[10.199,10.19,5.2],[3.3,81.68,9.7]])\n",
        "tt"
      ],
      "execution_count": 0,
      "outputs": [
        {
          "output_type": "execute_result",
          "data": {
            "text/plain": [
              "array([[10.199, 10.19 ,  5.2  ],\n",
              "       [ 3.3  , 81.68 ,  9.7  ]])"
            ]
          },
          "metadata": {
            "tags": []
          },
          "execution_count": 80
        }
      ]
    },
    {
      "cell_type": "markdown",
      "metadata": {
        "id": "BVsgMazpiLDJ",
        "colab_type": "text"
      },
      "source": [
        "###sort()"
      ]
    },
    {
      "cell_type": "code",
      "metadata": {
        "id": "hkZhTAdZhT2W",
        "colab_type": "code",
        "outputId": "8994888c-4e6c-42f5-a2fe-c94c7cb73bf7",
        "colab": {
          "base_uri": "https://localhost:8080/",
          "height": 51
        }
      },
      "source": [
        "np.sort(tt)"
      ],
      "execution_count": 0,
      "outputs": [
        {
          "output_type": "execute_result",
          "data": {
            "text/plain": [
              "array([[ 5.2  , 10.19 , 10.199],\n",
              "       [ 3.3  ,  9.7  , 81.68 ]])"
            ]
          },
          "metadata": {
            "tags": []
          },
          "execution_count": 81
        }
      ]
    },
    {
      "cell_type": "markdown",
      "metadata": {
        "id": "OH5hEceliOEP",
        "colab_type": "text"
      },
      "source": [
        "###argsort()"
      ]
    },
    {
      "cell_type": "code",
      "metadata": {
        "id": "WMuntnsshdQm",
        "colab_type": "code",
        "outputId": "1164623b-140d-42ca-cd8c-8441b1dfb9a9",
        "colab": {
          "base_uri": "https://localhost:8080/",
          "height": 51
        }
      },
      "source": [
        "np.argsort(tt)   #instead of elements , their index will be printed"
      ],
      "execution_count": 0,
      "outputs": [
        {
          "output_type": "execute_result",
          "data": {
            "text/plain": [
              "array([[2, 1, 0],\n",
              "       [0, 2, 1]])"
            ]
          },
          "metadata": {
            "tags": []
          },
          "execution_count": 83
        }
      ]
    },
    {
      "cell_type": "markdown",
      "metadata": {
        "id": "9DSLgLrniQIQ",
        "colab_type": "text"
      },
      "source": [
        "###searchsorted()"
      ]
    },
    {
      "cell_type": "code",
      "metadata": {
        "id": "h2qKE87ih5IT",
        "colab_type": "code",
        "outputId": "237d273d-b464-4f4d-c7a8-b73f5d80adb9",
        "colab": {
          "base_uri": "https://localhost:8080/",
          "height": 34
        }
      },
      "source": [
        "pp=np.arange(1,10,1)\n",
        "pp"
      ],
      "execution_count": 0,
      "outputs": [
        {
          "output_type": "execute_result",
          "data": {
            "text/plain": [
              "array([1, 2, 3, 4, 5, 6, 7, 8, 9])"
            ]
          },
          "metadata": {
            "tags": []
          },
          "execution_count": 85
        }
      ]
    },
    {
      "cell_type": "code",
      "metadata": {
        "id": "fvBURL-DjJEg",
        "colab_type": "code",
        "outputId": "8eaf1864-e358-4b16-8114-2e0b44d97341",
        "colab": {
          "base_uri": "https://localhost:8080/",
          "height": 34
        }
      },
      "source": [
        "k=np.array([1.2,8.9,5.3])\n",
        "np.searchsorted(pp,k)"
      ],
      "execution_count": 0,
      "outputs": [
        {
          "output_type": "execute_result",
          "data": {
            "text/plain": [
              "array([1, 8, 5])"
            ]
          },
          "metadata": {
            "tags": []
          },
          "execution_count": 86
        }
      ]
    },
    {
      "cell_type": "markdown",
      "metadata": {
        "id": "VUUPEMEhjvh8",
        "colab_type": "text"
      },
      "source": [
        "This shows that (pp,k)=> elements of k can be placed after which no.s of pp"
      ]
    },
    {
      "cell_type": "markdown",
      "metadata": {
        "id": "87devwtBkfeO",
        "colab_type": "text"
      },
      "source": [
        "##Data Management Functions"
      ]
    },
    {
      "cell_type": "code",
      "metadata": {
        "id": "uGXNmAc5kA8Y",
        "colab_type": "code",
        "outputId": "06c54730-558f-4451-c195-fb17d1ac4a60",
        "colab": {
          "base_uri": "https://localhost:8080/",
          "height": 34
        }
      },
      "source": [
        "y=np.arange(0,10,1)     #(0,10,1)==(10) i.e 0 -min no. and 1- step is basic set value\n",
        "y"
      ],
      "execution_count": 0,
      "outputs": [
        {
          "output_type": "execute_result",
          "data": {
            "text/plain": [
              "array([0, 1, 2, 3, 4, 5, 6, 7, 8, 9])"
            ]
          },
          "metadata": {
            "tags": []
          },
          "execution_count": 2
        }
      ]
    },
    {
      "cell_type": "code",
      "metadata": {
        "id": "weyKxt5CoKCa",
        "colab_type": "code",
        "outputId": "ff1adba5-ca50-4c9f-e394-52547ed3ea87",
        "colab": {
          "base_uri": "https://localhost:8080/",
          "height": 34
        }
      },
      "source": [
        "y.shape  #this shows a 1D array"
      ],
      "execution_count": 0,
      "outputs": [
        {
          "output_type": "execute_result",
          "data": {
            "text/plain": [
              "(10,)"
            ]
          },
          "metadata": {
            "tags": []
          },
          "execution_count": 3
        }
      ]
    },
    {
      "cell_type": "markdown",
      "metadata": {
        "id": "7mBdsmZY5dWH",
        "colab_type": "text"
      },
      "source": [
        "###reshaping"
      ]
    },
    {
      "cell_type": "code",
      "metadata": {
        "id": "ihqt7eZUoQrw",
        "colab_type": "code",
        "outputId": "8967a904-04ee-4148-a018-e438da25098a",
        "colab": {
          "base_uri": "https://localhost:8080/",
          "height": 102
        }
      },
      "source": [
        "y.shape=5,2  #dividing the given list into 5 rows and 2 columns\n",
        "y"
      ],
      "execution_count": 0,
      "outputs": [
        {
          "output_type": "execute_result",
          "data": {
            "text/plain": [
              "array([[0, 1],\n",
              "       [2, 3],\n",
              "       [4, 5],\n",
              "       [6, 7],\n",
              "       [8, 9]])"
            ]
          },
          "metadata": {
            "tags": []
          },
          "execution_count": 4
        }
      ]
    },
    {
      "cell_type": "code",
      "metadata": {
        "id": "wFEl8-jWpM5w",
        "colab_type": "code",
        "outputId": "36057751-e1d1-4490-d3ca-c922c47e1adc",
        "colab": {
          "base_uri": "https://localhost:8080/",
          "height": 102
        }
      },
      "source": [
        "y.reshape(5,2)  #the above way or this present cell's code are equivalent"
      ],
      "execution_count": 0,
      "outputs": [
        {
          "output_type": "execute_result",
          "data": {
            "text/plain": [
              "array([[0, 1],\n",
              "       [2, 3],\n",
              "       [4, 5],\n",
              "       [6, 7],\n",
              "       [8, 9]])"
            ]
          },
          "metadata": {
            "tags": []
          },
          "execution_count": 5
        }
      ]
    },
    {
      "cell_type": "code",
      "metadata": {
        "id": "OeniwmNfpghW",
        "colab_type": "code",
        "outputId": "4f755495-7809-4df3-edae-aa253dffe9d3",
        "colab": {
          "base_uri": "https://localhost:8080/",
          "height": 34
        }
      },
      "source": [
        "w=np.arange(5)\n",
        "w"
      ],
      "execution_count": 0,
      "outputs": [
        {
          "output_type": "execute_result",
          "data": {
            "text/plain": [
              "array([0, 1, 2, 3, 4])"
            ]
          },
          "metadata": {
            "tags": []
          },
          "execution_count": 6
        }
      ]
    },
    {
      "cell_type": "markdown",
      "metadata": {
        "id": "u730CfM25i9q",
        "colab_type": "text"
      },
      "source": [
        "###newaxis: extra dimension"
      ]
    },
    {
      "cell_type": "code",
      "metadata": {
        "id": "hY_8g-HxHU_U",
        "colab_type": "code",
        "outputId": "c3656374-4c78-44fe-e8bb-2e3d2d500014",
        "colab": {
          "base_uri": "https://localhost:8080/",
          "height": 34
        }
      },
      "source": [
        "k=w[np.newaxis,:]\n",
        "k"
      ],
      "execution_count": 0,
      "outputs": [
        {
          "output_type": "execute_result",
          "data": {
            "text/plain": [
              "array([[0, 1, 2, 3, 4]])"
            ]
          },
          "metadata": {
            "tags": []
          },
          "execution_count": 9
        }
      ]
    },
    {
      "cell_type": "code",
      "metadata": {
        "id": "P5zDkvj00_7z",
        "colab_type": "code",
        "outputId": "cc514b28-9626-4030-e764-63d567063e6b",
        "colab": {
          "base_uri": "https://localhost:8080/",
          "height": 34
        }
      },
      "source": [
        "k.shape"
      ],
      "execution_count": 0,
      "outputs": [
        {
          "output_type": "execute_result",
          "data": {
            "text/plain": [
              "(1, 5)"
            ]
          },
          "metadata": {
            "tags": []
          },
          "execution_count": 10
        }
      ]
    },
    {
      "cell_type": "code",
      "metadata": {
        "id": "h_z_wJQ6Hc1I",
        "colab_type": "code",
        "outputId": "af8aae46-2436-41d2-a336-00f6f22cf1be",
        "colab": {
          "base_uri": "https://localhost:8080/",
          "height": 102
        }
      },
      "source": [
        "k=w[:,np.newaxis]\n",
        "k"
      ],
      "execution_count": 0,
      "outputs": [
        {
          "output_type": "execute_result",
          "data": {
            "text/plain": [
              "array([[0],\n",
              "       [1],\n",
              "       [2],\n",
              "       [3],\n",
              "       [4]])"
            ]
          },
          "metadata": {
            "tags": []
          },
          "execution_count": 11
        }
      ]
    },
    {
      "cell_type": "code",
      "metadata": {
        "id": "TOeN49G406MJ",
        "colab_type": "code",
        "outputId": "6b5e37d5-f3d7-4d9f-8310-092388baddfe",
        "colab": {
          "base_uri": "https://localhost:8080/",
          "height": 34
        }
      },
      "source": [
        "k.shape"
      ],
      "execution_count": 0,
      "outputs": [
        {
          "output_type": "execute_result",
          "data": {
            "text/plain": [
              "(5, 1)"
            ]
          },
          "metadata": {
            "tags": []
          },
          "execution_count": 12
        }
      ]
    },
    {
      "cell_type": "markdown",
      "metadata": {
        "id": "nKsQN0eL1Q-w",
        "colab_type": "text"
      },
      "source": [
        "np.newaxis creates new dimension. '':'' takes all the elements into that particular column"
      ]
    },
    {
      "cell_type": "code",
      "metadata": {
        "id": "FJTqxH9P1Csq",
        "colab_type": "code",
        "outputId": "b0711c73-48fc-4121-a0fb-cbab6e84799b",
        "colab": {
          "base_uri": "https://localhost:8080/",
          "height": 170
        }
      },
      "source": [
        "k=w[:,np.newaxis,np.newaxis]\n",
        "k"
      ],
      "execution_count": 0,
      "outputs": [
        {
          "output_type": "execute_result",
          "data": {
            "text/plain": [
              "array([[[0]],\n",
              "\n",
              "       [[1]],\n",
              "\n",
              "       [[2]],\n",
              "\n",
              "       [[3]],\n",
              "\n",
              "       [[4]]])"
            ]
          },
          "metadata": {
            "tags": []
          },
          "execution_count": 14
        }
      ]
    },
    {
      "cell_type": "code",
      "metadata": {
        "id": "ybZiZdVN1eVp",
        "colab_type": "code",
        "outputId": "437f8b3c-d9cf-4537-8e45-8c5e008fbf45",
        "colab": {
          "base_uri": "https://localhost:8080/",
          "height": 34
        }
      },
      "source": [
        "k.shape"
      ],
      "execution_count": 0,
      "outputs": [
        {
          "output_type": "execute_result",
          "data": {
            "text/plain": [
              "(5, 1, 1)"
            ]
          },
          "metadata": {
            "tags": []
          },
          "execution_count": 15
        }
      ]
    },
    {
      "cell_type": "markdown",
      "metadata": {
        "id": "FLbti-_05o9k",
        "colab_type": "text"
      },
      "source": [
        "###squeeze"
      ]
    },
    {
      "cell_type": "code",
      "metadata": {
        "id": "fePyuxKI1gzA",
        "colab_type": "code",
        "outputId": "7a7ee783-1366-4cbd-c465-24376323ce16",
        "colab": {
          "base_uri": "https://localhost:8080/",
          "height": 34
        }
      },
      "source": [
        "#to remove the empty dimensions, use squeeze\n",
        "k=w.squeeze()\n",
        "k.shape"
      ],
      "execution_count": 0,
      "outputs": [
        {
          "output_type": "execute_result",
          "data": {
            "text/plain": [
              "(5,)"
            ]
          },
          "metadata": {
            "tags": []
          },
          "execution_count": 16
        }
      ]
    },
    {
      "cell_type": "code",
      "metadata": {
        "id": "eqHVhxPu1-CY",
        "colab_type": "code",
        "outputId": "d291905b-dbcb-4bdd-898e-e0e23061fa85",
        "colab": {
          "base_uri": "https://localhost:8080/",
          "height": 51
        }
      },
      "source": [
        "i=np.arange(10)\n",
        "j=i.reshape(2,5)\n",
        "j"
      ],
      "execution_count": 0,
      "outputs": [
        {
          "output_type": "execute_result",
          "data": {
            "text/plain": [
              "array([[0, 1, 2, 3, 4],\n",
              "       [5, 6, 7, 8, 9]])"
            ]
          },
          "metadata": {
            "tags": []
          },
          "execution_count": 17
        }
      ]
    },
    {
      "cell_type": "markdown",
      "metadata": {
        "id": "T3478D6T5r5s",
        "colab_type": "text"
      },
      "source": [
        "###transpose"
      ]
    },
    {
      "cell_type": "code",
      "metadata": {
        "id": "YJz4uDvk5Mh0",
        "colab_type": "code",
        "outputId": "a7d4157e-2fc8-4338-a01f-649653e65395",
        "colab": {
          "base_uri": "https://localhost:8080/",
          "height": 102
        }
      },
      "source": [
        "j=j.transpose()\n",
        "j"
      ],
      "execution_count": 0,
      "outputs": [
        {
          "output_type": "execute_result",
          "data": {
            "text/plain": [
              "array([[0, 5],\n",
              "       [1, 6],\n",
              "       [2, 7],\n",
              "       [3, 8],\n",
              "       [4, 9]])"
            ]
          },
          "metadata": {
            "tags": []
          },
          "execution_count": 18
        }
      ]
    },
    {
      "cell_type": "code",
      "metadata": {
        "id": "TqW2jaa35S_c",
        "colab_type": "code",
        "outputId": "ef92028e-8097-4d29-fa62-ac91dd93c7c3",
        "colab": {
          "base_uri": "https://localhost:8080/",
          "height": 51
        }
      },
      "source": [
        "#transpose() can be written as 'T' also:\n",
        "j=j.T\n",
        "j"
      ],
      "execution_count": 0,
      "outputs": [
        {
          "output_type": "execute_result",
          "data": {
            "text/plain": [
              "array([[0, 1, 2, 3, 4],\n",
              "       [5, 6, 7, 8, 9]])"
            ]
          },
          "metadata": {
            "tags": []
          },
          "execution_count": 21
        }
      ]
    },
    {
      "cell_type": "code",
      "metadata": {
        "id": "V3uiw31R56nc",
        "colab_type": "code",
        "outputId": "e4fcd900-7404-44d6-a9e4-01ae28d54b81",
        "colab": {
          "base_uri": "https://localhost:8080/",
          "height": 102
        }
      },
      "source": [
        "j.T"
      ],
      "execution_count": 0,
      "outputs": [
        {
          "output_type": "execute_result",
          "data": {
            "text/plain": [
              "array([[0, 5],\n",
              "       [1, 6],\n",
              "       [2, 7],\n",
              "       [3, 8],\n",
              "       [4, 9]])"
            ]
          },
          "metadata": {
            "tags": []
          },
          "execution_count": 22
        }
      ]
    },
    {
      "cell_type": "markdown",
      "metadata": {
        "id": "FpXv2GkQ6rCM",
        "colab_type": "text"
      },
      "source": [
        "###concatenate"
      ]
    },
    {
      "cell_type": "code",
      "metadata": {
        "id": "F7Fj4NQQ6EMH",
        "colab_type": "code",
        "outputId": "83567f78-c8f0-4d58-9dcb-186a96099c5a",
        "colab": {
          "base_uri": "https://localhost:8080/",
          "height": 51
        }
      },
      "source": [
        "b=np.array([[1,2,3],[4,5,6]])\n",
        "b"
      ],
      "execution_count": 0,
      "outputs": [
        {
          "output_type": "execute_result",
          "data": {
            "text/plain": [
              "array([[1, 2, 3],\n",
              "       [4, 5, 6]])"
            ]
          },
          "metadata": {
            "tags": []
          },
          "execution_count": 23
        }
      ]
    },
    {
      "cell_type": "code",
      "metadata": {
        "id": "8BVrp_WM6X3f",
        "colab_type": "code",
        "outputId": "8919cc1b-cd60-415a-93c2-6e0662f47eec",
        "colab": {
          "base_uri": "https://localhost:8080/",
          "height": 51
        }
      },
      "source": [
        "c=np.array([[11,22,33],[44,55,66]])\n",
        "c"
      ],
      "execution_count": 0,
      "outputs": [
        {
          "output_type": "execute_result",
          "data": {
            "text/plain": [
              "array([[11, 22, 33],\n",
              "       [44, 55, 66]])"
            ]
          },
          "metadata": {
            "tags": []
          },
          "execution_count": 24
        }
      ]
    },
    {
      "cell_type": "code",
      "metadata": {
        "id": "IMOcgoYn6dey",
        "colab_type": "code",
        "outputId": "e9b9808a-08be-445c-c1de-2c9e56816ee6",
        "colab": {
          "base_uri": "https://localhost:8080/",
          "height": 85
        }
      },
      "source": [
        "d=np.concatenate((b,c))  #default- added as extra rows\n",
        "d"
      ],
      "execution_count": 0,
      "outputs": [
        {
          "output_type": "execute_result",
          "data": {
            "text/plain": [
              "array([[ 1,  2,  3],\n",
              "       [ 4,  5,  6],\n",
              "       [11, 22, 33],\n",
              "       [44, 55, 66]])"
            ]
          },
          "metadata": {
            "tags": []
          },
          "execution_count": 25
        }
      ]
    },
    {
      "cell_type": "code",
      "metadata": {
        "id": "YXpkGDQt6yNL",
        "colab_type": "code",
        "outputId": "7bce4e23-e443-44f6-c227-0b44013fb3eb",
        "colab": {
          "base_uri": "https://localhost:8080/",
          "height": 51
        }
      },
      "source": [
        "#to add as extra columns:\n",
        "e=np.concatenate((b,c),axis=1)\n",
        "e"
      ],
      "execution_count": 0,
      "outputs": [
        {
          "output_type": "execute_result",
          "data": {
            "text/plain": [
              "array([[ 1,  2,  3, 11, 22, 33],\n",
              "       [ 4,  5,  6, 44, 55, 66]])"
            ]
          },
          "metadata": {
            "tags": []
          },
          "execution_count": 26
        }
      ]
    },
    {
      "cell_type": "markdown",
      "metadata": {
        "id": "fRD-hxxx7MP_",
        "colab_type": "text"
      },
      "source": [
        "###vstack & hstack"
      ]
    },
    {
      "cell_type": "code",
      "metadata": {
        "id": "Ia80i2WV7AxS",
        "colab_type": "code",
        "outputId": "2b0ae129-29fc-4b15-8271-c03c1e4c2427",
        "colab": {
          "base_uri": "https://localhost:8080/",
          "height": 85
        }
      },
      "source": [
        "g=np.vstack((b,c))\n",
        "g#v-vertical stacking //r axis=0 concatenate"
      ],
      "execution_count": 0,
      "outputs": [
        {
          "output_type": "execute_result",
          "data": {
            "text/plain": [
              "array([[ 1,  2,  3],\n",
              "       [ 4,  5,  6],\n",
              "       [11, 22, 33],\n",
              "       [44, 55, 66]])"
            ]
          },
          "metadata": {
            "tags": []
          },
          "execution_count": 31
        }
      ]
    },
    {
      "cell_type": "code",
      "metadata": {
        "id": "dceu_alB7cxO",
        "colab_type": "code",
        "outputId": "908d7e60-946c-4cec-b139-711ba905ab11",
        "colab": {
          "base_uri": "https://localhost:8080/",
          "height": 51
        }
      },
      "source": [
        "np.hstack((b,c))"
      ],
      "execution_count": 0,
      "outputs": [
        {
          "output_type": "execute_result",
          "data": {
            "text/plain": [
              "array([[ 1,  2,  3, 11, 22, 33],\n",
              "       [ 4,  5,  6, 44, 55, 66]])"
            ]
          },
          "metadata": {
            "tags": []
          },
          "execution_count": 29
        }
      ]
    },
    {
      "cell_type": "markdown",
      "metadata": {
        "id": "KlrYuAE47zNH",
        "colab_type": "text"
      },
      "source": [
        "###flatten, ravel"
      ]
    },
    {
      "cell_type": "code",
      "metadata": {
        "id": "vPdu6aYW7ixy",
        "colab_type": "code",
        "colab": {}
      },
      "source": [
        "l=g.flatten()  "
      ],
      "execution_count": 0,
      "outputs": []
    },
    {
      "cell_type": "code",
      "metadata": {
        "id": "bQAsr8Ys737e",
        "colab_type": "code",
        "outputId": "dd55db34-bc54-4907-c2c2-73a2da0b4e20",
        "colab": {
          "base_uri": "https://localhost:8080/",
          "height": 34
        }
      },
      "source": [
        "l.shape"
      ],
      "execution_count": 0,
      "outputs": [
        {
          "output_type": "execute_result",
          "data": {
            "text/plain": [
              "(12,)"
            ]
          },
          "metadata": {
            "tags": []
          },
          "execution_count": 36
        }
      ]
    },
    {
      "cell_type": "code",
      "metadata": {
        "id": "DJXiDUmA77Dv",
        "colab_type": "code",
        "outputId": "4a70ec5d-6a6a-4c9b-a05b-ca8c61c935d5",
        "colab": {
          "base_uri": "https://localhost:8080/",
          "height": 85
        }
      },
      "source": [
        "g"
      ],
      "execution_count": 0,
      "outputs": [
        {
          "output_type": "execute_result",
          "data": {
            "text/plain": [
              "array([[ 1,  2,  3],\n",
              "       [ 4,  5,  6],\n",
              "       [11, 22, 33],\n",
              "       [44, 55, 66]])"
            ]
          },
          "metadata": {
            "tags": []
          },
          "execution_count": 37
        }
      ]
    },
    {
      "cell_type": "code",
      "metadata": {
        "id": "9sHORcA-8nmU",
        "colab_type": "code",
        "outputId": "51dc8739-c1da-42dd-b11e-a9c2430f0031",
        "colab": {
          "base_uri": "https://localhost:8080/",
          "height": 34
        }
      },
      "source": [
        "s=g.ravel()\n",
        "s"
      ],
      "execution_count": 0,
      "outputs": [
        {
          "output_type": "execute_result",
          "data": {
            "text/plain": [
              "array([ 1,  2,  3,  4,  5,  6, 11, 22, 33, 44, 55, 66])"
            ]
          },
          "metadata": {
            "tags": []
          },
          "execution_count": 38
        }
      ]
    },
    {
      "cell_type": "code",
      "metadata": {
        "id": "b1noGdXk8srs",
        "colab_type": "code",
        "outputId": "fd0af3f3-5c63-483b-f295-dc69a0aa9202",
        "colab": {
          "base_uri": "https://localhost:8080/",
          "height": 34
        }
      },
      "source": [
        "s.shape"
      ],
      "execution_count": 0,
      "outputs": [
        {
          "output_type": "execute_result",
          "data": {
            "text/plain": [
              "(12,)"
            ]
          },
          "metadata": {
            "tags": []
          },
          "execution_count": 39
        }
      ]
    },
    {
      "cell_type": "markdown",
      "metadata": {
        "id": "wrgLUNSC89dp",
        "colab_type": "text"
      },
      "source": [
        "##Functions to create arrays"
      ]
    },
    {
      "cell_type": "code",
      "metadata": {
        "id": "gTg2zdT68toY",
        "colab_type": "code",
        "outputId": "0f228047-474c-4738-8f28-a5f42ccc71cf",
        "colab": {
          "base_uri": "https://localhost:8080/",
          "height": 119
        }
      },
      "source": [
        "#To create 30 numbers between 0 & 30\n",
        "np.linspace(0,10,30)   #all the points are equidistant ; this can't be done using arange"
      ],
      "execution_count": 0,
      "outputs": [
        {
          "output_type": "execute_result",
          "data": {
            "text/plain": [
              "array([ 0.        ,  0.34482759,  0.68965517,  1.03448276,  1.37931034,\n",
              "        1.72413793,  2.06896552,  2.4137931 ,  2.75862069,  3.10344828,\n",
              "        3.44827586,  3.79310345,  4.13793103,  4.48275862,  4.82758621,\n",
              "        5.17241379,  5.51724138,  5.86206897,  6.20689655,  6.55172414,\n",
              "        6.89655172,  7.24137931,  7.5862069 ,  7.93103448,  8.27586207,\n",
              "        8.62068966,  8.96551724,  9.31034483,  9.65517241, 10.        ])"
            ]
          },
          "metadata": {
            "tags": []
          },
          "execution_count": 40
        }
      ]
    },
    {
      "cell_type": "markdown",
      "metadata": {
        "id": "r-3ay9vYDiwL",
        "colab_type": "text"
      },
      "source": [
        "###To create a grid:"
      ]
    },
    {
      "cell_type": "code",
      "metadata": {
        "id": "2PET5oPhCyes",
        "colab_type": "code",
        "outputId": "e57b0331-b3b2-4816-dabb-674441968fda",
        "colab": {
          "base_uri": "https://localhost:8080/",
          "height": 34
        }
      },
      "source": [
        "a=np.linspace(-10,10,5)\n",
        "a\n"
      ],
      "execution_count": 0,
      "outputs": [
        {
          "output_type": "execute_result",
          "data": {
            "text/plain": [
              "array([-10.,  -5.,   0.,   5.,  10.])"
            ]
          },
          "metadata": {
            "tags": []
          },
          "execution_count": 50
        }
      ]
    },
    {
      "cell_type": "code",
      "metadata": {
        "id": "fxmRDvQ5DrQl",
        "colab_type": "code",
        "outputId": "4df61e4d-69d4-440f-c1c4-dfc1e2820e6e",
        "colab": {
          "base_uri": "https://localhost:8080/",
          "height": 34
        }
      },
      "source": [
        "b=np.linspace(-5,5,5)\n",
        "b"
      ],
      "execution_count": 0,
      "outputs": [
        {
          "output_type": "execute_result",
          "data": {
            "text/plain": [
              "array([-5. , -2.5,  0. ,  2.5,  5. ])"
            ]
          },
          "metadata": {
            "tags": []
          },
          "execution_count": 51
        }
      ]
    },
    {
      "cell_type": "code",
      "metadata": {
        "id": "8rSd6qbIm_Xr",
        "colab_type": "code",
        "outputId": "4c9267b6-744b-415e-f60b-282f4c6c88c4",
        "colab": {
          "base_uri": "https://localhost:8080/",
          "height": 34
        }
      },
      "source": [
        "a.shape"
      ],
      "execution_count": 0,
      "outputs": [
        {
          "output_type": "execute_result",
          "data": {
            "text/plain": [
              "(5,)"
            ]
          },
          "metadata": {
            "tags": []
          },
          "execution_count": 55
        }
      ]
    },
    {
      "cell_type": "code",
      "metadata": {
        "id": "agpYQByym_J9",
        "colab_type": "code",
        "outputId": "1b613e9f-cdb2-4bec-c5b1-7c79e92ed3cc",
        "colab": {
          "base_uri": "https://localhost:8080/",
          "height": 34
        }
      },
      "source": [
        "b.shape"
      ],
      "execution_count": 0,
      "outputs": [
        {
          "output_type": "execute_result",
          "data": {
            "text/plain": [
              "(5,)"
            ]
          },
          "metadata": {
            "tags": []
          },
          "execution_count": 56
        }
      ]
    },
    {
      "cell_type": "code",
      "metadata": {
        "id": "sZFT5TfvEnqt",
        "colab_type": "code",
        "colab": {}
      },
      "source": [
        "x,y=np.meshgrid(a,b)\n"
      ],
      "execution_count": 0,
      "outputs": []
    },
    {
      "cell_type": "code",
      "metadata": {
        "id": "9Amalon1mzAs",
        "colab_type": "code",
        "outputId": "867ba671-1022-4695-bda7-80f9b6dbe3c9",
        "colab": {
          "base_uri": "https://localhost:8080/",
          "height": 102
        }
      },
      "source": [
        "x"
      ],
      "execution_count": 0,
      "outputs": [
        {
          "output_type": "execute_result",
          "data": {
            "text/plain": [
              "array([[-10.,  -5.,   0.,   5.,  10.],\n",
              "       [-10.,  -5.,   0.,   5.,  10.],\n",
              "       [-10.,  -5.,   0.,   5.,  10.],\n",
              "       [-10.,  -5.,   0.,   5.,  10.],\n",
              "       [-10.,  -5.,   0.,   5.,  10.]])"
            ]
          },
          "metadata": {
            "tags": []
          },
          "execution_count": 54
        }
      ]
    },
    {
      "cell_type": "code",
      "metadata": {
        "id": "YIaR5O3xm4yK",
        "colab_type": "code",
        "outputId": "78918b6c-e9c7-4349-b93b-7a5283cf6d47",
        "colab": {
          "base_uri": "https://localhost:8080/",
          "height": 34
        }
      },
      "source": [
        "x.shape"
      ],
      "execution_count": 0,
      "outputs": [
        {
          "output_type": "execute_result",
          "data": {
            "text/plain": [
              "(5, 5)"
            ]
          },
          "metadata": {
            "tags": []
          },
          "execution_count": 57
        }
      ]
    },
    {
      "cell_type": "code",
      "metadata": {
        "id": "v_VSMdWfnJfz",
        "colab_type": "code",
        "outputId": "8a4e98a8-92b7-4201-8124-8aff492b622b",
        "colab": {
          "base_uri": "https://localhost:8080/",
          "height": 102
        }
      },
      "source": [
        "y"
      ],
      "execution_count": 0,
      "outputs": [
        {
          "output_type": "execute_result",
          "data": {
            "text/plain": [
              "array([[-5. , -5. , -5. , -5. , -5. ],\n",
              "       [-2.5, -2.5, -2.5, -2.5, -2.5],\n",
              "       [ 0. ,  0. ,  0. ,  0. ,  0. ],\n",
              "       [ 2.5,  2.5,  2.5,  2.5,  2.5],\n",
              "       [ 5. ,  5. ,  5. ,  5. ,  5. ]])"
            ]
          },
          "metadata": {
            "tags": []
          },
          "execution_count": 58
        }
      ]
    },
    {
      "cell_type": "code",
      "metadata": {
        "id": "1BI3p4XRnPun",
        "colab_type": "code",
        "outputId": "49fa0e71-5065-4d4f-b188-cb5fb3e97fb0",
        "colab": {
          "base_uri": "https://localhost:8080/",
          "height": 34
        }
      },
      "source": [
        "y.shape"
      ],
      "execution_count": 0,
      "outputs": [
        {
          "output_type": "execute_result",
          "data": {
            "text/plain": [
              "(5, 5)"
            ]
          },
          "metadata": {
            "tags": []
          },
          "execution_count": 59
        }
      ]
    },
    {
      "cell_type": "code",
      "metadata": {
        "id": "go6vbViMnUv7",
        "colab_type": "code",
        "colab": {}
      },
      "source": [
        "x,y=np.meshgrid(b,a)  #x(first variable) will have rows stacked one over other(vstack)\n",
        "                      #y(second variable) will have columns stacked beside one another(hstock)"
      ],
      "execution_count": 0,
      "outputs": []
    },
    {
      "cell_type": "code",
      "metadata": {
        "id": "EZVKX4zenbt6",
        "colab_type": "code",
        "outputId": "598eb0e8-a886-4036-a84a-7cfff6b281a6",
        "colab": {
          "base_uri": "https://localhost:8080/",
          "height": 102
        }
      },
      "source": [
        "y"
      ],
      "execution_count": 0,
      "outputs": [
        {
          "output_type": "execute_result",
          "data": {
            "text/plain": [
              "array([[-10., -10., -10., -10., -10.],\n",
              "       [ -5.,  -5.,  -5.,  -5.,  -5.],\n",
              "       [  0.,   0.,   0.,   0.,   0.],\n",
              "       [  5.,   5.,   5.,   5.,   5.],\n",
              "       [ 10.,  10.,  10.,  10.,  10.]])"
            ]
          },
          "metadata": {
            "tags": []
          },
          "execution_count": 63
        }
      ]
    },
    {
      "cell_type": "code",
      "metadata": {
        "id": "sVMUE24lnc6e",
        "colab_type": "code",
        "colab": {}
      },
      "source": [
        ""
      ],
      "execution_count": 0,
      "outputs": []
    },
    {
      "cell_type": "markdown",
      "metadata": {
        "id": "ufgRgWFPoN7o",
        "colab_type": "text"
      },
      "source": [
        "###more functions"
      ]
    },
    {
      "cell_type": "code",
      "metadata": {
        "id": "-kAMvHa8oRKy",
        "colab_type": "code",
        "outputId": "767efdf5-2fdc-4f1d-cb0a-a6968d2a2f2f",
        "colab": {
          "base_uri": "https://localhost:8080/",
          "height": 34
        }
      },
      "source": [
        "y=np.r_[0:10:1]   #arguments //r to arange\n",
        "#single row\n",
        "y"
      ],
      "execution_count": 0,
      "outputs": [
        {
          "output_type": "execute_result",
          "data": {
            "text/plain": [
              "array([0, 1, 2, 3, 4, 5, 6, 7, 8, 9])"
            ]
          },
          "metadata": {
            "tags": []
          },
          "execution_count": 78
        }
      ]
    },
    {
      "cell_type": "code",
      "metadata": {
        "id": "ZKS-c2C7oyN8",
        "colab_type": "code",
        "outputId": "e06a85a3-dd11-4296-a415-c1eef03bfc33",
        "colab": {
          "base_uri": "https://localhost:8080/",
          "height": 34
        }
      },
      "source": [
        "y.shape"
      ],
      "execution_count": 0,
      "outputs": [
        {
          "output_type": "execute_result",
          "data": {
            "text/plain": [
              "(10,)"
            ]
          },
          "metadata": {
            "tags": []
          },
          "execution_count": 79
        }
      ]
    },
    {
      "cell_type": "code",
      "metadata": {
        "id": "1TpfLhmgoYO0",
        "colab_type": "code",
        "colab": {}
      },
      "source": [
        "z=np.c_[0:10:1]   "
      ],
      "execution_count": 0,
      "outputs": []
    },
    {
      "cell_type": "code",
      "metadata": {
        "id": "MuNq4yqaoryI",
        "colab_type": "code",
        "outputId": "e4e3ccce-23e5-4785-b61a-87d9e8e908bc",
        "colab": {
          "base_uri": "https://localhost:8080/",
          "height": 34
        }
      },
      "source": [
        "z.shape"
      ],
      "execution_count": 0,
      "outputs": [
        {
          "output_type": "execute_result",
          "data": {
            "text/plain": [
              "(10, 1)"
            ]
          },
          "metadata": {
            "tags": []
          },
          "execution_count": 81
        }
      ]
    },
    {
      "cell_type": "markdown",
      "metadata": {
        "id": "wcZF9PKppU8V",
        "colab_type": "text"
      },
      "source": [
        "The terms seem confusing !!!.. It says c(column) but actually rows are being created.."
      ]
    },
    {
      "cell_type": "code",
      "metadata": {
        "id": "4p2dzqMZpAQX",
        "colab_type": "code",
        "outputId": "fd11d57f-f86f-4ca0-de80-a3198f154399",
        "colab": {
          "base_uri": "https://localhost:8080/",
          "height": 85
        }
      },
      "source": [
        "z=np.c_[0:10:3]  #0 to 10 ; 3 steps increment\n",
        "z"
      ],
      "execution_count": 0,
      "outputs": [
        {
          "output_type": "execute_result",
          "data": {
            "text/plain": [
              "array([[0],\n",
              "       [3],\n",
              "       [6],\n",
              "       [9]])"
            ]
          },
          "metadata": {
            "tags": []
          },
          "execution_count": 82
        }
      ]
    },
    {
      "cell_type": "code",
      "metadata": {
        "id": "HIYp676iplKq",
        "colab_type": "code",
        "outputId": "4b86fc56-4a8e-4546-e6fc-a20e6a5559a2",
        "colab": {
          "base_uri": "https://localhost:8080/",
          "height": 34
        }
      },
      "source": [
        "np.zeros(4)  #zeros not zero'e's !! Plz mind!!!"
      ],
      "execution_count": 0,
      "outputs": [
        {
          "output_type": "execute_result",
          "data": {
            "text/plain": [
              "array([0., 0., 0., 0.])"
            ]
          },
          "metadata": {
            "tags": []
          },
          "execution_count": 84
        }
      ]
    },
    {
      "cell_type": "code",
      "metadata": {
        "id": "iI_9izDfzIk_",
        "colab_type": "code",
        "outputId": "27d00a3b-d3b6-4bdd-8747-22c363ce76a9",
        "colab": {
          "base_uri": "https://localhost:8080/",
          "height": 85
        }
      },
      "source": [
        "np.zeros((4,3))"
      ],
      "execution_count": 0,
      "outputs": [
        {
          "output_type": "execute_result",
          "data": {
            "text/plain": [
              "array([[0., 0., 0.],\n",
              "       [0., 0., 0.],\n",
              "       [0., 0., 0.],\n",
              "       [0., 0., 0.]])"
            ]
          },
          "metadata": {
            "tags": []
          },
          "execution_count": 85
        }
      ]
    },
    {
      "cell_type": "code",
      "metadata": {
        "id": "_85-xVeOzjVp",
        "colab_type": "code",
        "outputId": "045dd402-f838-4824-92cc-573fce39656b",
        "colab": {
          "base_uri": "https://localhost:8080/",
          "height": 51
        }
      },
      "source": [
        "np.ones((2,3))"
      ],
      "execution_count": 0,
      "outputs": [
        {
          "output_type": "execute_result",
          "data": {
            "text/plain": [
              "array([[1., 1., 1.],\n",
              "       [1., 1., 1.]])"
            ]
          },
          "metadata": {
            "tags": []
          },
          "execution_count": 87
        }
      ]
    },
    {
      "cell_type": "code",
      "metadata": {
        "id": "x2IZVVCdzwgF",
        "colab_type": "code",
        "outputId": "271f3729-c402-4082-c2ea-09add65b717e",
        "colab": {
          "base_uri": "https://localhost:8080/",
          "height": 51
        }
      },
      "source": [
        "np.ones((2,4))*100"
      ],
      "execution_count": 0,
      "outputs": [
        {
          "output_type": "execute_result",
          "data": {
            "text/plain": [
              "array([[100., 100., 100., 100.],\n",
              "       [100., 100., 100., 100.]])"
            ]
          },
          "metadata": {
            "tags": []
          },
          "execution_count": 89
        }
      ]
    },
    {
      "cell_type": "code",
      "metadata": {
        "id": "7ry8UlI0z7zl",
        "colab_type": "code",
        "outputId": "adb1f7cd-77d3-4244-d055-0d99fd4a45ea",
        "colab": {
          "base_uri": "https://localhost:8080/",
          "height": 51
        }
      },
      "source": [
        "np.zeros((2,5))+100"
      ],
      "execution_count": 0,
      "outputs": [
        {
          "output_type": "execute_result",
          "data": {
            "text/plain": [
              "array([[100., 100., 100., 100., 100.],\n",
              "       [100., 100., 100., 100., 100.]])"
            ]
          },
          "metadata": {
            "tags": []
          },
          "execution_count": 91
        }
      ]
    },
    {
      "cell_type": "code",
      "metadata": {
        "id": "Ka68STyGz-xO",
        "colab_type": "code",
        "outputId": "fb6f8f64-ee8f-4698-c0a8-8542104663b1",
        "colab": {
          "base_uri": "https://localhost:8080/",
          "height": 51
        }
      },
      "source": [
        "np.ones((2,4),dtype=np.int32)"
      ],
      "execution_count": 0,
      "outputs": [
        {
          "output_type": "execute_result",
          "data": {
            "text/plain": [
              "array([[1, 1, 1, 1],\n",
              "       [1, 1, 1, 1]], dtype=int32)"
            ]
          },
          "metadata": {
            "tags": []
          },
          "execution_count": 93
        }
      ]
    },
    {
      "cell_type": "code",
      "metadata": {
        "id": "KRoPuM1l0pAf",
        "colab_type": "code",
        "outputId": "753f7892-88cd-4f7a-ecf7-471834c932b6",
        "colab": {
          "base_uri": "https://localhost:8080/",
          "height": 34
        }
      },
      "source": [
        "h=np.array([1,2,3,4])\n",
        "h"
      ],
      "execution_count": 0,
      "outputs": [
        {
          "output_type": "execute_result",
          "data": {
            "text/plain": [
              "array([1, 2, 3, 4])"
            ]
          },
          "metadata": {
            "tags": []
          },
          "execution_count": 94
        }
      ]
    },
    {
      "cell_type": "code",
      "metadata": {
        "id": "7O7jCQdb1Cq1",
        "colab_type": "code",
        "outputId": "c4030cde-62de-4dd4-9057-bfc896adfe77",
        "colab": {
          "base_uri": "https://localhost:8080/",
          "height": 34
        }
      },
      "source": [
        "np.zeros_like(h)  #converts already existing elements into zeros.//ry dowith ones"
      ],
      "execution_count": 0,
      "outputs": [
        {
          "output_type": "execute_result",
          "data": {
            "text/plain": [
              "array([0, 0, 0, 0])"
            ]
          },
          "metadata": {
            "tags": []
          },
          "execution_count": 95
        }
      ]
    },
    {
      "cell_type": "code",
      "metadata": {
        "id": "F2cN1zNv2i9i",
        "colab_type": "code",
        "outputId": "17966f1e-1be9-4928-9213-497ad6051124",
        "colab": {
          "base_uri": "https://localhost:8080/",
          "height": 68
        }
      },
      "source": [
        "np.identity(3)  #identity matrix"
      ],
      "execution_count": 0,
      "outputs": [
        {
          "output_type": "execute_result",
          "data": {
            "text/plain": [
              "array([[1., 0., 0.],\n",
              "       [0., 1., 0.],\n",
              "       [0., 0., 1.]])"
            ]
          },
          "metadata": {
            "tags": []
          },
          "execution_count": 96
        }
      ]
    },
    {
      "cell_type": "markdown",
      "metadata": {
        "id": "1mS_JkrT6LtV",
        "colab_type": "text"
      },
      "source": [
        "##Logical Operations"
      ]
    },
    {
      "cell_type": "markdown",
      "metadata": {
        "id": "LjtMa_D66hAJ",
        "colab_type": "text"
      },
      "source": [
        "###abcd"
      ]
    },
    {
      "cell_type": "code",
      "metadata": {
        "id": "fKkxXBzZ4J90",
        "colab_type": "code",
        "colab": {}
      },
      "source": [
        "a=np.array([1,1,2,1])  #array size should be same then only this would work..\n",
        "b=np.array([1,1,1,0])\n"
      ],
      "execution_count": 0,
      "outputs": []
    },
    {
      "cell_type": "code",
      "metadata": {
        "id": "hj04xe9061TL",
        "colab_type": "code",
        "outputId": "debd1909-ee26-4932-eff5-09d94cb8ca6b",
        "colab": {
          "base_uri": "https://localhost:8080/",
          "height": 34
        }
      },
      "source": [
        "a==b"
      ],
      "execution_count": 0,
      "outputs": [
        {
          "output_type": "execute_result",
          "data": {
            "text/plain": [
              "array([ True,  True, False, False])"
            ]
          },
          "metadata": {
            "tags": []
          },
          "execution_count": 100
        }
      ]
    },
    {
      "cell_type": "code",
      "metadata": {
        "id": "gNHaREPO8xAg",
        "colab_type": "code",
        "outputId": "725e2c06-0e54-4352-fc6c-dd3994c593f1",
        "colab": {
          "base_uri": "https://localhost:8080/",
          "height": 34
        }
      },
      "source": [
        "a!=b"
      ],
      "execution_count": 0,
      "outputs": [
        {
          "output_type": "execute_result",
          "data": {
            "text/plain": [
              "array([False, False,  True,  True])"
            ]
          },
          "metadata": {
            "tags": []
          },
          "execution_count": 101
        }
      ]
    },
    {
      "cell_type": "code",
      "metadata": {
        "id": "lc7yYL8p8x9H",
        "colab_type": "code",
        "outputId": "dbad17ed-5e97-4c78-c9b6-a9e456f1d3f9",
        "colab": {
          "base_uri": "https://localhost:8080/",
          "height": 34
        }
      },
      "source": [
        "a>=b"
      ],
      "execution_count": 0,
      "outputs": [
        {
          "output_type": "execute_result",
          "data": {
            "text/plain": [
              "array([ True,  True,  True,  True])"
            ]
          },
          "metadata": {
            "tags": []
          },
          "execution_count": 102
        }
      ]
    },
    {
      "cell_type": "code",
      "metadata": {
        "id": "C38Jht_r9Cm6",
        "colab_type": "code",
        "outputId": "5aab6a79-4f0d-4e80-f4ee-28d1321570c6",
        "colab": {
          "base_uri": "https://localhost:8080/",
          "height": 34
        }
      },
      "source": [
        "a<=b"
      ],
      "execution_count": 0,
      "outputs": [
        {
          "output_type": "execute_result",
          "data": {
            "text/plain": [
              "array([ True,  True, False, False])"
            ]
          },
          "metadata": {
            "tags": []
          },
          "execution_count": 103
        }
      ]
    },
    {
      "cell_type": "markdown",
      "metadata": {
        "id": "LSR-oJ1w9zmD",
        "colab_type": "text"
      },
      "source": [
        "##Random"
      ]
    },
    {
      "cell_type": "code",
      "metadata": {
        "id": "RdNJQAB19Lmf",
        "colab_type": "code",
        "outputId": "512f8e5e-75dc-4f0c-e740-eb808b018b8d",
        "colab": {
          "base_uri": "https://localhost:8080/",
          "height": 51
        }
      },
      "source": [
        "z=np.random.rand(2,4)  #rand- no.s b|w 0 and 1 \n",
        "z"
      ],
      "execution_count": 3,
      "outputs": [
        {
          "output_type": "execute_result",
          "data": {
            "text/plain": [
              "array([[0.08791235, 0.55118788, 0.47973723, 0.36216099],\n",
              "       [0.1355273 , 0.79690004, 0.1221452 , 0.26419735]])"
            ]
          },
          "metadata": {
            "tags": []
          },
          "execution_count": 3
        }
      ]
    },
    {
      "cell_type": "code",
      "metadata": {
        "id": "2ldsZ7Sj-Mh-",
        "colab_type": "code",
        "colab": {}
      },
      "source": [
        "#to remove decimals\n",
        "np.set_printoptions(precision=3)\n"
      ],
      "execution_count": 0,
      "outputs": []
    },
    {
      "cell_type": "code",
      "metadata": {
        "id": "WQTCkAAPFDrU",
        "colab_type": "code",
        "outputId": "6927b9d9-35d9-4724-a11a-e9b7193c57b6",
        "colab": {
          "base_uri": "https://localhost:8080/",
          "height": 102
        }
      },
      "source": [
        "np.random.randint(30,size=(5,6))  #this is used (rand'int') for printing integers"
      ],
      "execution_count": 5,
      "outputs": [
        {
          "output_type": "execute_result",
          "data": {
            "text/plain": [
              "array([[ 6,  2, 15, 16,  0,  8],\n",
              "       [ 5, 21, 26, 28, 23,  4],\n",
              "       [ 0, 18, 20,  3, 11, 24],\n",
              "       [ 3, 25,  8,  6, 25,  6],\n",
              "       [18, 13, 27, 27, 22,  0]])"
            ]
          },
          "metadata": {
            "tags": []
          },
          "execution_count": 5
        }
      ]
    },
    {
      "cell_type": "code",
      "metadata": {
        "id": "_5K0oB7aG6qf",
        "colab_type": "code",
        "outputId": "6bf352f9-40d7-44a0-fc4d-ef069e363e04",
        "colab": {
          "base_uri": "https://localhost:8080/",
          "height": 34
        }
      },
      "source": [
        "np.random.randint(0,30,7)"
      ],
      "execution_count": 6,
      "outputs": [
        {
          "output_type": "execute_result",
          "data": {
            "text/plain": [
              "array([ 5, 29, 11, 17, 15, 28,  2])"
            ]
          },
          "metadata": {
            "tags": []
          },
          "execution_count": 6
        }
      ]
    },
    {
      "cell_type": "code",
      "metadata": {
        "id": "otVAQPgXHUq_",
        "colab_type": "code",
        "outputId": "d314cb58-9b29-4b9c-c3be-f0978b640dda",
        "colab": {
          "base_uri": "https://localhost:8080/",
          "height": 119
        }
      },
      "source": [
        "a=np.arange(100)\n",
        "a"
      ],
      "execution_count": 7,
      "outputs": [
        {
          "output_type": "execute_result",
          "data": {
            "text/plain": [
              "array([ 0,  1,  2,  3,  4,  5,  6,  7,  8,  9, 10, 11, 12, 13, 14, 15, 16,\n",
              "       17, 18, 19, 20, 21, 22, 23, 24, 25, 26, 27, 28, 29, 30, 31, 32, 33,\n",
              "       34, 35, 36, 37, 38, 39, 40, 41, 42, 43, 44, 45, 46, 47, 48, 49, 50,\n",
              "       51, 52, 53, 54, 55, 56, 57, 58, 59, 60, 61, 62, 63, 64, 65, 66, 67,\n",
              "       68, 69, 70, 71, 72, 73, 74, 75, 76, 77, 78, 79, 80, 81, 82, 83, 84,\n",
              "       85, 86, 87, 88, 89, 90, 91, 92, 93, 94, 95, 96, 97, 98, 99])"
            ]
          },
          "metadata": {
            "tags": []
          },
          "execution_count": 7
        }
      ]
    },
    {
      "cell_type": "code",
      "metadata": {
        "id": "pqa48KtTHd05",
        "colab_type": "code",
        "outputId": "ce4f7322-3d5b-415a-fcce-ccd83540caf2",
        "colab": {
          "base_uri": "https://localhost:8080/",
          "height": 119
        }
      },
      "source": [
        "np.random.shuffle(a)\n",
        "a"
      ],
      "execution_count": 8,
      "outputs": [
        {
          "output_type": "execute_result",
          "data": {
            "text/plain": [
              "array([16, 40, 62, 41, 99, 28, 90, 56, 86,  0, 64, 12, 26,  1, 47, 60, 88,\n",
              "       11, 74,  8, 46, 31, 52, 75, 76, 44,  3, 53, 55, 22, 15, 39, 69, 72,\n",
              "       54, 68, 96,  5, 10,  6, 20, 24, 48, 63, 78, 32, 23, 59, 77, 42, 70,\n",
              "       49, 33, 83, 94, 58, 25, 80, 43, 79, 82, 61, 50, 71, 51, 95, 65, 91,\n",
              "       84, 38, 17, 93, 37, 92, 85, 45, 98,  7, 73, 30, 29, 66, 87, 89, 13,\n",
              "       27,  4, 21, 81, 36, 67,  2, 14, 97, 19, 34, 35,  9, 57, 18])"
            ]
          },
          "metadata": {
            "tags": []
          },
          "execution_count": 8
        }
      ]
    },
    {
      "cell_type": "code",
      "metadata": {
        "id": "6TGG0o-WHg1w",
        "colab_type": "code",
        "colab": {}
      },
      "source": [
        "#seed controls random func.\n",
        "np.random.seed(1)  #you can use any number instead of 1.; another set of random \"fixed\" values will be created"
      ],
      "execution_count": 0,
      "outputs": []
    },
    {
      "cell_type": "code",
      "metadata": {
        "id": "2M0EvDcRHutK",
        "colab_type": "code",
        "outputId": "472924fc-2274-4154-cb02-036fa40435f6",
        "colab": {
          "base_uri": "https://localhost:8080/",
          "height": 68
        }
      },
      "source": [
        "np.random.rand(3,3)   #no matter how many times you run this, the values won't change the particular \"random\" value set"
      ],
      "execution_count": 10,
      "outputs": [
        {
          "output_type": "execute_result",
          "data": {
            "text/plain": [
              "array([[4.170e-01, 7.203e-01, 1.144e-04],\n",
              "       [3.023e-01, 1.468e-01, 9.234e-02],\n",
              "       [1.863e-01, 3.456e-01, 3.968e-01]])"
            ]
          },
          "metadata": {
            "tags": []
          },
          "execution_count": 10
        }
      ]
    }
  ]
}