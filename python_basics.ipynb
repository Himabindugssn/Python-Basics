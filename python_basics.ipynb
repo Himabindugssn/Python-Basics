{
  "nbformat": 4,
  "nbformat_minor": 0,
  "metadata": {
    "colab": {
      "name": "python basics.ipynb",
      "version": "0.3.2",
      "provenance": [],
      "collapsed_sections": [
        "UZZcN7z8hn0u",
        "iYrL_NSGiRGC",
        "Se00YqMuiZhy",
        "QhrQVRbDieDb",
        "oIdySRlGEOXk",
        "AHfQCDW8PY1I",
        "OktAR2TRTLHM",
        "WxafgSnynap-",
        "NhX528iJEE2B",
        "BISDpumfNh8n"
      ],
      "toc_visible": true,
      "include_colab_link": true
    },
    "kernelspec": {
      "name": "python3",
      "display_name": "Python 3"
    }
  },
  "cells": [
    {
      "cell_type": "markdown",
      "metadata": {
        "id": "view-in-github",
        "colab_type": "text"
      },
      "source": [
        "<a href=\"https://colab.research.google.com/github/Himabindugssn/Python-Basics/blob/master/python_basics.ipynb\" target=\"_parent\"><img src=\"https://colab.research.google.com/assets/colab-badge.svg\" alt=\"Open In Colab\"/></a>"
      ]
    },
    {
      "cell_type": "markdown",
      "metadata": {
        "id": "UZZcN7z8hn0u",
        "colab_type": "text"
      },
      "source": [
        "##Basic Functions & Operations"
      ]
    },
    {
      "cell_type": "code",
      "metadata": {
        "id": "zXND3I7kCrgR",
        "colab_type": "code",
        "outputId": "ab4cc7be-c285-4433-e38a-30be68ab3cfa",
        "colab": {
          "base_uri": "https://localhost:8080/",
          "height": 390
        }
      },
      "source": [
        "import this"
      ],
      "execution_count": 0,
      "outputs": [
        {
          "output_type": "stream",
          "text": [
            "The Zen of Python, by Tim Peters\n",
            "\n",
            "Beautiful is better than ugly.\n",
            "Explicit is better than implicit.\n",
            "Simple is better than complex.\n",
            "Complex is better than complicated.\n",
            "Flat is better than nested.\n",
            "Sparse is better than dense.\n",
            "Readability counts.\n",
            "Special cases aren't special enough to break the rules.\n",
            "Although practicality beats purity.\n",
            "Errors should never pass silently.\n",
            "Unless explicitly silenced.\n",
            "In the face of ambiguity, refuse the temptation to guess.\n",
            "There should be one-- and preferably only one --obvious way to do it.\n",
            "Although that way may not be obvious at first unless you're Dutch.\n",
            "Now is better than never.\n",
            "Although never is often better than *right* now.\n",
            "If the implementation is hard to explain, it's a bad idea.\n",
            "If the implementation is easy to explain, it may be a good idea.\n",
            "Namespaces are one honking great idea -- let's do more of those!\n"
          ],
          "name": "stdout"
        }
      ]
    },
    {
      "cell_type": "code",
      "metadata": {
        "id": "vrzBAzf9IkKH",
        "colab_type": "code",
        "colab": {}
      },
      "source": [
        "himu=5"
      ],
      "execution_count": 0,
      "outputs": []
    },
    {
      "cell_type": "code",
      "metadata": {
        "id": "HcVHoNdYJcZh",
        "colab_type": "code",
        "outputId": "99c2b572-9f5e-4a8b-dd93-858ad54d092a",
        "colab": {
          "base_uri": "https://localhost:8080/",
          "height": 34
        }
      },
      "source": [
        "print(himu)"
      ],
      "execution_count": 0,
      "outputs": [
        {
          "output_type": "stream",
          "text": [
            "5\n"
          ],
          "name": "stdout"
        }
      ]
    },
    {
      "cell_type": "code",
      "metadata": {
        "id": "BCUxe1cfJeiQ",
        "colab_type": "code",
        "outputId": "108a0b04-378d-41e8-80b7-9cb36eac3313",
        "colab": {
          "base_uri": "https://localhost:8080/",
          "height": 34
        }
      },
      "source": [
        "himu"
      ],
      "execution_count": 0,
      "outputs": [
        {
          "output_type": "execute_result",
          "data": {
            "text/plain": [
              "5"
            ]
          },
          "metadata": {
            "tags": []
          },
          "execution_count": 6
        }
      ]
    },
    {
      "cell_type": "code",
      "metadata": {
        "id": "8Q4B48SAJfUl",
        "colab_type": "code",
        "outputId": "6af25b87-457e-4fb2-cb7b-9977f762a7ba",
        "colab": {
          "base_uri": "https://localhost:8080/",
          "height": 34
        }
      },
      "source": [
        "himu+6\n"
      ],
      "execution_count": 0,
      "outputs": [
        {
          "output_type": "execute_result",
          "data": {
            "text/plain": [
              "11"
            ]
          },
          "metadata": {
            "tags": []
          },
          "execution_count": 7
        }
      ]
    },
    {
      "cell_type": "code",
      "metadata": {
        "id": "wfHwyyZnJjB3",
        "colab_type": "code",
        "outputId": "095ead18-abb1-4ee2-bbac-467a17fc36f0",
        "colab": {
          "base_uri": "https://localhost:8080/",
          "height": 34
        }
      },
      "source": [
        "type(himu)"
      ],
      "execution_count": 0,
      "outputs": [
        {
          "output_type": "execute_result",
          "data": {
            "text/plain": [
              "int"
            ]
          },
          "metadata": {
            "tags": []
          },
          "execution_count": 8
        }
      ]
    },
    {
      "cell_type": "code",
      "metadata": {
        "id": "5ZU7PuTJJktD",
        "colab_type": "code",
        "outputId": "1e48dbf1-248b-4a56-d6ec-603bb64d4f60",
        "colab": {
          "base_uri": "https://localhost:8080/",
          "height": 34
        }
      },
      "source": [
        "himu=9.786\n",
        "int(himu) #type cast"
      ],
      "execution_count": 0,
      "outputs": [
        {
          "output_type": "execute_result",
          "data": {
            "text/plain": [
              "9"
            ]
          },
          "metadata": {
            "tags": []
          },
          "execution_count": 9
        }
      ]
    },
    {
      "cell_type": "code",
      "metadata": {
        "id": "XOLSLyLHJstN",
        "colab_type": "code",
        "colab": {}
      },
      "source": [
        "himu_str=\"123\"  #double quotes for string\n"
      ],
      "execution_count": 0,
      "outputs": []
    },
    {
      "cell_type": "code",
      "metadata": {
        "id": "ACKYfUzjLlOE",
        "colab_type": "code",
        "outputId": "6066a88c-0e9f-49c4-a2e3-ec235a4e2a22",
        "colab": {
          "base_uri": "https://localhost:8080/",
          "height": 34
        }
      },
      "source": [
        "float(himu_str)"
      ],
      "execution_count": 0,
      "outputs": [
        {
          "output_type": "execute_result",
          "data": {
            "text/plain": [
              "123.0"
            ]
          },
          "metadata": {
            "tags": []
          },
          "execution_count": 11
        }
      ]
    },
    {
      "cell_type": "code",
      "metadata": {
        "id": "cH4B3P3rLpBj",
        "colab_type": "code",
        "colab": {}
      },
      "source": [
        "himu_strs=\"bindu\""
      ],
      "execution_count": 0,
      "outputs": []
    },
    {
      "cell_type": "code",
      "metadata": {
        "id": "54xEBBdvLtUu",
        "colab_type": "code",
        "outputId": "dd453fe5-79bd-45af-e1e8-c7136ec27fd6",
        "colab": {
          "base_uri": "https://localhost:8080/",
          "height": 167
        }
      },
      "source": [
        "float(himu_strs) #got error because characters can't be converted into numbers"
      ],
      "execution_count": 0,
      "outputs": [
        {
          "output_type": "error",
          "ename": "ValueError",
          "evalue": "ignored",
          "traceback": [
            "\u001b[0;31m---------------------------------------------------------------------------\u001b[0m",
            "\u001b[0;31mValueError\u001b[0m                                Traceback (most recent call last)",
            "\u001b[0;32m<ipython-input-13-cbccce985674>\u001b[0m in \u001b[0;36m<module>\u001b[0;34m()\u001b[0m\n\u001b[0;32m----> 1\u001b[0;31m \u001b[0mfloat\u001b[0m\u001b[0;34m(\u001b[0m\u001b[0mhimu_strs\u001b[0m\u001b[0;34m)\u001b[0m\u001b[0;34m\u001b[0m\u001b[0;34m\u001b[0m\u001b[0m\n\u001b[0m",
            "\u001b[0;31mValueError\u001b[0m: could not convert string to float: 'bindu'"
          ]
        }
      ]
    },
    {
      "cell_type": "code",
      "metadata": {
        "id": "sYoKuhnMLvsA",
        "colab_type": "code",
        "outputId": "389c76aa-7b79-4e37-bd0c-d01e0106b7f5",
        "colab": {
          "base_uri": "https://localhost:8080/",
          "height": 34
        }
      },
      "source": [
        "str(123)  #numbers can be converted into strings"
      ],
      "execution_count": 0,
      "outputs": [
        {
          "output_type": "execute_result",
          "data": {
            "text/plain": [
              "'123'"
            ]
          },
          "metadata": {
            "tags": []
          },
          "execution_count": 18
        }
      ]
    },
    {
      "cell_type": "code",
      "metadata": {
        "id": "9mwii4ZdN0gi",
        "colab_type": "code",
        "colab": {}
      },
      "source": [
        "himu= True"
      ],
      "execution_count": 0,
      "outputs": []
    },
    {
      "cell_type": "code",
      "metadata": {
        "id": "cUHZ7nbVOfEJ",
        "colab_type": "code",
        "outputId": "6bb91af9-9f63-48f5-b901-1848ed27a227",
        "colab": {
          "base_uri": "https://localhost:8080/",
          "height": 34
        }
      },
      "source": [
        "type(himu)"
      ],
      "execution_count": 0,
      "outputs": [
        {
          "output_type": "execute_result",
          "data": {
            "text/plain": [
              "bool"
            ]
          },
          "metadata": {
            "tags": []
          },
          "execution_count": 20
        }
      ]
    },
    {
      "cell_type": "code",
      "metadata": {
        "id": "L8dpc_BbOgS4",
        "colab_type": "code",
        "outputId": "d47ccdd0-1cdf-4cc0-e338-b1e1049da335",
        "colab": {
          "base_uri": "https://localhost:8080/",
          "height": 34
        }
      },
      "source": [
        "4>6"
      ],
      "execution_count": 0,
      "outputs": [
        {
          "output_type": "execute_result",
          "data": {
            "text/plain": [
              "False"
            ]
          },
          "metadata": {
            "tags": []
          },
          "execution_count": 21
        }
      ]
    },
    {
      "cell_type": "code",
      "metadata": {
        "id": "A62G7jvWOif_",
        "colab_type": "code",
        "outputId": "7b7ff08d-2fc2-453b-9ed8-e278d740cf9c",
        "colab": {
          "base_uri": "https://localhost:8080/",
          "height": 34
        }
      },
      "source": [
        "4==5"
      ],
      "execution_count": 0,
      "outputs": [
        {
          "output_type": "execute_result",
          "data": {
            "text/plain": [
              "False"
            ]
          },
          "metadata": {
            "tags": []
          },
          "execution_count": 22
        }
      ]
    },
    {
      "cell_type": "code",
      "metadata": {
        "id": "uldPVInwOkFs",
        "colab_type": "code",
        "outputId": "ca47fdaa-d563-4278-d68d-9cc10cf0580d",
        "colab": {
          "base_uri": "https://localhost:8080/",
          "height": 34
        }
      },
      "source": [
        "4==4"
      ],
      "execution_count": 0,
      "outputs": [
        {
          "output_type": "execute_result",
          "data": {
            "text/plain": [
              "True"
            ]
          },
          "metadata": {
            "tags": []
          },
          "execution_count": 23
        }
      ]
    },
    {
      "cell_type": "code",
      "metadata": {
        "id": "M17UIT-OOlCL",
        "colab_type": "code",
        "outputId": "1cd5049a-3e33-4d96-bca9-80f6214c5f40",
        "colab": {
          "base_uri": "https://localhost:8080/",
          "height": 34
        }
      },
      "source": [
        "4==(2*2)"
      ],
      "execution_count": 0,
      "outputs": [
        {
          "output_type": "execute_result",
          "data": {
            "text/plain": [
              "True"
            ]
          },
          "metadata": {
            "tags": []
          },
          "execution_count": 24
        }
      ]
    },
    {
      "cell_type": "code",
      "metadata": {
        "id": "5R6O18tdOmhY",
        "colab_type": "code",
        "outputId": "f9ab2531-ab50-4123-b1c3-99887d72f169",
        "colab": {
          "base_uri": "https://localhost:8080/",
          "height": 34
        }
      },
      "source": [
        "round(4.6478996,2)"
      ],
      "execution_count": 0,
      "outputs": [
        {
          "output_type": "execute_result",
          "data": {
            "text/plain": [
              "4.65"
            ]
          },
          "metadata": {
            "tags": []
          },
          "execution_count": 26
        }
      ]
    },
    {
      "cell_type": "code",
      "metadata": {
        "id": "mHWYn-BDPNqA",
        "colab_type": "code",
        "outputId": "e0d50d26-1468-4e15-931f-39c4db9f7b1b",
        "colab": {
          "base_uri": "https://localhost:8080/",
          "height": 34
        }
      },
      "source": [
        "round(10.98)"
      ],
      "execution_count": 0,
      "outputs": [
        {
          "output_type": "execute_result",
          "data": {
            "text/plain": [
              "11"
            ]
          },
          "metadata": {
            "tags": []
          },
          "execution_count": 27
        }
      ]
    },
    {
      "cell_type": "code",
      "metadata": {
        "id": "GSmTjdPkPQzd",
        "colab_type": "code",
        "outputId": "60b8b667-3497-4df7-8605-bd668b942962",
        "colab": {
          "base_uri": "https://localhost:8080/",
          "height": 34
        }
      },
      "source": [
        "round(9.158653452)"
      ],
      "execution_count": 0,
      "outputs": [
        {
          "output_type": "execute_result",
          "data": {
            "text/plain": [
              "9"
            ]
          },
          "metadata": {
            "tags": []
          },
          "execution_count": 29
        }
      ]
    },
    {
      "cell_type": "markdown",
      "metadata": {
        "id": "iYrL_NSGiRGC",
        "colab_type": "text"
      },
      "source": [
        "##Strings"
      ]
    },
    {
      "cell_type": "code",
      "metadata": {
        "id": "6VqawQGEPVrH",
        "colab_type": "code",
        "outputId": "d295d019-3343-414f-fd49-cc73cf3dab16",
        "colab": {
          "base_uri": "https://localhost:8080/",
          "height": 34
        }
      },
      "source": [
        "str_1=\"hima\"\n",
        "str_1*3"
      ],
      "execution_count": 0,
      "outputs": [
        {
          "output_type": "execute_result",
          "data": {
            "text/plain": [
              "'himahimahima'"
            ]
          },
          "metadata": {
            "tags": []
          },
          "execution_count": 30
        }
      ]
    },
    {
      "cell_type": "code",
      "metadata": {
        "id": "dNkWUdQGQxcU",
        "colab_type": "code",
        "outputId": "7fc519ab-47e3-44d3-de25-9172bcfd01d2",
        "colab": {
          "base_uri": "https://localhost:8080/",
          "height": 52
        }
      },
      "source": [
        "str=\"hima\"\n",
        "print(str.split())\n",
        "\n",
        "str=\"h i m a \"\n",
        "str.split()\n"
      ],
      "execution_count": 0,
      "outputs": [
        {
          "output_type": "stream",
          "text": [
            "['hima']\n"
          ],
          "name": "stdout"
        },
        {
          "output_type": "execute_result",
          "data": {
            "text/plain": [
              "['h', 'i', 'm', 'a']"
            ]
          },
          "metadata": {
            "tags": []
          },
          "execution_count": 38
        }
      ]
    },
    {
      "cell_type": "code",
      "metadata": {
        "id": "pzMzS5O0RCuW",
        "colab_type": "code",
        "outputId": "ee991014-49ce-4a41-b127-088d389864ca",
        "colab": {
          "base_uri": "https://localhost:8080/",
          "height": 34
        }
      },
      "source": [
        "\n",
        "str=\"h,i,m,a\"\n",
        "str.split(\",\")"
      ],
      "execution_count": 0,
      "outputs": [
        {
          "output_type": "execute_result",
          "data": {
            "text/plain": [
              "['h', 'i', 'm', 'a']"
            ]
          },
          "metadata": {
            "tags": []
          },
          "execution_count": 37
        }
      ]
    },
    {
      "cell_type": "code",
      "metadata": {
        "id": "AQ1xSeKKRfYe",
        "colab_type": "code",
        "outputId": "a70c4de3-971c-49ee-a9cd-d18afdc8a54e",
        "colab": {
          "base_uri": "https://localhost:8080/",
          "height": 34
        }
      },
      "source": [
        "str_5=\"\"\n",
        "str_5.join(str.split())"
      ],
      "execution_count": 0,
      "outputs": [
        {
          "output_type": "execute_result",
          "data": {
            "text/plain": [
              "'hima'"
            ]
          },
          "metadata": {
            "tags": []
          },
          "execution_count": 42
        }
      ]
    },
    {
      "cell_type": "code",
      "metadata": {
        "id": "LkXMO2gTTmFc",
        "colab_type": "code",
        "outputId": "937371b3-dcc8-4ca3-ff9f-9ad3e0938701",
        "colab": {
          "base_uri": "https://localhost:8080/",
          "height": 34
        }
      },
      "source": [
        "str=\"hello python\"\n",
        "str"
      ],
      "execution_count": 0,
      "outputs": [
        {
          "output_type": "execute_result",
          "data": {
            "text/plain": [
              "'hello python'"
            ]
          },
          "metadata": {
            "tags": []
          },
          "execution_count": 44
        }
      ]
    },
    {
      "cell_type": "code",
      "metadata": {
        "id": "jsSLWLDKTxAv",
        "colab_type": "code",
        "outputId": "46a8027c-ae4b-4459-9830-ed316cb9fa40",
        "colab": {
          "base_uri": "https://localhost:8080/",
          "height": 34
        }
      },
      "source": [
        "str.replace(\"python\",\"himu\")\n",
        "str"
      ],
      "execution_count": 0,
      "outputs": [
        {
          "output_type": "execute_result",
          "data": {
            "text/plain": [
              "'hello python'"
            ]
          },
          "metadata": {
            "tags": []
          },
          "execution_count": 45
        }
      ]
    },
    {
      "cell_type": "code",
      "metadata": {
        "id": "GYN65A7YURAx",
        "colab_type": "code",
        "outputId": "ebe34d26-77a9-4cad-be72-4d147ff02380",
        "colab": {
          "base_uri": "https://localhost:8080/",
          "height": 34
        }
      },
      "source": [
        "str.upper() #//ry lower()"
      ],
      "execution_count": 0,
      "outputs": [
        {
          "output_type": "execute_result",
          "data": {
            "text/plain": [
              "'HELLO PYTHON'"
            ]
          },
          "metadata": {
            "tags": []
          },
          "execution_count": 46
        }
      ]
    },
    {
      "cell_type": "code",
      "metadata": {
        "id": "_UCklDQSUnGW",
        "colab_type": "code",
        "outputId": "45cd6642-60f7-4ecc-8798-e1d456537446",
        "colab": {
          "base_uri": "https://localhost:8080/",
          "height": 34
        }
      },
      "source": [
        "str=\"   himu    \"\n",
        "str.strip()\n"
      ],
      "execution_count": 0,
      "outputs": [
        {
          "output_type": "execute_result",
          "data": {
            "text/plain": [
              "'himu'"
            ]
          },
          "metadata": {
            "tags": []
          },
          "execution_count": 54
        }
      ]
    },
    {
      "cell_type": "code",
      "metadata": {
        "id": "t8Jh4GtiVtN-",
        "colab_type": "code",
        "outputId": "4d1e95ee-1b71-4a00-def3-26bfb7bb5cf7",
        "colab": {
          "base_uri": "https://localhost:8080/",
          "height": 34
        }
      },
      "source": [
        "str=\"   himu    \"\n",
        "str.lstrip()           #l-left side is stripped  //ry r"
      ],
      "execution_count": 0,
      "outputs": [
        {
          "output_type": "execute_result",
          "data": {
            "text/plain": [
              "'himu    '"
            ]
          },
          "metadata": {
            "tags": []
          },
          "execution_count": 49
        }
      ]
    },
    {
      "cell_type": "code",
      "metadata": {
        "id": "kPuXy4EaV3ct",
        "colab_type": "code",
        "outputId": "fcc720c8-e25c-42f8-d364-9e9a4657fcea",
        "colab": {
          "base_uri": "https://localhost:8080/",
          "height": 34
        }
      },
      "source": [
        "str=\"   himu    \"\n",
        "str.rstrip()\n"
      ],
      "execution_count": 0,
      "outputs": [
        {
          "output_type": "execute_result",
          "data": {
            "text/plain": [
              "'   himu'"
            ]
          },
          "metadata": {
            "tags": []
          },
          "execution_count": 50
        }
      ]
    },
    {
      "cell_type": "code",
      "metadata": {
        "id": "FrbVmuNwV8Fd",
        "colab_type": "code",
        "outputId": "4a656b3e-9f38-4a5f-8480-7eed475a4102",
        "colab": {
          "base_uri": "https://localhost:8080/",
          "height": 34
        }
      },
      "source": [
        "str=\"   himu    \"\n",
        "str.strip()\n",
        "len(str)"
      ],
      "execution_count": 0,
      "outputs": [
        {
          "output_type": "execute_result",
          "data": {
            "text/plain": [
              "11"
            ]
          },
          "metadata": {
            "tags": []
          },
          "execution_count": 55
        }
      ]
    },
    {
      "cell_type": "code",
      "metadata": {
        "id": "DciNEg2YWVnR",
        "colab_type": "code",
        "outputId": "41e25f42-e536-431f-c6e8-6b6c61ad95d6",
        "colab": {
          "base_uri": "https://localhost:8080/",
          "height": 34
        }
      },
      "source": [
        "str=\"   himu    \"\n",
        "y=str.rstrip()\n",
        "y\n"
      ],
      "execution_count": 0,
      "outputs": [
        {
          "output_type": "execute_result",
          "data": {
            "text/plain": [
              "'   himu'"
            ]
          },
          "metadata": {
            "tags": []
          },
          "execution_count": 60
        }
      ]
    },
    {
      "cell_type": "code",
      "metadata": {
        "id": "HzYALS0pWaco",
        "colab_type": "code",
        "outputId": "b0c62acd-cee3-4541-c098-7e89d61d807a",
        "colab": {
          "base_uri": "https://localhost:8080/",
          "height": 34
        }
      },
      "source": [
        "len(y)"
      ],
      "execution_count": 0,
      "outputs": [
        {
          "output_type": "execute_result",
          "data": {
            "text/plain": [
              "7"
            ]
          },
          "metadata": {
            "tags": []
          },
          "execution_count": 59
        }
      ]
    },
    {
      "cell_type": "markdown",
      "metadata": {
        "id": "Se00YqMuiZhy",
        "colab_type": "text"
      },
      "source": [
        "##Lists"
      ]
    },
    {
      "cell_type": "code",
      "metadata": {
        "id": "pdx9OxjjWgSn",
        "colab_type": "code",
        "outputId": "60d54e70-494e-49fa-985a-8c5087714759",
        "colab": {
          "base_uri": "https://localhost:8080/",
          "height": 34
        }
      },
      "source": [
        "l=[]\n",
        "type(l)"
      ],
      "execution_count": 0,
      "outputs": [
        {
          "output_type": "execute_result",
          "data": {
            "text/plain": [
              "list"
            ]
          },
          "metadata": {
            "tags": []
          },
          "execution_count": 2
        }
      ]
    },
    {
      "cell_type": "code",
      "metadata": {
        "id": "1yQ7pmuNSFgh",
        "colab_type": "code",
        "outputId": "3635b777-f482-482a-ec75-91e9825f58eb",
        "colab": {
          "base_uri": "https://localhost:8080/",
          "height": 34
        }
      },
      "source": [
        "h=[1,\"a\",6.2]\n",
        "h"
      ],
      "execution_count": 0,
      "outputs": [
        {
          "output_type": "execute_result",
          "data": {
            "text/plain": [
              "[1, 'a', 6.2]"
            ]
          },
          "metadata": {
            "tags": []
          },
          "execution_count": 4
        }
      ]
    },
    {
      "cell_type": "code",
      "metadata": {
        "id": "btapmRe8UDMN",
        "colab_type": "code",
        "outputId": "0bcc4d8f-568c-4138-fac6-b4c86a94cb51",
        "colab": {
          "base_uri": "https://localhost:8080/",
          "height": 34
        }
      },
      "source": [
        "h[0]"
      ],
      "execution_count": 0,
      "outputs": [
        {
          "output_type": "execute_result",
          "data": {
            "text/plain": [
              "1"
            ]
          },
          "metadata": {
            "tags": []
          },
          "execution_count": 5
        }
      ]
    },
    {
      "cell_type": "code",
      "metadata": {
        "id": "im55ZsrhUWjN",
        "colab_type": "code",
        "outputId": "47eba097-48aa-4a8e-8da3-cf29bdb5f417",
        "colab": {
          "base_uri": "https://localhost:8080/",
          "height": 34
        }
      },
      "source": [
        "h[1:] #from 2nd element onwards(index 1 onwards)"
      ],
      "execution_count": 0,
      "outputs": [
        {
          "output_type": "execute_result",
          "data": {
            "text/plain": [
              "['a', 6.2]"
            ]
          },
          "metadata": {
            "tags": []
          },
          "execution_count": 7
        }
      ]
    },
    {
      "cell_type": "code",
      "metadata": {
        "id": "sbbY_MWTUppa",
        "colab_type": "code",
        "outputId": "95fb4ea5-8a7e-458f-c35c-708d5f41da20",
        "colab": {
          "base_uri": "https://localhost:8080/",
          "height": 34
        }
      },
      "source": [
        "g[:]=[\"gssn\",\"hima\",\"bindu\"]\n",
        "g"
      ],
      "execution_count": 0,
      "outputs": [
        {
          "output_type": "execute_result",
          "data": {
            "text/plain": [
              "['gssn', 'hima', 'bindu']"
            ]
          },
          "metadata": {
            "tags": []
          },
          "execution_count": 10
        }
      ]
    },
    {
      "cell_type": "code",
      "metadata": {
        "id": "-vvrKAZLVES0",
        "colab_type": "code",
        "outputId": "43070cd5-068e-4f49-a64c-2a7e2c4adce9",
        "colab": {
          "base_uri": "https://localhost:8080/",
          "height": 34
        }
      },
      "source": [
        "n=[\"1\",\"2\",\"4\",\"7\",\"9\",\"0\"]\n",
        "n[2:5]  #2nd index,3rd,4th i.e. 3rd no. , 4th no. 5th no."
      ],
      "execution_count": 0,
      "outputs": [
        {
          "output_type": "execute_result",
          "data": {
            "text/plain": [
              "['4', '7', '9']"
            ]
          },
          "metadata": {
            "tags": []
          },
          "execution_count": 12
        }
      ]
    },
    {
      "cell_type": "code",
      "metadata": {
        "id": "NpotDryoW-fH",
        "colab_type": "code",
        "outputId": "d69b5a85-1ab3-4c6b-936a-974981ececb1",
        "colab": {
          "base_uri": "https://localhost:8080/",
          "height": 34
        }
      },
      "source": [
        "n[:4]"
      ],
      "execution_count": 0,
      "outputs": [
        {
          "output_type": "execute_result",
          "data": {
            "text/plain": [
              "['1', '2', '4', '7']"
            ]
          },
          "metadata": {
            "tags": []
          },
          "execution_count": 13
        }
      ]
    },
    {
      "cell_type": "code",
      "metadata": {
        "id": "xdJ7geh7XQFs",
        "colab_type": "code",
        "outputId": "f8b9763e-9903-44e3-8345-2ea87966c7fb",
        "colab": {
          "base_uri": "https://localhost:8080/",
          "height": 34
        }
      },
      "source": [
        "del n[2]\n",
        "n"
      ],
      "execution_count": 0,
      "outputs": [
        {
          "output_type": "execute_result",
          "data": {
            "text/plain": [
              "['1', '2', '7', '9', '0']"
            ]
          },
          "metadata": {
            "tags": []
          },
          "execution_count": 14
        }
      ]
    },
    {
      "cell_type": "code",
      "metadata": {
        "id": "bitkPwbKXhL7",
        "colab_type": "code",
        "outputId": "6bda65fe-478a-4aed-8273-ee249848f686",
        "colab": {
          "base_uri": "https://localhost:8080/",
          "height": 34
        }
      },
      "source": [
        "name=[\"hima\",\"bindu\"]\n",
        "dob=[\"29\",\"07\",\"2000\"]\n",
        "name+dob"
      ],
      "execution_count": 0,
      "outputs": [
        {
          "output_type": "execute_result",
          "data": {
            "text/plain": [
              "['hima', 'bindu', '29', '07', '2000']"
            ]
          },
          "metadata": {
            "tags": []
          },
          "execution_count": 15
        }
      ]
    },
    {
      "cell_type": "code",
      "metadata": {
        "id": "3IF7zjouYF5n",
        "colab_type": "code",
        "outputId": "dcd6c1b0-bc78-4978-d41f-f664568adffd",
        "colab": {
          "base_uri": "https://localhost:8080/",
          "height": 34
        }
      },
      "source": [
        "name * 3  #repeats the data 3 times"
      ],
      "execution_count": 0,
      "outputs": [
        {
          "output_type": "execute_result",
          "data": {
            "text/plain": [
              "['hima', 'bindu', 'hima', 'bindu', 'hima', 'bindu']"
            ]
          },
          "metadata": {
            "tags": []
          },
          "execution_count": 16
        }
      ]
    },
    {
      "cell_type": "code",
      "metadata": {
        "id": "ZgZznSYAYPfS",
        "colab_type": "code",
        "outputId": "1127d27d-2ee4-451f-e4ce-1afb2070126a",
        "colab": {
          "base_uri": "https://localhost:8080/",
          "height": 34
        }
      },
      "source": [
        "29 in dob"
      ],
      "execution_count": 0,
      "outputs": [
        {
          "output_type": "execute_result",
          "data": {
            "text/plain": [
              "False"
            ]
          },
          "metadata": {
            "tags": []
          },
          "execution_count": 17
        }
      ]
    },
    {
      "cell_type": "code",
      "metadata": {
        "id": "WxBhYN0oYcxN",
        "colab_type": "code",
        "outputId": "7c326ccb-d763-4414-9519-5fe63220ea7f",
        "colab": {
          "base_uri": "https://localhost:8080/",
          "height": 34
        }
      },
      "source": [
        "\"29\" in dob"
      ],
      "execution_count": 0,
      "outputs": [
        {
          "output_type": "execute_result",
          "data": {
            "text/plain": [
              "True"
            ]
          },
          "metadata": {
            "tags": []
          },
          "execution_count": 18
        }
      ]
    },
    {
      "cell_type": "code",
      "metadata": {
        "id": "IlJjAvtzYfKQ",
        "colab_type": "code",
        "outputId": "56b31fb5-137b-465c-9a02-4d065750c170",
        "colab": {
          "base_uri": "https://localhost:8080/",
          "height": 34
        }
      },
      "source": [
        "\"29\" not in dob"
      ],
      "execution_count": 0,
      "outputs": [
        {
          "output_type": "execute_result",
          "data": {
            "text/plain": [
              "False"
            ]
          },
          "metadata": {
            "tags": []
          },
          "execution_count": 19
        }
      ]
    },
    {
      "cell_type": "code",
      "metadata": {
        "id": "fkP2XbiZYntd",
        "colab_type": "code",
        "outputId": "bda8abe6-7b0b-4218-d949-868f623b10b5",
        "colab": {
          "base_uri": "https://localhost:8080/",
          "height": 34
        }
      },
      "source": [
        "c=[1,2,[3,4]]   #list of list\n",
        "c"
      ],
      "execution_count": 0,
      "outputs": [
        {
          "output_type": "execute_result",
          "data": {
            "text/plain": [
              "[1, 2, [3, 4]]"
            ]
          },
          "metadata": {
            "tags": []
          },
          "execution_count": 20
        }
      ]
    },
    {
      "cell_type": "code",
      "metadata": {
        "id": "nyiytDlRY9pg",
        "colab_type": "code",
        "outputId": "039adedc-ab7b-4240-ffe3-9fb9018d2f71",
        "colab": {
          "base_uri": "https://localhost:8080/",
          "height": 34
        }
      },
      "source": [
        "c[2]\n"
      ],
      "execution_count": 0,
      "outputs": [
        {
          "output_type": "execute_result",
          "data": {
            "text/plain": [
              "[3, 4]"
            ]
          },
          "metadata": {
            "tags": []
          },
          "execution_count": 21
        }
      ]
    },
    {
      "cell_type": "code",
      "metadata": {
        "id": "LvJJdi8kY_Rz",
        "colab_type": "code",
        "outputId": "0321163c-0c2a-4a65-c155-8d1fb19ba5a7",
        "colab": {
          "base_uri": "https://localhost:8080/",
          "height": 34
        }
      },
      "source": [
        "c[2][0]"
      ],
      "execution_count": 0,
      "outputs": [
        {
          "output_type": "execute_result",
          "data": {
            "text/plain": [
              "3"
            ]
          },
          "metadata": {
            "tags": []
          },
          "execution_count": 22
        }
      ]
    },
    {
      "cell_type": "code",
      "metadata": {
        "id": "32Sr68vrZKNd",
        "colab_type": "code",
        "outputId": "79d0e034-1dce-4dff-ac1f-9dbfc5320e18",
        "colab": {
          "base_uri": "https://localhost:8080/",
          "height": 34
        }
      },
      "source": [
        "r=[\"hima\",\"bindu\",\"hima\",\"hima\",\"hima\",\"hima\",\"bindu\",\"bindu\"]\n",
        "r.count(\"hima\")"
      ],
      "execution_count": 0,
      "outputs": [
        {
          "output_type": "execute_result",
          "data": {
            "text/plain": [
              "5"
            ]
          },
          "metadata": {
            "tags": []
          },
          "execution_count": 23
        }
      ]
    },
    {
      "cell_type": "code",
      "metadata": {
        "id": "VHSMyID9aXzq",
        "colab_type": "code",
        "outputId": "6eccd02f-991a-4f55-c2f9-6c572427896f",
        "colab": {
          "base_uri": "https://localhost:8080/",
          "height": 34
        }
      },
      "source": [
        "r.append(\"gssn\")\n",
        "r"
      ],
      "execution_count": 0,
      "outputs": [
        {
          "output_type": "execute_result",
          "data": {
            "text/plain": [
              "['hima', 'bindu', 'hima', 'hima', 'hima', 'hima', 'bindu', 'bindu', 'gssn']"
            ]
          },
          "metadata": {
            "tags": []
          },
          "execution_count": 24
        }
      ]
    },
    {
      "cell_type": "code",
      "metadata": {
        "id": "1vI6fcfcahBW",
        "colab_type": "code",
        "outputId": "6c6899d4-dc4a-49d4-b4aa-dedc18e3769a",
        "colab": {
          "base_uri": "https://localhost:8080/",
          "height": 194
        }
      },
      "source": [
        "r.append([1,2])\n",
        "r"
      ],
      "execution_count": 0,
      "outputs": [
        {
          "output_type": "execute_result",
          "data": {
            "text/plain": [
              "['hima',\n",
              " 'bindu',\n",
              " 'hima',\n",
              " 'hima',\n",
              " 'hima',\n",
              " 'hima',\n",
              " 'bindu',\n",
              " 'bindu',\n",
              " 'gssn',\n",
              " [1, 2]]"
            ]
          },
          "metadata": {
            "tags": []
          },
          "execution_count": 25
        }
      ]
    },
    {
      "cell_type": "code",
      "metadata": {
        "id": "A9XroXXoa3UX",
        "colab_type": "code",
        "outputId": "83aba752-50b1-4f63-90e2-b4fc3fd3b17f",
        "colab": {
          "base_uri": "https://localhost:8080/",
          "height": 212
        }
      },
      "source": [
        "r.insert(2,\"why\")\n",
        "r"
      ],
      "execution_count": 0,
      "outputs": [
        {
          "output_type": "execute_result",
          "data": {
            "text/plain": [
              "['hima',\n",
              " 'bindu',\n",
              " 'why',\n",
              " 'hima',\n",
              " 'hima',\n",
              " 'hima',\n",
              " 'hima',\n",
              " 'bindu',\n",
              " 'bindu',\n",
              " 'gssn',\n",
              " [1, 2]]"
            ]
          },
          "metadata": {
            "tags": []
          },
          "execution_count": 26
        }
      ]
    },
    {
      "cell_type": "code",
      "metadata": {
        "id": "QhCUcqbZbbT5",
        "colab_type": "code",
        "outputId": "2dec23e7-be1b-4431-ad99-dab7f1908a3b",
        "colab": {
          "base_uri": "https://localhost:8080/",
          "height": 194
        }
      },
      "source": [
        "r.remove(\"bindu\")\n",
        "r"
      ],
      "execution_count": 0,
      "outputs": [
        {
          "output_type": "execute_result",
          "data": {
            "text/plain": [
              "['hima',\n",
              " 'why',\n",
              " 'hima',\n",
              " 'hima',\n",
              " 'hima',\n",
              " 'hima',\n",
              " 'bindu',\n",
              " 'bindu',\n",
              " 'gssn',\n",
              " [1, 2]]"
            ]
          },
          "metadata": {
            "tags": []
          },
          "execution_count": 28
        }
      ]
    },
    {
      "cell_type": "code",
      "metadata": {
        "id": "HliSOcLwfl2e",
        "colab_type": "code",
        "outputId": "b88b033f-61a7-4018-b281-4bad3fa1c3d0",
        "colab": {
          "base_uri": "https://localhost:8080/",
          "height": 34
        }
      },
      "source": [
        "r.pop(1) #the output shown i.e. index 1 is removed from list\n"
      ],
      "execution_count": 0,
      "outputs": [
        {
          "output_type": "execute_result",
          "data": {
            "text/plain": [
              "'hima'"
            ]
          },
          "metadata": {
            "tags": []
          },
          "execution_count": 31
        }
      ]
    },
    {
      "cell_type": "code",
      "metadata": {
        "id": "9RebEpocf29k",
        "colab_type": "code",
        "outputId": "c09f3988-afdf-4e5a-fa5c-2be301fbb04d",
        "colab": {
          "base_uri": "https://localhost:8080/",
          "height": 34
        }
      },
      "source": [
        "r"
      ],
      "execution_count": 0,
      "outputs": [
        {
          "output_type": "execute_result",
          "data": {
            "text/plain": [
              "['hima', 'hima', 'hima', 'bindu', 'bindu', 'gssn', [1, 2]]"
            ]
          },
          "metadata": {
            "tags": []
          },
          "execution_count": 32
        }
      ]
    },
    {
      "cell_type": "code",
      "metadata": {
        "id": "3pVLokwVgMNZ",
        "colab_type": "code",
        "colab": {}
      },
      "source": [
        "c=[1,4,6,2,9,6,4,2,8,5]"
      ],
      "execution_count": 0,
      "outputs": []
    },
    {
      "cell_type": "code",
      "metadata": {
        "id": "C3_Taq-HgquS",
        "colab_type": "code",
        "outputId": "2962c1a6-d96c-4852-be4f-33227c978f43",
        "colab": {
          "base_uri": "https://localhost:8080/",
          "height": 34
        }
      },
      "source": [
        "d=sorted(c)  #this function won't edit the actual list i.e. c here\n",
        "d"
      ],
      "execution_count": 0,
      "outputs": [
        {
          "output_type": "execute_result",
          "data": {
            "text/plain": [
              "[1, 2, 2, 4, 4, 5, 6, 6, 8, 9]"
            ]
          },
          "metadata": {
            "tags": []
          },
          "execution_count": 34
        }
      ]
    },
    {
      "cell_type": "code",
      "metadata": {
        "id": "9XwsdCxYgvao",
        "colab_type": "code",
        "outputId": "b148d8e2-2f71-4d14-c36c-bc271e8e5218",
        "colab": {
          "base_uri": "https://localhost:8080/",
          "height": 34
        }
      },
      "source": [
        "c"
      ],
      "execution_count": 0,
      "outputs": [
        {
          "output_type": "execute_result",
          "data": {
            "text/plain": [
              "[1, 4, 6, 2, 9, 6, 4, 2, 8, 5]"
            ]
          },
          "metadata": {
            "tags": []
          },
          "execution_count": 35
        }
      ]
    },
    {
      "cell_type": "code",
      "metadata": {
        "id": "9WcpGVwEgwQx",
        "colab_type": "code",
        "outputId": "15576203-d9fe-44c8-8874-4c4d4c098381",
        "colab": {
          "base_uri": "https://localhost:8080/",
          "height": 34
        }
      },
      "source": [
        "c.sort()  #this edits the actual list too...\n",
        "c"
      ],
      "execution_count": 0,
      "outputs": [
        {
          "output_type": "execute_result",
          "data": {
            "text/plain": [
              "[1, 2, 2, 4, 4, 5, 6, 6, 8, 9]"
            ]
          },
          "metadata": {
            "tags": []
          },
          "execution_count": 36
        }
      ]
    },
    {
      "cell_type": "code",
      "metadata": {
        "id": "lUBQLbFmg7H4",
        "colab_type": "code",
        "colab": {}
      },
      "source": [
        "e=[\"bindu\",\"hima\"]\n",
        "e.reverse()"
      ],
      "execution_count": 0,
      "outputs": []
    },
    {
      "cell_type": "code",
      "metadata": {
        "id": "pbjMqHijhTda",
        "colab_type": "code",
        "outputId": "4acffed8-9fb5-497b-cb93-9d0fb86a66cf",
        "colab": {
          "base_uri": "https://localhost:8080/",
          "height": 34
        }
      },
      "source": [
        "e"
      ],
      "execution_count": 0,
      "outputs": [
        {
          "output_type": "execute_result",
          "data": {
            "text/plain": [
              "['hima', 'bindu']"
            ]
          },
          "metadata": {
            "tags": []
          },
          "execution_count": 38
        }
      ]
    },
    {
      "cell_type": "markdown",
      "metadata": {
        "id": "QhrQVRbDieDb",
        "colab_type": "text"
      },
      "source": [
        "##Dictionaries"
      ]
    },
    {
      "cell_type": "code",
      "metadata": {
        "id": "y499BcY_hUH6",
        "colab_type": "code",
        "outputId": "85588c38-f64f-4eba-c996-9d82d8d5986f",
        "colab": {
          "base_uri": "https://localhost:8080/",
          "height": 34
        }
      },
      "source": [
        "d={}\n",
        "type(d)"
      ],
      "execution_count": 0,
      "outputs": [
        {
          "output_type": "execute_result",
          "data": {
            "text/plain": [
              "dict"
            ]
          },
          "metadata": {
            "tags": []
          },
          "execution_count": 39
        }
      ]
    },
    {
      "cell_type": "code",
      "metadata": {
        "id": "7Cl7TToLij6I",
        "colab_type": "code",
        "outputId": "fd8e5532-38e0-43cc-f019-19e19441fc55",
        "colab": {
          "base_uri": "https://localhost:8080/",
          "height": 34
        }
      },
      "source": [
        "e=dict()\n",
        "type(e)"
      ],
      "execution_count": 0,
      "outputs": [
        {
          "output_type": "execute_result",
          "data": {
            "text/plain": [
              "dict"
            ]
          },
          "metadata": {
            "tags": []
          },
          "execution_count": 40
        }
      ]
    },
    {
      "cell_type": "code",
      "metadata": {
        "id": "1T3VUAJ0itXI",
        "colab_type": "code",
        "outputId": "ac968e68-3b86-4340-b76a-5c6c91d6aa7f",
        "colab": {
          "base_uri": "https://localhost:8080/",
          "height": 34
        }
      },
      "source": [
        "e [\"first\"]=100  #key:value- dictionary; index:value- list; key is usually a string\n",
        "e"
      ],
      "execution_count": 0,
      "outputs": [
        {
          "output_type": "execute_result",
          "data": {
            "text/plain": [
              "{'first': 100}"
            ]
          },
          "metadata": {
            "tags": []
          },
          "execution_count": 46
        }
      ]
    },
    {
      "cell_type": "code",
      "metadata": {
        "id": "mqfImn_ti6vz",
        "colab_type": "code",
        "outputId": "971d3ff8-a2db-47b0-a343-945421245eb4",
        "colab": {
          "base_uri": "https://localhost:8080/",
          "height": 34
        }
      },
      "source": [
        "dict(e)"
      ],
      "execution_count": 0,
      "outputs": [
        {
          "output_type": "execute_result",
          "data": {
            "text/plain": [
              "{'first': 100}"
            ]
          },
          "metadata": {
            "tags": []
          },
          "execution_count": 47
        }
      ]
    },
    {
      "cell_type": "code",
      "metadata": {
        "id": "aVgkpBDOjLFS",
        "colab_type": "code",
        "outputId": "439343f4-bfa7-41dd-8351-5d2d74e618ed",
        "colab": {
          "base_uri": "https://localhost:8080/",
          "height": 34
        }
      },
      "source": [
        "e[\"second\"]=200\n",
        "e"
      ],
      "execution_count": 0,
      "outputs": [
        {
          "output_type": "execute_result",
          "data": {
            "text/plain": [
              "{'first': 100, 'second': 200}"
            ]
          },
          "metadata": {
            "tags": []
          },
          "execution_count": 48
        }
      ]
    },
    {
      "cell_type": "code",
      "metadata": {
        "id": "ZJVbytXWvh_P",
        "colab_type": "code",
        "outputId": "bf721c6b-ae62-4422-8f47-7b7a16ea1c47",
        "colab": {
          "base_uri": "https://localhost:8080/",
          "height": 34
        }
      },
      "source": [
        "e[\"first\"]=10       # like lists , we can't have repetitions\n",
        "e"
      ],
      "execution_count": 0,
      "outputs": [
        {
          "output_type": "execute_result",
          "data": {
            "text/plain": [
              "{'first': 10, 'second': 200}"
            ]
          },
          "metadata": {
            "tags": []
          },
          "execution_count": 49
        }
      ]
    },
    {
      "cell_type": "code",
      "metadata": {
        "id": "lBEMsr1Avqex",
        "colab_type": "code",
        "outputId": "d2e158d5-8e21-42e3-ea66-f4f385a90f09",
        "colab": {
          "base_uri": "https://localhost:8080/",
          "height": 34
        }
      },
      "source": [
        "f={\"hima\":1,\"bindu\":2}\n",
        "f"
      ],
      "execution_count": 0,
      "outputs": [
        {
          "output_type": "execute_result",
          "data": {
            "text/plain": [
              "{'bindu': 2, 'hima': 1}"
            ]
          },
          "metadata": {
            "tags": []
          },
          "execution_count": 51
        }
      ]
    },
    {
      "cell_type": "code",
      "metadata": {
        "id": "Xg25Qb_4wXl2",
        "colab_type": "code",
        "outputId": "04b92d82-a699-48b8-8fdd-deb008767757",
        "colab": {
          "base_uri": "https://localhost:8080/",
          "height": 34
        }
      },
      "source": [
        "i={}\n",
        "i_1={\"hima\":1,\"hhbindu\":2}\n",
        "i_2={\"A\":12,\"B\":23}\n",
        "i[\"i1\"]=i_1\n",
        "i[\"i2\"]=i_2\n",
        "i"
      ],
      "execution_count": 0,
      "outputs": [
        {
          "output_type": "execute_result",
          "data": {
            "text/plain": [
              "{'i1': {'hhbindu': 2, 'hima': 1}, 'i2': {'A': 12, 'B': 23}}"
            ]
          },
          "metadata": {
            "tags": []
          },
          "execution_count": 58
        }
      ]
    },
    {
      "cell_type": "code",
      "metadata": {
        "id": "_9O2D5KXzzPZ",
        "colab_type": "code",
        "outputId": "90866018-eb94-41b9-be5d-8a51bce06135",
        "colab": {
          "base_uri": "https://localhost:8080/",
          "height": 34
        }
      },
      "source": [
        "i_1[\"hima\"]+=1   #1 gets added to the value making it 2. if same code is run again; 2 becomes 3\n",
        "i"
      ],
      "execution_count": 0,
      "outputs": [
        {
          "output_type": "execute_result",
          "data": {
            "text/plain": [
              "{'i1': {'hhbindu': 2, 'hima': 2}, 'i2': {'A': 12, 'B': 23}}"
            ]
          },
          "metadata": {
            "tags": []
          },
          "execution_count": 59
        }
      ]
    },
    {
      "cell_type": "code",
      "metadata": {
        "id": "1yt9LrXx0-fD",
        "colab_type": "code",
        "outputId": "e040ee22-0bf0-4ac5-c14b-c3ad67c5ea84",
        "colab": {
          "base_uri": "https://localhost:8080/",
          "height": 34
        }
      },
      "source": [
        "i_1.get(\"hima\")"
      ],
      "execution_count": 0,
      "outputs": [
        {
          "output_type": "execute_result",
          "data": {
            "text/plain": [
              "2"
            ]
          },
          "metadata": {
            "tags": []
          },
          "execution_count": 60
        }
      ]
    },
    {
      "cell_type": "code",
      "metadata": {
        "id": "FfagoUrc1bTd",
        "colab_type": "code",
        "outputId": "cd94c2b9-7a7c-4c3f-a46a-3886639d8c66",
        "colab": {
          "base_uri": "https://localhost:8080/",
          "height": 34
        }
      },
      "source": [
        "i_1.get(\"who\",\"not there in this dictionary\") #this is useful when something is not found in online dictionaries"
      ],
      "execution_count": 0,
      "outputs": [
        {
          "output_type": "execute_result",
          "data": {
            "text/plain": [
              "'not there in this dictionary'"
            ]
          },
          "metadata": {
            "tags": []
          },
          "execution_count": 61
        }
      ]
    },
    {
      "cell_type": "code",
      "metadata": {
        "id": "JgtqbsvU25ZX",
        "colab_type": "code",
        "outputId": "5f2ddc72-5929-4559-b04f-77cc7266f16d",
        "colab": {
          "base_uri": "https://localhost:8080/",
          "height": 34
        }
      },
      "source": [
        "i_1.get(\"hima\",\"hhbindu\") "
      ],
      "execution_count": 0,
      "outputs": [
        {
          "output_type": "execute_result",
          "data": {
            "text/plain": [
              "2"
            ]
          },
          "metadata": {
            "tags": []
          },
          "execution_count": 63
        }
      ]
    },
    {
      "cell_type": "code",
      "metadata": {
        "id": "LrEuhrJ62_Qo",
        "colab_type": "code",
        "outputId": "23b3f9ed-eed1-448b-b20d-cb6f9facced9",
        "colab": {
          "base_uri": "https://localhost:8080/",
          "height": 34
        }
      },
      "source": [
        "i_1.get(\"not\",\"hima\")  #if first one exists,it would print the value; if 1st one isn't there 2nd one's value is printed and if both do not exist the 2nd key is itself printed"
      ],
      "execution_count": 0,
      "outputs": [
        {
          "output_type": "execute_result",
          "data": {
            "text/plain": [
              "'hima'"
            ]
          },
          "metadata": {
            "tags": []
          },
          "execution_count": 65
        }
      ]
    },
    {
      "cell_type": "code",
      "metadata": {
        "id": "fgkMIHky3Hkd",
        "colab_type": "code",
        "outputId": "161d57cd-2b92-4b2f-d5cd-16d93d28c7f6",
        "colab": {
          "base_uri": "https://localhost:8080/",
          "height": 34
        }
      },
      "source": [
        "i_1.pop(\"hima\")  #removes key and value of it"
      ],
      "execution_count": 0,
      "outputs": [
        {
          "output_type": "execute_result",
          "data": {
            "text/plain": [
              "2"
            ]
          },
          "metadata": {
            "tags": []
          },
          "execution_count": 66
        }
      ]
    },
    {
      "cell_type": "code",
      "metadata": {
        "id": "TCeq1xfIBcwD",
        "colab_type": "code",
        "outputId": "683b25f7-6938-4666-d39a-de1945c0de82",
        "colab": {
          "base_uri": "https://localhost:8080/",
          "height": 34
        }
      },
      "source": [
        "i_1"
      ],
      "execution_count": 0,
      "outputs": [
        {
          "output_type": "execute_result",
          "data": {
            "text/plain": [
              "{'hhbindu': 2}"
            ]
          },
          "metadata": {
            "tags": []
          },
          "execution_count": 67
        }
      ]
    },
    {
      "cell_type": "code",
      "metadata": {
        "id": "YFZ9CU5wBeMq",
        "colab_type": "code",
        "outputId": "ed1574e0-42f3-4d10-a478-1127459bca30",
        "colab": {
          "base_uri": "https://localhost:8080/",
          "height": 34
        }
      },
      "source": [
        "del i_1[\"hhbindu\"]\n",
        "i_1"
      ],
      "execution_count": 0,
      "outputs": [
        {
          "output_type": "execute_result",
          "data": {
            "text/plain": [
              "{}"
            ]
          },
          "metadata": {
            "tags": []
          },
          "execution_count": 68
        }
      ]
    },
    {
      "cell_type": "code",
      "metadata": {
        "id": "90W2s1G6Breq",
        "colab_type": "code",
        "colab": {}
      },
      "source": [
        "a_1={\"hima\":90,\"bindu\":89}\n",
        "a_2={\"abcd\":67,\"hima\":888}\n",
        "a_2.update(a_1)  #values of a_1 is used to update a_2 and diff keys would get added"
      ],
      "execution_count": 0,
      "outputs": []
    },
    {
      "cell_type": "code",
      "metadata": {
        "id": "8KUUnFm5CudQ",
        "colab_type": "code",
        "outputId": "2ae488d9-5932-4310-b3aa-aacfeedf1452",
        "colab": {
          "base_uri": "https://localhost:8080/",
          "height": 34
        }
      },
      "source": [
        "a_2"
      ],
      "execution_count": 0,
      "outputs": [
        {
          "output_type": "execute_result",
          "data": {
            "text/plain": [
              "{'abcd': 67, 'bindu': 89, 'hima': 90}"
            ]
          },
          "metadata": {
            "tags": []
          },
          "execution_count": 71
        }
      ]
    },
    {
      "cell_type": "code",
      "metadata": {
        "id": "TO1zCuaZC4zQ",
        "colab_type": "code",
        "outputId": "e482a3eb-94fb-4649-f56e-54e4b3ac4d63",
        "colab": {
          "base_uri": "https://localhost:8080/",
          "height": 34
        }
      },
      "source": [
        "\"gssn\" in a_1"
      ],
      "execution_count": 0,
      "outputs": [
        {
          "output_type": "execute_result",
          "data": {
            "text/plain": [
              "False"
            ]
          },
          "metadata": {
            "tags": []
          },
          "execution_count": 72
        }
      ]
    },
    {
      "cell_type": "code",
      "metadata": {
        "id": "3zIcI6WiDhiE",
        "colab_type": "code",
        "outputId": "cb572516-0055-43dd-d55c-e46896d0e1b7",
        "colab": {
          "base_uri": "https://localhost:8080/",
          "height": 34
        }
      },
      "source": [
        "a_2.keys()"
      ],
      "execution_count": 0,
      "outputs": [
        {
          "output_type": "execute_result",
          "data": {
            "text/plain": [
              "dict_keys(['abcd', 'hima', 'bindu'])"
            ]
          },
          "metadata": {
            "tags": []
          },
          "execution_count": 74
        }
      ]
    },
    {
      "cell_type": "code",
      "metadata": {
        "id": "bPYZPyI0DkLD",
        "colab_type": "code",
        "outputId": "1c350550-b0c6-47e7-b901-9efcf0196284",
        "colab": {
          "base_uri": "https://localhost:8080/",
          "height": 34
        }
      },
      "source": [
        "a_2.values()"
      ],
      "execution_count": 0,
      "outputs": [
        {
          "output_type": "execute_result",
          "data": {
            "text/plain": [
              "dict_values([67, 90, 89])"
            ]
          },
          "metadata": {
            "tags": []
          },
          "execution_count": 75
        }
      ]
    },
    {
      "cell_type": "code",
      "metadata": {
        "id": "ZI1bLXvgDvNm",
        "colab_type": "code",
        "outputId": "2c23fabf-bb92-4afa-ef19-819ebe8c995d",
        "colab": {
          "base_uri": "https://localhost:8080/",
          "height": 34
        }
      },
      "source": [
        "a_2.items()"
      ],
      "execution_count": 0,
      "outputs": [
        {
          "output_type": "execute_result",
          "data": {
            "text/plain": [
              "dict_items([('abcd', 67), ('hima', 90), ('bindu', 89)])"
            ]
          },
          "metadata": {
            "tags": []
          },
          "execution_count": 76
        }
      ]
    },
    {
      "cell_type": "markdown",
      "metadata": {
        "id": "oIdySRlGEOXk",
        "colab_type": "text"
      },
      "source": [
        "##Sets"
      ]
    },
    {
      "cell_type": "code",
      "metadata": {
        "id": "7MWQhZNnDzkg",
        "colab_type": "code",
        "colab": {}
      },
      "source": [
        "q=[123,234,345,456]\n",
        "q=set(q)"
      ],
      "execution_count": 0,
      "outputs": []
    },
    {
      "cell_type": "code",
      "metadata": {
        "id": "V9Wkh3owGGxX",
        "colab_type": "code",
        "outputId": "b2077372-ddd9-473b-f214-d4a54b24fa57",
        "colab": {
          "base_uri": "https://localhost:8080/",
          "height": 34
        }
      },
      "source": [
        "q"
      ],
      "execution_count": 0,
      "outputs": [
        {
          "output_type": "execute_result",
          "data": {
            "text/plain": [
              "{123, 234, 345, 456}"
            ]
          },
          "metadata": {
            "tags": []
          },
          "execution_count": 78
        }
      ]
    },
    {
      "cell_type": "code",
      "metadata": {
        "id": "_3AH3kwmGI1J",
        "colab_type": "code",
        "outputId": "5ac705b4-5c76-4770-a430-b6d1f8dcf2f0",
        "colab": {
          "base_uri": "https://localhost:8080/",
          "height": 34
        }
      },
      "source": [
        "type(q)"
      ],
      "execution_count": 0,
      "outputs": [
        {
          "output_type": "execute_result",
          "data": {
            "text/plain": [
              "set"
            ]
          },
          "metadata": {
            "tags": []
          },
          "execution_count": 79
        }
      ]
    },
    {
      "cell_type": "code",
      "metadata": {
        "id": "iGCSzT_KGL3f",
        "colab_type": "code",
        "outputId": "b5d1b9ad-0414-49d8-c4f9-b2ec6079b0ea",
        "colab": {
          "base_uri": "https://localhost:8080/",
          "height": 34
        }
      },
      "source": [
        "w={1,2,3,4,5,6,7,8,9,0}\n",
        "type(w)"
      ],
      "execution_count": 0,
      "outputs": [
        {
          "output_type": "execute_result",
          "data": {
            "text/plain": [
              "set"
            ]
          },
          "metadata": {
            "tags": []
          },
          "execution_count": 80
        }
      ]
    },
    {
      "cell_type": "code",
      "metadata": {
        "id": "HD7GoDdNHpZO",
        "colab_type": "code",
        "outputId": "5f8a16cf-d0ec-4c1b-cb52-b7fea27a4ee4",
        "colab": {
          "base_uri": "https://localhost:8080/",
          "height": 34
        }
      },
      "source": [
        "y={1,1,4,5,6,6,6,8,7,1,7,77,9,9,66,5,9}\n",
        "y"
      ],
      "execution_count": 0,
      "outputs": [
        {
          "output_type": "execute_result",
          "data": {
            "text/plain": [
              "{1, 4, 5, 6, 7, 8, 9, 66, 77}"
            ]
          },
          "metadata": {
            "tags": []
          },
          "execution_count": 82
        }
      ]
    },
    {
      "cell_type": "code",
      "metadata": {
        "id": "oikrhcC3IFfk",
        "colab_type": "code",
        "outputId": "1c372496-871e-4f9e-cbf8-0b2acc417ab0",
        "colab": {
          "base_uri": "https://localhost:8080/",
          "height": 34
        }
      },
      "source": [
        "A={1,2,3,4,5}\n",
        "B={2,3,4,5,6}\n",
        "C=A.union(B)\n",
        "C"
      ],
      "execution_count": 0,
      "outputs": [
        {
          "output_type": "execute_result",
          "data": {
            "text/plain": [
              "{1, 2, 3, 4, 5, 6}"
            ]
          },
          "metadata": {
            "tags": []
          },
          "execution_count": 83
        }
      ]
    },
    {
      "cell_type": "code",
      "metadata": {
        "id": "tCBp_0qrJAtm",
        "colab_type": "code",
        "outputId": "1a8ed2ed-9e6d-4cc9-c83c-c0e338a2b91a",
        "colab": {
          "base_uri": "https://localhost:8080/",
          "height": 34
        }
      },
      "source": [
        "A.intersection(B)\n"
      ],
      "execution_count": 0,
      "outputs": [
        {
          "output_type": "execute_result",
          "data": {
            "text/plain": [
              "{2, 3, 4, 5}"
            ]
          },
          "metadata": {
            "tags": []
          },
          "execution_count": 85
        }
      ]
    },
    {
      "cell_type": "code",
      "metadata": {
        "id": "eK1M52yDJV2M",
        "colab_type": "code",
        "outputId": "6c18116f-3a53-4bea-ac1e-ddeddc46ea6d",
        "colab": {
          "base_uri": "https://localhost:8080/",
          "height": 34
        }
      },
      "source": [
        "A.difference(B)"
      ],
      "execution_count": 0,
      "outputs": [
        {
          "output_type": "execute_result",
          "data": {
            "text/plain": [
              "{1}"
            ]
          },
          "metadata": {
            "tags": []
          },
          "execution_count": 86
        }
      ]
    },
    {
      "cell_type": "code",
      "metadata": {
        "id": "jag9BeUnJ0aT",
        "colab_type": "code",
        "outputId": "e0e057f4-0c80-4f9e-f701-07f2adac7628",
        "colab": {
          "base_uri": "https://localhost:8080/",
          "height": 34
        }
      },
      "source": [
        "B.difference(A)"
      ],
      "execution_count": 0,
      "outputs": [
        {
          "output_type": "execute_result",
          "data": {
            "text/plain": [
              "{6}"
            ]
          },
          "metadata": {
            "tags": []
          },
          "execution_count": 87
        }
      ]
    },
    {
      "cell_type": "code",
      "metadata": {
        "id": "4rfj2FJkJ4l0",
        "colab_type": "code",
        "outputId": "68757ab7-e014-4ca4-a4d0-1322685579e9",
        "colab": {
          "base_uri": "https://localhost:8080/",
          "height": 34
        }
      },
      "source": [
        "A-B"
      ],
      "execution_count": 0,
      "outputs": [
        {
          "output_type": "execute_result",
          "data": {
            "text/plain": [
              "{1}"
            ]
          },
          "metadata": {
            "tags": []
          },
          "execution_count": 88
        }
      ]
    },
    {
      "cell_type": "code",
      "metadata": {
        "id": "QqLRC0cbLPU7",
        "colab_type": "code",
        "outputId": "7fae9230-a9ee-4b81-f124-83fc7f80e92f",
        "colab": {
          "base_uri": "https://localhost:8080/",
          "height": 34
        }
      },
      "source": [
        "B-A"
      ],
      "execution_count": 0,
      "outputs": [
        {
          "output_type": "execute_result",
          "data": {
            "text/plain": [
              "{6}"
            ]
          },
          "metadata": {
            "tags": []
          },
          "execution_count": 89
        }
      ]
    },
    {
      "cell_type": "code",
      "metadata": {
        "id": "zAc_0nyFLQhJ",
        "colab_type": "code",
        "outputId": "d0c31855-45cf-4c86-bc4f-3c0729f5840c",
        "colab": {
          "base_uri": "https://localhost:8080/",
          "height": 34
        }
      },
      "source": [
        "a={1,2,3,4,5}\n",
        "b={2,3}\n",
        "b.issubset(a)"
      ],
      "execution_count": 0,
      "outputs": [
        {
          "output_type": "execute_result",
          "data": {
            "text/plain": [
              "True"
            ]
          },
          "metadata": {
            "tags": []
          },
          "execution_count": 90
        }
      ]
    },
    {
      "cell_type": "code",
      "metadata": {
        "id": "8_2gbhx_LpbF",
        "colab_type": "code",
        "outputId": "4d1e7be3-7218-4c6b-9d45-e4622150da7c",
        "colab": {
          "base_uri": "https://localhost:8080/",
          "height": 34
        }
      },
      "source": [
        "b>a"
      ],
      "execution_count": 0,
      "outputs": [
        {
          "output_type": "execute_result",
          "data": {
            "text/plain": [
              "False"
            ]
          },
          "metadata": {
            "tags": []
          },
          "execution_count": 91
        }
      ]
    },
    {
      "cell_type": "code",
      "metadata": {
        "id": "W4WXt3szLunh",
        "colab_type": "code",
        "outputId": "312c01e9-9704-4419-ef11-8a8b962c5491",
        "colab": {
          "base_uri": "https://localhost:8080/",
          "height": 34
        }
      },
      "source": [
        " b.add(9)\n",
        " b"
      ],
      "execution_count": 0,
      "outputs": [
        {
          "output_type": "execute_result",
          "data": {
            "text/plain": [
              "{2, 3, 9}"
            ]
          },
          "metadata": {
            "tags": []
          },
          "execution_count": 93
        }
      ]
    },
    {
      "cell_type": "code",
      "metadata": {
        "id": "6pNcvfRzMEFK",
        "colab_type": "code",
        "outputId": "7afe93ed-0663-437a-cc91-d576f768a1bc",
        "colab": {
          "base_uri": "https://localhost:8080/",
          "height": 34
        }
      },
      "source": [
        "b.update({12,13})   \n",
        "b"
      ],
      "execution_count": 0,
      "outputs": [
        {
          "output_type": "execute_result",
          "data": {
            "text/plain": [
              "{2, 3, 9, 12, 13}"
            ]
          },
          "metadata": {
            "tags": []
          },
          "execution_count": 97
        }
      ]
    },
    {
      "cell_type": "code",
      "metadata": {
        "id": "tIQOcSUnM64x",
        "colab_type": "code",
        "outputId": "4b144df2-b1dc-4560-a4b2-1c7444918fd8",
        "colab": {
          "base_uri": "https://localhost:8080/",
          "height": 34
        }
      },
      "source": [
        "b.update([14,15])\n",
        "b"
      ],
      "execution_count": 0,
      "outputs": [
        {
          "output_type": "execute_result",
          "data": {
            "text/plain": [
              "{2, 3, 9, 12, 13, 14, 15}"
            ]
          },
          "metadata": {
            "tags": []
          },
          "execution_count": 98
        }
      ]
    },
    {
      "cell_type": "code",
      "metadata": {
        "id": "h3E-HySLNJ9_",
        "colab_type": "code",
        "outputId": "b71b7c9e-b463-469d-8ed6-56bb97f1822d",
        "colab": {
          "base_uri": "https://localhost:8080/",
          "height": 34
        }
      },
      "source": [
        "b.remove(13)\n",
        "b"
      ],
      "execution_count": 0,
      "outputs": [
        {
          "output_type": "execute_result",
          "data": {
            "text/plain": [
              "{2, 3, 9, 12, 14, 15}"
            ]
          },
          "metadata": {
            "tags": []
          },
          "execution_count": 99
        }
      ]
    },
    {
      "cell_type": "code",
      "metadata": {
        "id": "FQLaIaWkNRtT",
        "colab_type": "code",
        "outputId": "5d9a06e1-8138-489e-fc85-2b318d53f3d7",
        "colab": {
          "base_uri": "https://localhost:8080/",
          "height": 34
        }
      },
      "source": [
        "b.pop()  #the first element\n",
        "b"
      ],
      "execution_count": 0,
      "outputs": [
        {
          "output_type": "execute_result",
          "data": {
            "text/plain": [
              "{3, 9, 12, 14, 15}"
            ]
          },
          "metadata": {
            "tags": []
          },
          "execution_count": 100
        }
      ]
    },
    {
      "cell_type": "markdown",
      "metadata": {
        "id": "AHfQCDW8PY1I",
        "colab_type": "text"
      },
      "source": [
        "##Assigning Value"
      ]
    },
    {
      "cell_type": "code",
      "metadata": {
        "id": "6PhjTBmSNqnF",
        "colab_type": "code",
        "colab": {}
      },
      "source": [
        "himu=10\n",
        "bindu=himu\n"
      ],
      "execution_count": 0,
      "outputs": []
    },
    {
      "cell_type": "code",
      "metadata": {
        "id": "Y1ZdwW0XPnay",
        "colab_type": "code",
        "outputId": "401ee57c-ecda-4ff1-a243-06a5710c5da6",
        "colab": {
          "base_uri": "https://localhost:8080/",
          "height": 34
        }
      },
      "source": [
        "id(himu)"
      ],
      "execution_count": 0,
      "outputs": [
        {
          "output_type": "execute_result",
          "data": {
            "text/plain": [
              "10910688"
            ]
          },
          "metadata": {
            "tags": []
          },
          "execution_count": 104
        }
      ]
    },
    {
      "cell_type": "code",
      "metadata": {
        "id": "svIufoVOPx7l",
        "colab_type": "code",
        "outputId": "cf2a9112-5937-4000-8693-642bdf638c98",
        "colab": {
          "base_uri": "https://localhost:8080/",
          "height": 34
        }
      },
      "source": [
        "id(bindu)"
      ],
      "execution_count": 0,
      "outputs": [
        {
          "output_type": "execute_result",
          "data": {
            "text/plain": [
              "10910688"
            ]
          },
          "metadata": {
            "tags": []
          },
          "execution_count": 105
        }
      ]
    },
    {
      "cell_type": "markdown",
      "metadata": {
        "id": "Wd-OxMyzQY8h",
        "colab_type": "text"
      },
      "source": [
        "same id means that the values are getting stored at same meory space i.e. both are equal. Instead of printing id to crosscheck if they are same, follow the below process:"
      ]
    },
    {
      "cell_type": "code",
      "metadata": {
        "id": "u2xQp0ISPz4P",
        "colab_type": "code",
        "outputId": "49cd6bfb-3e27-4ce2-caf7-eedfd4210938",
        "colab": {
          "base_uri": "https://localhost:8080/",
          "height": 34
        }
      },
      "source": [
        "bindu is himu"
      ],
      "execution_count": 0,
      "outputs": [
        {
          "output_type": "execute_result",
          "data": {
            "text/plain": [
              "True"
            ]
          },
          "metadata": {
            "tags": []
          },
          "execution_count": 106
        }
      ]
    },
    {
      "cell_type": "code",
      "metadata": {
        "id": "1C-7qErcQtsR",
        "colab_type": "code",
        "outputId": "f5ca6f02-3da6-42d0-c2ce-e5dcecd6e402",
        "colab": {
          "base_uri": "https://localhost:8080/",
          "height": 34
        }
      },
      "source": [
        "himu=1\n",
        "id(himu)"
      ],
      "execution_count": 0,
      "outputs": [
        {
          "output_type": "execute_result",
          "data": {
            "text/plain": [
              "10910400"
            ]
          },
          "metadata": {
            "tags": []
          },
          "execution_count": 107
        }
      ]
    },
    {
      "cell_type": "code",
      "metadata": {
        "id": "r44MXPYHRXZk",
        "colab_type": "code",
        "outputId": "0841a6cf-046f-407c-b4c6-5ff9ff2d02db",
        "colab": {
          "base_uri": "https://localhost:8080/",
          "height": 34
        }
      },
      "source": [
        "himu is bindu"
      ],
      "execution_count": 0,
      "outputs": [
        {
          "output_type": "execute_result",
          "data": {
            "text/plain": [
              "False"
            ]
          },
          "metadata": {
            "tags": []
          },
          "execution_count": 108
        }
      ]
    },
    {
      "cell_type": "markdown",
      "metadata": {
        "id": "G-S1eVzUXGbs",
        "colab_type": "text"
      },
      "source": [
        "As per the notes (pics in whatsapp):\n",
        "\n",
        "* For integer -5 to 255, small strings python will not allocate\n",
        "* After that it will create new object even if the values are same\n",
        "* Python pre allocates a no. of integers.If your integer is within that range, they will use the same object.\n",
        "* In python, variables are pointers. \n",
        "* Please note that variables is not a \"bucket of data\".\n",
        "* This is the reason why you don't have to declare variables as it it points to different object it python doesn't even require a variable to point to information of same type.\n",
        "* eg: if x=[1,2,3] and y=x; if u change x or y ; the list would get modified.\n"
      ]
    },
    {
      "cell_type": "code",
      "metadata": {
        "id": "yWDLMfiSRY4D",
        "colab_type": "code",
        "outputId": "06a24bb1-83b1-47be-e0a3-ee23ebf867d6",
        "colab": {
          "base_uri": "https://localhost:8080/",
          "height": 34
        }
      },
      "source": [
        "aa=2565\n",
        "b=25655\n",
        "print(id(aa))"
      ],
      "execution_count": 0,
      "outputs": [
        {
          "output_type": "stream",
          "text": [
            "140369961787664\n"
          ],
          "name": "stdout"
        }
      ]
    },
    {
      "cell_type": "code",
      "metadata": {
        "id": "OIc40UKERipC",
        "colab_type": "code",
        "outputId": "4bed431e-9a48-4fb2-9cba-b3470415dd3b",
        "colab": {
          "base_uri": "https://localhost:8080/",
          "height": 34
        }
      },
      "source": [
        "\n",
        "id(b)"
      ],
      "execution_count": 0,
      "outputs": [
        {
          "output_type": "execute_result",
          "data": {
            "text/plain": [
              "140369961787888"
            ]
          },
          "metadata": {
            "tags": []
          },
          "execution_count": 142
        }
      ]
    },
    {
      "cell_type": "code",
      "metadata": {
        "id": "_cZqAkL1Rjev",
        "colab_type": "code",
        "outputId": "97843528-3d52-420b-d872-3955d8f4dc4e",
        "colab": {
          "base_uri": "https://localhost:8080/",
          "height": 34
        }
      },
      "source": [
        "aa is b"
      ],
      "execution_count": 0,
      "outputs": [
        {
          "output_type": "execute_result",
          "data": {
            "text/plain": [
              "False"
            ]
          },
          "metadata": {
            "tags": []
          },
          "execution_count": 143
        }
      ]
    },
    {
      "cell_type": "code",
      "metadata": {
        "id": "X9yaZJrXZdEJ",
        "colab_type": "code",
        "colab": {}
      },
      "source": [
        "a="
      ],
      "execution_count": 0,
      "outputs": []
    },
    {
      "cell_type": "markdown",
      "metadata": {
        "id": "OktAR2TRTLHM",
        "colab_type": "text"
      },
      "source": [
        "##Conditional Instructions"
      ]
    },
    {
      "cell_type": "code",
      "metadata": {
        "id": "RITK6v-8RkTB",
        "colab_type": "code",
        "outputId": "bd6ff129-4c02-4d45-a543-b7f5e9c9c4d4",
        "colab": {
          "base_uri": "https://localhost:8080/",
          "height": 34
        }
      },
      "source": [
        "a=20\n",
        "if a<90:\n",
        "  print(\"true\")"
      ],
      "execution_count": 0,
      "outputs": [
        {
          "output_type": "stream",
          "text": [
            "true\n"
          ],
          "name": "stdout"
        }
      ]
    },
    {
      "cell_type": "code",
      "metadata": {
        "id": "Di4PteKyTjMv",
        "colab_type": "code",
        "outputId": "42edcd7e-957b-4894-98a2-90fe75ca4256",
        "colab": {
          "base_uri": "https://localhost:8080/",
          "height": 34
        }
      },
      "source": [
        "a=20\n",
        "if a<10:\n",
        "  print(\"less\")\n",
        "\n",
        "elif a>20:                  #it's compulsory to give a condition for elif statement. It won't work like else..\n",
        "  print(\"more\")\n",
        "  \n",
        "else:\n",
        "  print(\"fine\")"
      ],
      "execution_count": 0,
      "outputs": [
        {
          "output_type": "stream",
          "text": [
            "fine\n"
          ],
          "name": "stdout"
        }
      ]
    },
    {
      "cell_type": "code",
      "metadata": {
        "id": "oNcXhg2GT_3E",
        "colab_type": "code",
        "outputId": "2267b8a8-b429-4017-8e35-c8bcb0e7b964",
        "colab": {
          "base_uri": "https://localhost:8080/",
          "height": 34
        }
      },
      "source": [
        "list=[1,2,3,4]\n",
        "if \"1\"  in list:\n",
        "  print(\"1 is in list\")\n",
        "                           #1 and \"1\" is diff, one is int and other is string(anything b|w \" \" is a string)\n",
        "elif 1 in list:\n",
        "  print(\" '1' is there\")\n",
        "\n",
        "else:\n",
        "  print(\"not there\")"
      ],
      "execution_count": 0,
      "outputs": [
        {
          "output_type": "stream",
          "text": [
            " '1' is there\n"
          ],
          "name": "stdout"
        }
      ]
    },
    {
      "cell_type": "code",
      "metadata": {
        "id": "tcwdJIlVlhIN",
        "colab_type": "code",
        "outputId": "bb71b84c-0930-4430-be27-7cf3dd848a32",
        "colab": {
          "base_uri": "https://localhost:8080/",
          "height": 34
        }
      },
      "source": [
        "d={\"hima\":1,\"bindu\":2}\n",
        "if \"hima\" not in d:\n",
        "  print(\"hima is not there\")\n",
        "  \n",
        "else:\n",
        "  print(\"hima is there\")"
      ],
      "execution_count": 0,
      "outputs": [
        {
          "output_type": "stream",
          "text": [
            "hima is there\n"
          ],
          "name": "stdout"
        }
      ]
    },
    {
      "cell_type": "markdown",
      "metadata": {
        "id": "WxafgSnynap-",
        "colab_type": "text"
      },
      "source": [
        "##Iteration instructions"
      ]
    },
    {
      "cell_type": "code",
      "metadata": {
        "id": "7snDcm0_mu0r",
        "colab_type": "code",
        "outputId": "395edf1a-dea6-4b15-ee5d-de6b51dbb7bb",
        "colab": {
          "base_uri": "https://localhost:8080/",
          "height": 187
        }
      },
      "source": [
        "a=0\n",
        "while a<10:\n",
        "  print(a)\n",
        "  a+=1"
      ],
      "execution_count": 0,
      "outputs": [
        {
          "output_type": "stream",
          "text": [
            "0\n",
            "1\n",
            "2\n",
            "3\n",
            "4\n",
            "5\n",
            "6\n",
            "7\n",
            "8\n",
            "9\n"
          ],
          "name": "stdout"
        }
      ]
    },
    {
      "cell_type": "code",
      "metadata": {
        "id": "kwSqkgEUn3K1",
        "colab_type": "code",
        "outputId": "e1257d16-44f7-4e85-9f72-45bac9dd3569",
        "colab": {
          "base_uri": "https://localhost:8080/",
          "height": 68
        }
      },
      "source": [
        "name={\"gssn\",\"hima\",\"bindu\"}         #set() is zero (false) hence while loop stops iterating\n",
        "while name:\n",
        "  new_name=name.pop()\n",
        "  print(new_name,name)"
      ],
      "execution_count": 0,
      "outputs": [
        {
          "output_type": "stream",
          "text": [
            "bindu {'hima', 'gssn'}\n",
            "hima {'gssn'}\n",
            "gssn set()\n"
          ],
          "name": "stdout"
        }
      ]
    },
    {
      "cell_type": "code",
      "metadata": {
        "id": "TRpu5TFOowmH",
        "colab_type": "code",
        "outputId": "64eec72b-d8a1-45f6-daf2-e4e2b88546b6",
        "colab": {
          "base_uri": "https://localhost:8080/",
          "height": 68
        }
      },
      "source": [
        "b={\"a\",\"b\",\"c\"}\n",
        "for xyz in b:  #this line means that print every eleent in b(set)\n",
        "  print(xyz)"
      ],
      "execution_count": 0,
      "outputs": [
        {
          "output_type": "stream",
          "text": [
            "b\n",
            "c\n",
            "a\n"
          ],
          "name": "stdout"
        }
      ]
    },
    {
      "cell_type": "code",
      "metadata": {
        "id": "427DcCwoqPE6",
        "colab_type": "code",
        "outputId": "7cbaf2a0-0f85-478a-bcd5-f3b433a74086",
        "colab": {
          "base_uri": "https://localhost:8080/",
          "height": 170
        }
      },
      "source": [
        "for i in range(9):   #range(y) means numbers from 0 to y-1(including i-1)\n",
        "  print(i)"
      ],
      "execution_count": 0,
      "outputs": [
        {
          "output_type": "stream",
          "text": [
            "0\n",
            "1\n",
            "2\n",
            "3\n",
            "4\n",
            "5\n",
            "6\n",
            "7\n",
            "8\n"
          ],
          "name": "stdout"
        }
      ]
    },
    {
      "cell_type": "code",
      "metadata": {
        "id": "mo-kiq8Yqhno",
        "colab_type": "code",
        "outputId": "ee31c279-9106-42b2-ac6a-b27abaffe232",
        "colab": {
          "base_uri": "https://localhost:8080/",
          "height": 85
        }
      },
      "source": [
        "c=[\"A\",\"B\",\"C\",\"D\"]\n",
        "for i in range(4):\n",
        "  print(c[i])"
      ],
      "execution_count": 0,
      "outputs": [
        {
          "output_type": "stream",
          "text": [
            "A\n",
            "B\n",
            "C\n",
            "D\n"
          ],
          "name": "stdout"
        }
      ]
    },
    {
      "cell_type": "code",
      "metadata": {
        "id": "UucNpwyBrAo4",
        "colab_type": "code",
        "outputId": "3042cd84-6bfc-4ceb-9218-4fe205431c8c",
        "colab": {
          "base_uri": "https://localhost:8080/",
          "height": 85
        }
      },
      "source": [
        "c=[\"A\",\"B\",\"C\",\"D\"]\n",
        "for i in range(len(c)):\n",
        "  print(c[i])"
      ],
      "execution_count": 0,
      "outputs": [
        {
          "output_type": "stream",
          "text": [
            "A\n",
            "B\n",
            "C\n",
            "D\n"
          ],
          "name": "stdout"
        }
      ]
    },
    {
      "cell_type": "code",
      "metadata": {
        "id": "ovvPC0wXri0l",
        "colab_type": "code",
        "outputId": "96516b03-e745-4615-9648-88fef0fb9f7c",
        "colab": {
          "base_uri": "https://localhost:8080/",
          "height": 153
        }
      },
      "source": [
        "f=[2,3,4,5,6,7,8,9]\n",
        "for i in f:\n",
        "  if i%2==0:\n",
        "    print(i)\n",
        "    \n",
        "  else:\n",
        "    continue\n",
        "  print(\"even no.\")  "
      ],
      "execution_count": 0,
      "outputs": [
        {
          "output_type": "stream",
          "text": [
            "2\n",
            "even no.\n",
            "4\n",
            "even no.\n",
            "6\n",
            "even no.\n",
            "8\n",
            "even no.\n"
          ],
          "name": "stdout"
        }
      ]
    },
    {
      "cell_type": "code",
      "metadata": {
        "id": "35tyXnBSvrhw",
        "colab_type": "code",
        "outputId": "d30f2ee7-c66d-4969-cdf6-34dd53239c8a",
        "colab": {
          "base_uri": "https://localhost:8080/",
          "height": 153
        }
      },
      "source": [
        "f=[2,3,5,4,7,9,8,6]\n",
        "for i in f:\n",
        "  if i%2==0:\n",
        "    print(i)\n",
        "    \n",
        "  else:\n",
        "    continue\n",
        "  print(\"even no.\")"
      ],
      "execution_count": 0,
      "outputs": [
        {
          "output_type": "stream",
          "text": [
            "2\n",
            "even no.\n",
            "4\n",
            "even no.\n",
            "8\n",
            "even no.\n",
            "6\n",
            "even no.\n"
          ],
          "name": "stdout"
        }
      ]
    },
    {
      "cell_type": "code",
      "metadata": {
        "id": "GFIPfeMy0v-t",
        "colab_type": "code",
        "outputId": "4823f141-9030-4373-c65e-b46fbc6817df",
        "colab": {
          "base_uri": "https://localhost:8080/",
          "height": 51
        }
      },
      "source": [
        "f=[2,3,4,5,6,7,8,9]\n",
        "for i in f:\n",
        "  if i%2==0:\n",
        "    print(i)\n",
        "    \n",
        "  else:\n",
        "    break\n",
        "  print(\"even no.\")"
      ],
      "execution_count": 0,
      "outputs": [
        {
          "output_type": "stream",
          "text": [
            "2\n",
            "even no.\n"
          ],
          "name": "stdout"
        }
      ]
    },
    {
      "cell_type": "markdown",
      "metadata": {
        "id": "24UGaA-w1Tga",
        "colab_type": "text"
      },
      "source": [
        "##Creating Functions"
      ]
    },
    {
      "cell_type": "code",
      "metadata": {
        "id": "Y9iLM7k-094c",
        "colab_type": "code",
        "colab": {}
      },
      "source": [
        "def sum(a,b):\n",
        "  print(a+b)"
      ],
      "execution_count": 0,
      "outputs": []
    },
    {
      "cell_type": "code",
      "metadata": {
        "id": "L3rnvZBR22UN",
        "colab_type": "code",
        "outputId": "1fa03ad8-f6af-4a7d-e83c-0ca56e6a5cce",
        "colab": {
          "base_uri": "https://localhost:8080/",
          "height": 34
        }
      },
      "source": [
        "sum(10,20.5)"
      ],
      "execution_count": 0,
      "outputs": [
        {
          "output_type": "stream",
          "text": [
            "30.5\n"
          ],
          "name": "stdout"
        }
      ]
    },
    {
      "cell_type": "code",
      "metadata": {
        "id": "6AeS18qU2-qy",
        "colab_type": "code",
        "colab": {}
      },
      "source": [
        "def sum(a,b):\n",
        "  return(a+b)"
      ],
      "execution_count": 0,
      "outputs": []
    },
    {
      "cell_type": "code",
      "metadata": {
        "id": "5CTGEpYG3YI-",
        "colab_type": "code",
        "outputId": "ebdabdf0-a4ae-4628-f724-05d0fda99bf6",
        "colab": {
          "base_uri": "https://localhost:8080/",
          "height": 34
        }
      },
      "source": [
        "c=sum(10,80.9)\n",
        "c"
      ],
      "execution_count": 0,
      "outputs": [
        {
          "output_type": "execute_result",
          "data": {
            "text/plain": [
              "90.9"
            ]
          },
          "metadata": {
            "tags": []
          },
          "execution_count": 174
        }
      ]
    },
    {
      "cell_type": "code",
      "metadata": {
        "id": "Z3r5JStT4kcK",
        "colab_type": "code",
        "outputId": "55e09644-e67c-4fa0-81c9-8d6b2193e556",
        "colab": {
          "base_uri": "https://localhost:8080/",
          "height": 163
        }
      },
      "source": [
        "d=sum(1,2,3)   #to prevent the error, use the following:"
      ],
      "execution_count": 0,
      "outputs": [
        {
          "output_type": "error",
          "ename": "TypeError",
          "evalue": "ignored",
          "traceback": [
            "\u001b[0;31m---------------------------------------------------------------------------\u001b[0m",
            "\u001b[0;31mTypeError\u001b[0m                                 Traceback (most recent call last)",
            "\u001b[0;32m<ipython-input-176-d86be54af99c>\u001b[0m in \u001b[0;36m<module>\u001b[0;34m()\u001b[0m\n\u001b[0;32m----> 1\u001b[0;31m \u001b[0md\u001b[0m\u001b[0;34m=\u001b[0m\u001b[0msum\u001b[0m\u001b[0;34m(\u001b[0m\u001b[0;36m1\u001b[0m\u001b[0;34m,\u001b[0m\u001b[0;36m2\u001b[0m\u001b[0;34m,\u001b[0m\u001b[0;36m3\u001b[0m\u001b[0;34m)\u001b[0m\u001b[0;34m\u001b[0m\u001b[0;34m\u001b[0m\u001b[0m\n\u001b[0m",
            "\u001b[0;31mTypeError\u001b[0m: sum() takes 2 positional arguments but 3 were given"
          ]
        }
      ]
    },
    {
      "cell_type": "code",
      "metadata": {
        "id": "_YrZPxHb3dNf",
        "colab_type": "code",
        "colab": {}
      },
      "source": [
        "def sum_new(a,*b):\n",
        "  for i in b:\n",
        "    a+=i\n",
        "  return a "
      ],
      "execution_count": 0,
      "outputs": []
    },
    {
      "cell_type": "code",
      "metadata": {
        "id": "-l8Dlvw34agL",
        "colab_type": "code",
        "outputId": "4432a2d4-03d4-4b28-fb1f-0ffc821ffbd2",
        "colab": {
          "base_uri": "https://localhost:8080/",
          "height": 34
        }
      },
      "source": [
        "sum_new(1,2,3,4)"
      ],
      "execution_count": 0,
      "outputs": [
        {
          "output_type": "execute_result",
          "data": {
            "text/plain": [
              "10"
            ]
          },
          "metadata": {
            "tags": []
          },
          "execution_count": 177
        }
      ]
    },
    {
      "cell_type": "code",
      "metadata": {
        "id": "7S3zok9s4x4Q",
        "colab_type": "code",
        "colab": {}
      },
      "source": [
        "def sum_new(a,*b):\n",
        "  c=0\n",
        "  for i in b:\n",
        "    a+=i\n",
        "    c+=1\n",
        "    \n",
        "  return a,c"
      ],
      "execution_count": 0,
      "outputs": []
    },
    {
      "cell_type": "code",
      "metadata": {
        "id": "o6HFESlx5W6w",
        "colab_type": "code",
        "outputId": "ce7cc240-6c1a-42ab-9a4b-c2c514106a39",
        "colab": {
          "base_uri": "https://localhost:8080/",
          "height": 34
        }
      },
      "source": [
        "sum_new(10,4)"
      ],
      "execution_count": 0,
      "outputs": [
        {
          "output_type": "execute_result",
          "data": {
            "text/plain": [
              "(14, 1)"
            ]
          },
          "metadata": {
            "tags": []
          },
          "execution_count": 179
        }
      ]
    },
    {
      "cell_type": "code",
      "metadata": {
        "id": "h-7yqjOi5aJL",
        "colab_type": "code",
        "outputId": "0a2cccf2-f291-4643-fe9b-43b6ff6c5c12",
        "colab": {
          "base_uri": "https://localhost:8080/",
          "height": 34
        }
      },
      "source": [
        "a,c=sum_new(1,2,3,4)\n",
        "print(a,c)"
      ],
      "execution_count": 0,
      "outputs": [
        {
          "output_type": "stream",
          "text": [
            "10 3\n"
          ],
          "name": "stdout"
        }
      ]
    },
    {
      "cell_type": "markdown",
      "metadata": {
        "id": "NhX528iJEE2B",
        "colab_type": "text"
      },
      "source": [
        "##Error Handling"
      ]
    },
    {
      "cell_type": "code",
      "metadata": {
        "id": "QbtcqV_QEG_G",
        "colab_type": "code",
        "colab": {}
      },
      "source": [
        "import math"
      ],
      "execution_count": 0,
      "outputs": []
    },
    {
      "cell_type": "code",
      "metadata": {
        "id": "VU-RB_jnEJAS",
        "colab_type": "code",
        "outputId": "b996c540-eadd-4c2e-87b9-30cb6ba204ec",
        "colab": {
          "base_uri": "https://localhost:8080/",
          "height": 85
        }
      },
      "source": [
        "for i in range(2):\n",
        "  n=input(\"input a number from keyboard\")\n",
        "  if n==\"quit\":\n",
        "    break\n",
        "  r=math.log(float(n))\n",
        "  print(r)"
      ],
      "execution_count": 0,
      "outputs": [
        {
          "output_type": "stream",
          "text": [
            "input a number from keyboard1\n",
            "0.0\n",
            "input a number from keyboard15\n",
            "2.70805020110221\n"
          ],
          "name": "stdout"
        }
      ]
    },
    {
      "cell_type": "code",
      "metadata": {
        "id": "A5TBGr_WEx81",
        "colab_type": "code",
        "outputId": "1b35b3a4-8cc8-4781-cf97-05137cdf5c87",
        "colab": {
          "base_uri": "https://localhost:8080/",
          "height": 265
        }
      },
      "source": [
        "for i in range(2):\n",
        "  n=input(\"input a number from keyboard\")\n",
        "  if n==\"q\":\n",
        "    break\n",
        "  r=math.log(float(n))\n",
        "  print(r)"
      ],
      "execution_count": 0,
      "outputs": [
        {
          "output_type": "stream",
          "text": [
            "input a number from keyboard4\n",
            "1.3862943611198906\n",
            "input a number from keyboard0\n"
          ],
          "name": "stdout"
        },
        {
          "output_type": "error",
          "ename": "ValueError",
          "evalue": "ignored",
          "traceback": [
            "\u001b[0;31m---------------------------------------------------------------------------\u001b[0m",
            "\u001b[0;31mValueError\u001b[0m                                Traceback (most recent call last)",
            "\u001b[0;32m<ipython-input-186-763bd2c1e376>\u001b[0m in \u001b[0;36m<module>\u001b[0;34m()\u001b[0m\n\u001b[1;32m      3\u001b[0m   \u001b[0;32mif\u001b[0m \u001b[0mn\u001b[0m\u001b[0;34m==\u001b[0m\u001b[0;34m\"q\"\u001b[0m\u001b[0;34m:\u001b[0m\u001b[0;34m\u001b[0m\u001b[0;34m\u001b[0m\u001b[0m\n\u001b[1;32m      4\u001b[0m     \u001b[0;32mbreak\u001b[0m\u001b[0;34m\u001b[0m\u001b[0;34m\u001b[0m\u001b[0m\n\u001b[0;32m----> 5\u001b[0;31m   \u001b[0mr\u001b[0m\u001b[0;34m=\u001b[0m\u001b[0mmath\u001b[0m\u001b[0;34m.\u001b[0m\u001b[0mlog\u001b[0m\u001b[0;34m(\u001b[0m\u001b[0mfloat\u001b[0m\u001b[0;34m(\u001b[0m\u001b[0mn\u001b[0m\u001b[0;34m)\u001b[0m\u001b[0;34m)\u001b[0m\u001b[0;34m\u001b[0m\u001b[0;34m\u001b[0m\u001b[0m\n\u001b[0m\u001b[1;32m      6\u001b[0m   \u001b[0mprint\u001b[0m\u001b[0;34m(\u001b[0m\u001b[0mr\u001b[0m\u001b[0;34m)\u001b[0m\u001b[0;34m\u001b[0m\u001b[0;34m\u001b[0m\u001b[0m\n",
            "\u001b[0;31mValueError\u001b[0m: math domain error"
          ]
        }
      ]
    },
    {
      "cell_type": "markdown",
      "metadata": {
        "id": "0wJ75hzMH8Z-",
        "colab_type": "text"
      },
      "source": [
        "To remove the above error, do the following:"
      ]
    },
    {
      "cell_type": "code",
      "metadata": {
        "id": "r2-JLwSQGIQS",
        "colab_type": "code",
        "outputId": "df7958bb-8534-4722-9ea7-862a975a0aad",
        "colab": {
          "base_uri": "https://localhost:8080/",
          "height": 85
        }
      },
      "source": [
        "for i in range(2):\n",
        "  try:\n",
        "    n=input(\"input a number from keyboard\")\n",
        "    if n==\"q\":\n",
        "      break\n",
        "    r=math.log(float(n))\n",
        "    print(r)\n",
        "    \n",
        "  except ValueError:\n",
        "    print(\"input a number>0\")\n",
        "  \n",
        "  "
      ],
      "execution_count": 0,
      "outputs": [
        {
          "output_type": "stream",
          "text": [
            "input a number from keyboard0\n",
            "input a number>0\n",
            "input a number from keyboard6\n",
            "1.791759469228055\n"
          ],
          "name": "stdout"
        }
      ]
    },
    {
      "cell_type": "markdown",
      "metadata": {
        "id": "6gmPzDJOKE4g",
        "colab_type": "text"
      },
      "source": [
        "If break statement is used after print statement , after error occurs the loop would stop automatically\n"
      ]
    },
    {
      "cell_type": "code",
      "metadata": {
        "id": "4ZboZLRHI0yX",
        "colab_type": "code",
        "outputId": "05d138c3-0a9a-49c1-f7b1-6ad7d216c6a6",
        "colab": {
          "base_uri": "https://localhost:8080/",
          "height": 51
        }
      },
      "source": [
        "for i in range(2):\n",
        "  try:\n",
        "    n=input(\"input a number from keyboard\")\n",
        "    if n==\"q\":\n",
        "      break\n",
        "    r=math.log(float(n))\n",
        "    print(r)\n",
        "    \n",
        "  except ValueError:\n",
        "    print(\"input a number>0\")\n",
        "    break\n",
        "    \n",
        "  except Exception:\n",
        "    print(\"Unknown error\")\n",
        "  "
      ],
      "execution_count": 0,
      "outputs": [
        {
          "output_type": "stream",
          "text": [
            "input a number from keyboard0\n",
            "input a number>0\n"
          ],
          "name": "stdout"
        }
      ]
    },
    {
      "cell_type": "markdown",
      "metadata": {
        "id": "BISDpumfNh8n",
        "colab_type": "text"
      },
      "source": [
        "##Class"
      ]
    },
    {
      "cell_type": "code",
      "metadata": {
        "id": "2b-eC7QGLvXh",
        "colab_type": "code",
        "colab": {}
      },
      "source": [
        "class Person:\n",
        "  energy=1000\n",
        "  def __init__(self,alias,age):  #builder function/initialisation function\n",
        "    self.alias= alias\n",
        "    self.age=age\n",
        "  def display_energy(self):\n",
        "    print(\"energy status is:\",Person.energy)\n",
        "  def display_alias(self):\n",
        "    print(self.alias)\n",
        "  "
      ],
      "execution_count": 0,
      "outputs": []
    },
    {
      "cell_type": "code",
      "metadata": {
        "id": "qRRt-dKyfUBD",
        "colab_type": "code",
        "colab": {}
      },
      "source": [
        "p1=Person(\"Hima\",25)\n",
        "p2=Person(\"Bindu\",18)\n"
      ],
      "execution_count": 0,
      "outputs": []
    },
    {
      "cell_type": "code",
      "metadata": {
        "id": "gkWxGvSvfx0m",
        "colab_type": "code",
        "outputId": "1b5d47e3-fec1-47f1-c738-51a9e70a9f1e",
        "colab": {
          "base_uri": "https://localhost:8080/",
          "height": 34
        }
      },
      "source": [
        "p1.alias"
      ],
      "execution_count": 0,
      "outputs": [
        {
          "output_type": "execute_result",
          "data": {
            "text/plain": [
              "'Hima'"
            ]
          },
          "metadata": {
            "tags": []
          },
          "execution_count": 200
        }
      ]
    },
    {
      "cell_type": "code",
      "metadata": {
        "id": "gleUjjaCf3hr",
        "colab_type": "code",
        "outputId": "84e34374-6755-4e4c-a088-1f50288c2be2",
        "colab": {
          "base_uri": "https://localhost:8080/",
          "height": 34
        }
      },
      "source": [
        "p2.age"
      ],
      "execution_count": 0,
      "outputs": [
        {
          "output_type": "execute_result",
          "data": {
            "text/plain": [
              "18"
            ]
          },
          "metadata": {
            "tags": []
          },
          "execution_count": 201
        }
      ]
    },
    {
      "cell_type": "code",
      "metadata": {
        "id": "6RNt_pnmf_rR",
        "colab_type": "code",
        "outputId": "08a73680-d64e-4b38-d57b-926c86dd3e73",
        "colab": {
          "base_uri": "https://localhost:8080/",
          "height": 34
        }
      },
      "source": [
        "p1.display_energy()"
      ],
      "execution_count": 0,
      "outputs": [
        {
          "output_type": "stream",
          "text": [
            "energy status is: 1000\n"
          ],
          "name": "stdout"
        }
      ]
    },
    {
      "cell_type": "code",
      "metadata": {
        "id": "kMm_dAFsisyA",
        "colab_type": "code",
        "outputId": "f7ce576d-2c78-41f2-b9c0-a411f80b0cd3",
        "colab": {
          "base_uri": "https://localhost:8080/",
          "height": 34
        }
      },
      "source": [
        "p1.alias=\"gssn\"\n",
        "p1.alias"
      ],
      "execution_count": 0,
      "outputs": [
        {
          "output_type": "execute_result",
          "data": {
            "text/plain": [
              "'gssn'"
            ]
          },
          "metadata": {
            "tags": []
          },
          "execution_count": 203
        }
      ]
    },
    {
      "cell_type": "code",
      "metadata": {
        "id": "dEYakbuvlS7d",
        "colab_type": "code",
        "outputId": "96bbd00c-9ed2-4e00-d7a1-2069c2a99319",
        "colab": {
          "base_uri": "https://localhost:8080/",
          "height": 34
        }
      },
      "source": [
        "p1.age"
      ],
      "execution_count": 0,
      "outputs": [
        {
          "output_type": "execute_result",
          "data": {
            "text/plain": [
              "25"
            ]
          },
          "metadata": {
            "tags": []
          },
          "execution_count": 205
        }
      ]
    },
    {
      "cell_type": "code",
      "metadata": {
        "id": "QTxfi5C4lVMD",
        "colab_type": "code",
        "colab": {}
      },
      "source": [
        "del p1.age"
      ],
      "execution_count": 0,
      "outputs": []
    },
    {
      "cell_type": "code",
      "metadata": {
        "id": "TU2nwqRelpxV",
        "colab_type": "code",
        "outputId": "6f306b22-506a-4f48-98ba-7bc966a180dd",
        "colab": {
          "base_uri": "https://localhost:8080/",
          "height": 163
        }
      },
      "source": [
        "p1.age"
      ],
      "execution_count": 0,
      "outputs": [
        {
          "output_type": "error",
          "ename": "AttributeError",
          "evalue": "ignored",
          "traceback": [
            "\u001b[0;31m---------------------------------------------------------------------------\u001b[0m",
            "\u001b[0;31mAttributeError\u001b[0m                            Traceback (most recent call last)",
            "\u001b[0;32m<ipython-input-207-bdf2744a45d7>\u001b[0m in \u001b[0;36m<module>\u001b[0;34m()\u001b[0m\n\u001b[0;32m----> 1\u001b[0;31m \u001b[0mp1\u001b[0m\u001b[0;34m.\u001b[0m\u001b[0mage\u001b[0m\u001b[0;34m\u001b[0m\u001b[0;34m\u001b[0m\u001b[0m\n\u001b[0m",
            "\u001b[0;31mAttributeError\u001b[0m: 'Person' object has no attribute 'age'"
          ]
        }
      ]
    },
    {
      "cell_type": "code",
      "metadata": {
        "id": "oa65IYMqlrIt",
        "colab_type": "code",
        "outputId": "fbae2930-4d0b-4106-b0a1-cb0d2a59a3fe",
        "colab": {
          "base_uri": "https://localhost:8080/",
          "height": 34
        }
      },
      "source": [
        "hasattr(p1,\"age\")   #since it was deleted.."
      ],
      "execution_count": 0,
      "outputs": [
        {
          "output_type": "execute_result",
          "data": {
            "text/plain": [
              "False"
            ]
          },
          "metadata": {
            "tags": []
          },
          "execution_count": 208
        }
      ]
    },
    {
      "cell_type": "code",
      "metadata": {
        "id": "WTs2i5TUnXFd",
        "colab_type": "code",
        "outputId": "373fd335-4d9b-4983-e828-8c7e1cff5000",
        "colab": {
          "base_uri": "https://localhost:8080/",
          "height": 34
        }
      },
      "source": [
        "hasattr(p1,\"alias\")  #has \"attr\"ibute"
      ],
      "execution_count": 0,
      "outputs": [
        {
          "output_type": "execute_result",
          "data": {
            "text/plain": [
              "True"
            ]
          },
          "metadata": {
            "tags": []
          },
          "execution_count": 209
        }
      ]
    },
    {
      "cell_type": "code",
      "metadata": {
        "id": "5RrXCbNKnfA8",
        "colab_type": "code",
        "outputId": "c8e8bfbd-0b4e-4e18-e054-266aad7b6552",
        "colab": {
          "base_uri": "https://localhost:8080/",
          "height": 136
        }
      },
      "source": [
        "help(hasattr) #you can also use the below method "
      ],
      "execution_count": 0,
      "outputs": [
        {
          "output_type": "stream",
          "text": [
            "Help on built-in function hasattr in module builtins:\n",
            "\n",
            "hasattr(obj, name, /)\n",
            "    Return whether the object has an attribute with the given name.\n",
            "    \n",
            "    This is done by calling getattr(obj, name) and catching AttributeError.\n",
            "\n"
          ],
          "name": "stdout"
        }
      ]
    },
    {
      "cell_type": "code",
      "metadata": {
        "id": "FqTaPkTHoqSE",
        "colab_type": "code",
        "colab": {}
      },
      "source": [
        "hasattr??"
      ],
      "execution_count": 0,
      "outputs": []
    },
    {
      "cell_type": "code",
      "metadata": {
        "id": "iwnf8xLupmba",
        "colab_type": "code",
        "outputId": "989fec74-b552-408b-bb89-7f1991159856",
        "colab": {
          "base_uri": "https://localhost:8080/",
          "height": 34
        }
      },
      "source": [
        "getattr(p2,\"age\")  #get \"attr\"ibute"
      ],
      "execution_count": 0,
      "outputs": [
        {
          "output_type": "execute_result",
          "data": {
            "text/plain": [
              "18"
            ]
          },
          "metadata": {
            "tags": []
          },
          "execution_count": 215
        }
      ]
    },
    {
      "cell_type": "code",
      "metadata": {
        "id": "1nyV5bAlqFew",
        "colab_type": "code",
        "colab": {}
      },
      "source": [
        "setattr(p2,\"age\",1)"
      ],
      "execution_count": 0,
      "outputs": []
    },
    {
      "cell_type": "code",
      "metadata": {
        "id": "u08f9dreqb7l",
        "colab_type": "code",
        "outputId": "0cc8fcc9-6f58-401b-a998-60a88b602d03",
        "colab": {
          "base_uri": "https://localhost:8080/",
          "height": 34
        }
      },
      "source": [
        "getattr(p2,\"age\")"
      ],
      "execution_count": 0,
      "outputs": [
        {
          "output_type": "execute_result",
          "data": {
            "text/plain": [
              "1"
            ]
          },
          "metadata": {
            "tags": []
          },
          "execution_count": 217
        }
      ]
    },
    {
      "cell_type": "code",
      "metadata": {
        "id": "_74034jEqeG2",
        "colab_type": "code",
        "colab": {}
      },
      "source": [
        "delattr(p2,\"age\")"
      ],
      "execution_count": 0,
      "outputs": []
    },
    {
      "cell_type": "code",
      "metadata": {
        "id": "zqpyi-yLqrEk",
        "colab_type": "code",
        "outputId": "724799a2-673f-4025-942b-ed0dbe3b46ca",
        "colab": {
          "base_uri": "https://localhost:8080/",
          "height": 163
        }
      },
      "source": [
        "print(p2.age)"
      ],
      "execution_count": 0,
      "outputs": [
        {
          "output_type": "error",
          "ename": "AttributeError",
          "evalue": "ignored",
          "traceback": [
            "\u001b[0;31m---------------------------------------------------------------------------\u001b[0m",
            "\u001b[0;31mAttributeError\u001b[0m                            Traceback (most recent call last)",
            "\u001b[0;32m<ipython-input-221-cd58ec4387c6>\u001b[0m in \u001b[0;36m<module>\u001b[0;34m()\u001b[0m\n\u001b[0;32m----> 1\u001b[0;31m \u001b[0mprint\u001b[0m\u001b[0;34m(\u001b[0m\u001b[0mp2\u001b[0m\u001b[0;34m.\u001b[0m\u001b[0mage\u001b[0m\u001b[0;34m)\u001b[0m\u001b[0;34m\u001b[0m\u001b[0;34m\u001b[0m\u001b[0m\n\u001b[0m",
            "\u001b[0;31mAttributeError\u001b[0m: 'Person' object has no attribute 'age'"
          ]
        }
      ]
    },
    {
      "cell_type": "markdown",
      "metadata": {
        "id": "R0q1AoTFrw9C",
        "colab_type": "text"
      },
      "source": [
        "##Inheritance of class"
      ]
    },
    {
      "cell_type": "code",
      "metadata": {
        "id": "JS6CQcHwr5y5",
        "colab_type": "code",
        "colab": {}
      },
      "source": [
        "class Parent:\n",
        "  number=10\n",
        "  \n",
        "  def __init__(self):\n",
        "    print(\"This is parent class\")\n",
        "    \n",
        "  def FirstFunc(self):\n",
        "    print(\"this is the first function of parent class\")\n",
        "    \n",
        "  def setAttr(self,attr):\n",
        "    Parent.parentAttribute= attr\n",
        "    \n",
        "  def getAttr(self):\n",
        "    print(\"Parent attribute:\",Parent.parentAttribute)\n",
        "    \n",
        "    \n",
        "class Child(Parent):\n",
        "  def __init__(self):\n",
        "    print(\"this is the child class\")\n",
        "    \n",
        "  def SecondFunc(self):\n",
        "    print(\"this is the second function of child class\")\n",
        "    \n",
        "    \n",
        "    \n",
        "    \n",
        "    "
      ],
      "execution_count": 0,
      "outputs": []
    },
    {
      "cell_type": "code",
      "metadata": {
        "id": "x5xOclrbvSdV",
        "colab_type": "code",
        "colab": {
          "base_uri": "https://localhost:8080/",
          "height": 34
        },
        "outputId": "53742ff3-be81-454c-e301-50258bde0b90"
      },
      "source": [
        "c1=Child()"
      ],
      "execution_count": 2,
      "outputs": [
        {
          "output_type": "stream",
          "text": [
            "this is the child class\n"
          ],
          "name": "stdout"
        }
      ]
    },
    {
      "cell_type": "code",
      "metadata": {
        "id": "QLDXWwxUwFrq",
        "colab_type": "code",
        "colab": {
          "base_uri": "https://localhost:8080/",
          "height": 68
        },
        "outputId": "0b3a0021-fa64-4a80-b608-de04f8a81f0b"
      },
      "source": [
        "c1.FirstFunc()\n",
        "c1.SecondFunc()\n",
        "c1.setAttr(200)\n",
        "c1.getAttr()"
      ],
      "execution_count": 5,
      "outputs": [
        {
          "output_type": "stream",
          "text": [
            "this is the first function of parent class\n",
            "this is the second function of child class\n",
            "Parent attribute: 200\n"
          ],
          "name": "stdout"
        }
      ]
    },
    {
      "cell_type": "code",
      "metadata": {
        "id": "tymqwyxuiFRi",
        "colab_type": "code",
        "colab": {}
      },
      "source": [
        "class Parent:\n",
        "  number=10\n",
        "  \n",
        "  def __init__(self):\n",
        "    print(\"This is parent class\")\n",
        "    \n",
        "  def FirstFunc(self):\n",
        "    print(\"this is the first function of parent class\")\n",
        "    \n",
        "  def setAttr(self,attr):\n",
        "    Parent.parentAttribute= attr\n",
        "    \n",
        "  def getAttr(self):\n",
        "    print(\"Parent attribute:\",Parent.parentAttribute)\n",
        "    \n",
        "    \n",
        "class Child(Parent):\n",
        "  def __init__(self):\n",
        "    print(\"this is the child class\")\n",
        "    \n",
        "  def FirstFunc(self):\n",
        "    print(\"changed\")\n",
        "    \n",
        "  def SecondFunc(self):\n",
        "    print(\"this is the second function of child class\")"
      ],
      "execution_count": 0,
      "outputs": []
    },
    {
      "cell_type": "code",
      "metadata": {
        "id": "QIPahyU7m7Tr",
        "colab_type": "code",
        "colab": {
          "base_uri": "https://localhost:8080/",
          "height": 34
        },
        "outputId": "60d9e579-8e95-4856-f07b-ccda711c930a"
      },
      "source": [
        "c1=Child()"
      ],
      "execution_count": 19,
      "outputs": [
        {
          "output_type": "stream",
          "text": [
            "this is the child class\n"
          ],
          "name": "stdout"
        }
      ]
    },
    {
      "cell_type": "code",
      "metadata": {
        "id": "QeD6A5n-i7L8",
        "colab_type": "code",
        "colab": {
          "base_uri": "https://localhost:8080/",
          "height": 68
        },
        "outputId": "560e940a-22b9-404d-9d49-6ba868f8beb2"
      },
      "source": [
        "c1.FirstFunc()   #child class overwrites parent class\n",
        "c1.SecondFunc()\n",
        "c1.setAttr(200)\n",
        "c1.getAttr()"
      ],
      "execution_count": 20,
      "outputs": [
        {
          "output_type": "stream",
          "text": [
            "changed\n",
            "this is the second function of child class\n",
            "Parent attribute: 200\n"
          ],
          "name": "stdout"
        }
      ]
    },
    {
      "cell_type": "markdown",
      "metadata": {
        "id": "FlpNzKFIr5OP",
        "colab_type": "text"
      },
      "source": [
        "##Time Management Functions"
      ]
    },
    {
      "cell_type": "code",
      "metadata": {
        "id": "AbkAd-W2mOfK",
        "colab_type": "code",
        "colab": {}
      },
      "source": [
        "import time"
      ],
      "execution_count": 0,
      "outputs": []
    },
    {
      "cell_type": "code",
      "metadata": {
        "id": "YP32TBQGtMIC",
        "colab_type": "code",
        "colab": {
          "base_uri": "https://localhost:8080/",
          "height": 34
        },
        "outputId": "bef96112-f01e-4abf-c511-16194aa7c8f5"
      },
      "source": [
        "print(time.time()) #This prints the time covered from 1970 to now"
      ],
      "execution_count": 24,
      "outputs": [
        {
          "output_type": "stream",
          "text": [
            "1559135605.4295483\n"
          ],
          "name": "stdout"
        }
      ]
    },
    {
      "cell_type": "code",
      "metadata": {
        "id": "C1zRg9iquZVM",
        "colab_type": "code",
        "colab": {
          "base_uri": "https://localhost:8080/",
          "height": 54
        },
        "outputId": "a14cc2aa-56d9-4c0d-947b-e1639882c570"
      },
      "source": [
        "print(time.localtime(time.time()))"
      ],
      "execution_count": 26,
      "outputs": [
        {
          "output_type": "stream",
          "text": [
            "time.struct_time(tm_year=2019, tm_mon=5, tm_mday=29, tm_hour=13, tm_min=15, tm_sec=16, tm_wday=2, tm_yday=149, tm_isdst=0)\n"
          ],
          "name": "stdout"
        }
      ]
    },
    {
      "cell_type": "markdown",
      "metadata": {
        "id": "_8LkLF5Uu21R",
        "colab_type": "text"
      },
      "source": [
        "for more clear info do as follows:"
      ]
    },
    {
      "cell_type": "code",
      "metadata": {
        "id": "yhG_D47Fuwpd",
        "colab_type": "code",
        "colab": {
          "base_uri": "https://localhost:8080/",
          "height": 34
        },
        "outputId": "35dcf656-7d23-4a25-e784-de589357cc3a"
      },
      "source": [
        "print(time.asctime(time.localtime(time.time())))"
      ],
      "execution_count": 27,
      "outputs": [
        {
          "output_type": "stream",
          "text": [
            "Wed May 29 13:16:57 2019\n"
          ],
          "name": "stdout"
        }
      ]
    },
    {
      "cell_type": "markdown",
      "metadata": {
        "id": "BEtFfyGKwu9B",
        "colab_type": "text"
      },
      "source": [
        "to customize:"
      ]
    },
    {
      "cell_type": "markdown",
      "metadata": {
        "id": "_G1okWCkxl35",
        "colab_type": "text"
      },
      "source": [
        "stream format time"
      ]
    },
    {
      "cell_type": "code",
      "metadata": {
        "id": "7LBqDcsQvWuR",
        "colab_type": "code",
        "colab": {
          "base_uri": "https://localhost:8080/",
          "height": 34
        },
        "outputId": "f62f112a-de5e-43f3-a7be-a3903c698ea2"
      },
      "source": [
        "print(time.strftime(\"%d-%m-%Y  %H:%M:%S\",time.localtime()))   "
      ],
      "execution_count": 33,
      "outputs": [
        {
          "output_type": "stream",
          "text": [
            "29-05-2019  13:26:07\n"
          ],
          "name": "stdout"
        }
      ]
    },
    {
      "cell_type": "markdown",
      "metadata": {
        "id": "gAhmYYg52Cy9",
        "colab_type": "text"
      },
      "source": [
        "For a calendar"
      ]
    },
    {
      "cell_type": "code",
      "metadata": {
        "id": "aodddqKvxPvX",
        "colab_type": "code",
        "colab": {}
      },
      "source": [
        "import calendar"
      ],
      "execution_count": 0,
      "outputs": []
    },
    {
      "cell_type": "code",
      "metadata": {
        "id": "UsR_D96LxTIY",
        "colab_type": "code",
        "colab": {
          "base_uri": "https://localhost:8080/",
          "height": 170
        },
        "outputId": "9252c41d-b33f-4317-b3e2-bb714c977f32"
      },
      "source": [
        "print(calendar.month(2000,7))"
      ],
      "execution_count": 38,
      "outputs": [
        {
          "output_type": "stream",
          "text": [
            "     July 2000\n",
            "Mo Tu We Th Fr Sa Su\n",
            "                1  2\n",
            " 3  4  5  6  7  8  9\n",
            "10 11 12 13 14 15 16\n",
            "17 18 19 20 21 22 23\n",
            "24 25 26 27 28 29 30\n",
            "31\n",
            "\n"
          ],
          "name": "stdout"
        }
      ]
    },
    {
      "cell_type": "markdown",
      "metadata": {
        "id": "vWKsNvkq2vdN",
        "colab_type": "text"
      },
      "source": [
        "print(help(function))- prints the manual for that particular func."
      ]
    },
    {
      "cell_type": "code",
      "metadata": {
        "id": "8esbcN_k2BW9",
        "colab_type": "code",
        "colab": {
          "base_uri": "https://localhost:8080/",
          "height": 119
        },
        "outputId": "5ac2cbd8-3cb3-4b80-ebf6-4570a9097587"
      },
      "source": [
        "print(help(calendar.month))"
      ],
      "execution_count": 41,
      "outputs": [
        {
          "output_type": "stream",
          "text": [
            "Help on method formatmonth in module calendar:\n",
            "\n",
            "formatmonth(theyear, themonth, w=0, l=0) method of calendar.TextCalendar instance\n",
            "    Return a month's calendar string (multi-line).\n",
            "\n",
            "None\n"
          ],
          "name": "stdout"
        }
      ]
    }
  ]
}